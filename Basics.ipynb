{
 "cells": [
  {
   "cell_type": "code",
   "execution_count": 1,
   "id": "d308a8e4",
   "metadata": {
    "slideshow": {
     "slide_type": "skip"
    }
   },
   "outputs": [
    {
     "data": {
      "text/plain": [
       "9"
      ]
     },
     "execution_count": 1,
     "metadata": {},
     "output_type": "execute_result"
    }
   ],
   "source": [
    "using Pkg\n",
    "Pkg.activate(\".\")\n",
    "Pkg.instantiate()\n",
    "ENV[\"LINES\"] = 9 # truncate IJulia display"
   ]
  },
  {
   "cell_type": "markdown",
   "id": "86876470",
   "metadata": {
    "slideshow": {
     "slide_type": "slide"
    }
   },
   "source": [
    "# Julia DESC Live Demo\n",
    "\n",
    "By Zack Li & Marius Millea\n",
    "\n",
    "(this talk draws heavily on rdeits/DetroitTechWatch2020.jl)\n",
    "\n",
    "* What is Julia?\n",
    "* Language basics\n",
    "* Julia is fast!\n",
    "* Automatic differentiation, GPUs, machine learning\n",
    "* Get more science done with Julia"
   ]
  },
  {
   "cell_type": "markdown",
   "id": "d0cc8d87",
   "metadata": {
    "slideshow": {
     "slide_type": "slide"
    }
   },
   "source": [
    "# What is Julia?\n",
    "\n",
    "* We want the speed of C.\n",
    "* We want to write in the obvious, familiar mathematical notation.\n",
    "* We want a language usable for general programming like Python\n",
    "* We want it interactive and we want it compiled.\n",
    "\n",
    "\n",
    "(Did we mention it should be as fast as C?)\n",
    "\n",
    "\n",
    "*From https://julialang.org/blog/2012/02/why-we-created-julia/*"
   ]
  },
  {
   "cell_type": "markdown",
   "id": "ff6a27b2",
   "metadata": {
    "slideshow": {
     "slide_type": "slide"
    }
   },
   "source": [
    "# The Basics"
   ]
  },
  {
   "cell_type": "markdown",
   "id": "3f2e8806",
   "metadata": {
    "slideshow": {
     "slide_type": "fragment"
    }
   },
   "source": [
    "Arithmetic"
   ]
  },
  {
   "cell_type": "code",
   "execution_count": 2,
   "id": "856ad888",
   "metadata": {
    "slideshow": {
     "slide_type": "-"
    }
   },
   "outputs": [
    {
     "data": {
      "text/plain": [
       "5"
      ]
     },
     "execution_count": 2,
     "metadata": {},
     "output_type": "execute_result"
    }
   ],
   "source": [
    "2 + 3"
   ]
  },
  {
   "cell_type": "markdown",
   "id": "700462eb",
   "metadata": {
    "slideshow": {
     "slide_type": "fragment"
    }
   },
   "source": [
    "Strings:"
   ]
  },
  {
   "cell_type": "code",
   "execution_count": 3,
   "id": "e9c9e280",
   "metadata": {
    "slideshow": {
     "slide_type": "-"
    }
   },
   "outputs": [
    {
     "name": "stdout",
     "output_type": "stream",
     "text": [
      "hello DESC"
     ]
    }
   ],
   "source": [
    "# Strings\n",
    "print(\"hello DESC\")"
   ]
  },
  {
   "cell_type": "markdown",
   "id": "58afc97b",
   "metadata": {
    "slideshow": {
     "slide_type": "subslide"
    }
   },
   "source": [
    "Arrays:"
   ]
  },
  {
   "cell_type": "code",
   "execution_count": 4,
   "id": "f8059057",
   "metadata": {
    "slideshow": {
     "slide_type": "fragment"
    }
   },
   "outputs": [
    {
     "data": {
      "text/plain": [
       "4-element Vector{Int64}:\n",
       " 1\n",
       " 2\n",
       " 3\n",
       " 4"
      ]
     },
     "execution_count": 4,
     "metadata": {},
     "output_type": "execute_result"
    }
   ],
   "source": [
    "A = [1, 2, 3, 4]"
   ]
  },
  {
   "cell_type": "markdown",
   "id": "b68d458d",
   "metadata": {
    "slideshow": {
     "slide_type": "slide"
    }
   },
   "source": [
    "# Functions\n",
    "\n",
    "Functions in Julia are \"generic\" by default. They accept any type."
   ]
  },
  {
   "cell_type": "code",
   "execution_count": 5,
   "id": "22928b63",
   "metadata": {
    "slideshow": {
     "slide_type": "fragment"
    }
   },
   "outputs": [
    {
     "data": {
      "text/plain": [
       "square (generic function with 1 method)"
      ]
     },
     "execution_count": 5,
     "metadata": {},
     "output_type": "execute_result"
    }
   ],
   "source": [
    "function square(x)\n",
    "    return x * x \n",
    "end"
   ]
  },
  {
   "cell_type": "code",
   "execution_count": 6,
   "id": "bc762999",
   "metadata": {
    "slideshow": {
     "slide_type": "fragment"
    }
   },
   "outputs": [
    {
     "data": {
      "text/plain": [
       "4"
      ]
     },
     "execution_count": 6,
     "metadata": {},
     "output_type": "execute_result"
    }
   ],
   "source": [
    "square(2)"
   ]
  },
  {
   "cell_type": "code",
   "execution_count": 7,
   "id": "85223a93",
   "metadata": {
    "slideshow": {
     "slide_type": "fragment"
    }
   },
   "outputs": [
    {
     "data": {
      "text/plain": [
       "\"hellohello\""
      ]
     },
     "execution_count": 7,
     "metadata": {},
     "output_type": "execute_result"
    }
   ],
   "source": [
    "square(\"hello\")"
   ]
  },
  {
   "cell_type": "markdown",
   "id": "7fe9a25d",
   "metadata": {
    "slideshow": {
     "slide_type": "slide"
    }
   },
   "source": [
    "# Why is Julia fast?\n",
    "\n",
    "Julia will compile native-machine code into memory, right when it is needed, also known as Just-In-Time (JIT) compilation."
   ]
  },
  {
   "cell_type": "code",
   "execution_count": 8,
   "id": "ed1b9c4f",
   "metadata": {
    "slideshow": {
     "slide_type": "fragment"
    }
   },
   "outputs": [
    {
     "data": {
      "text/plain": [
       "4"
      ]
     },
     "execution_count": 8,
     "metadata": {},
     "output_type": "execute_result"
    }
   ],
   "source": [
    "square(2)"
   ]
  },
  {
   "cell_type": "code",
   "execution_count": 9,
   "id": "3a4a5bcd",
   "metadata": {
    "slideshow": {
     "slide_type": "subslide"
    }
   },
   "outputs": [
    {
     "name": "stdout",
     "output_type": "stream",
     "text": [
      "\t\u001b[0m.text\n",
      "\u001b[90m; ┌ @ In[5]:1 within `square'\u001b[39m\n",
      "\t\u001b[96m\u001b[1mmovq\u001b[22m\u001b[39m\t\u001b[0m%rdi\u001b[0m, \u001b[0m%rax\n",
      "\u001b[90m; │ @ In[5]:2 within `square'\u001b[39m\n",
      "\u001b[90m; │┌ @ int.jl:88 within `*'\u001b[39m\n",
      "\t\u001b[96m\u001b[1mimulq\u001b[22m\u001b[39m\t\u001b[0m%rdi\u001b[0m, \u001b[0m%rax\n",
      "\u001b[90m; │└\u001b[39m\n",
      "\t\u001b[96m\u001b[1mretq\u001b[22m\u001b[39m\n",
      "\t\u001b[96m\u001b[1mnopl\u001b[22m\u001b[39m\t\u001b[33m(\u001b[39m\u001b[0m%rax\u001b[0m,\u001b[0m%rax\u001b[33m)\u001b[39m\n",
      "\u001b[90m; └\u001b[39m\n"
     ]
    }
   ],
   "source": [
    "@code_native square(2)"
   ]
  },
  {
   "cell_type": "markdown",
   "id": "e82f5d0c",
   "metadata": {
    "slideshow": {
     "slide_type": "fragment"
    }
   },
   "source": [
    "These are x86 *hardware instructions*. This function has been compiled into the same form that a C or Fortran function would be."
   ]
  },
  {
   "cell_type": "code",
   "execution_count": 10,
   "id": "aec6e3a6",
   "metadata": {
    "slideshow": {
     "slide_type": "slide"
    }
   },
   "outputs": [
    {
     "data": {
      "text/plain": [
       "3×3 Matrix{Float64}:\n",
       " 83.75  30.5   31.5\n",
       "  9.5   67.25  15.0\n",
       " 16.25  36.5   40.5"
      ]
     },
     "execution_count": 10,
     "metadata": {},
     "output_type": "execute_result"
    }
   ],
   "source": [
    "A = [9.0  1.5  2.0;\n",
    "     0.5  8.0  1.0;\n",
    "     1.0  2.5  6.0]\n",
    "\n",
    "square(A)"
   ]
  },
  {
   "cell_type": "markdown",
   "id": "db4964f1",
   "metadata": {
    "slideshow": {
     "slide_type": "slide"
    }
   },
   "source": [
    "# Types\n",
    "\n",
    "Julia can compile code dynamically because it is **typed**. The compiler is able to generate optimized machine code as long as it knows what types are involved."
   ]
  },
  {
   "cell_type": "code",
   "execution_count": 11,
   "id": "d2d6923a",
   "metadata": {
    "slideshow": {
     "slide_type": "fragment"
    }
   },
   "outputs": [
    {
     "data": {
      "text/plain": [
       "Float64"
      ]
     },
     "execution_count": 11,
     "metadata": {},
     "output_type": "execute_result"
    }
   ],
   "source": [
    "typeof(2.0)"
   ]
  },
  {
   "cell_type": "markdown",
   "id": "eb789c64",
   "metadata": {
    "slideshow": {
     "slide_type": "slide"
    }
   },
   "source": [
    "# Loops \n",
    "\n",
    "To perform elementwise operations on vectors, we could write a simple loop."
   ]
  },
  {
   "cell_type": "code",
   "execution_count": 12,
   "id": "0efeef07",
   "metadata": {
    "slideshow": {
     "slide_type": "fragment"
    }
   },
   "outputs": [
    {
     "data": {
      "text/plain": [
       "3-element Vector{Int64}:\n",
       " 1\n",
       " 4\n",
       " 9"
      ]
     },
     "execution_count": 12,
     "metadata": {},
     "output_type": "execute_result"
    }
   ],
   "source": [
    "function elementwise_square_vector(v)\n",
    "    # make an array of the same size\n",
    "    result = similar(v) \n",
    "    \n",
    "    # loop over and square each element\n",
    "    for i in 1:length(v)\n",
    "        result[i] = v[i]^2\n",
    "    end\n",
    "    \n",
    "    return result\n",
    "end\n",
    "\n",
    "elementwise_square_vector([1, 2, 3])"
   ]
  },
  {
   "cell_type": "markdown",
   "id": "b9eb5aa2",
   "metadata": {
    "slideshow": {
     "slide_type": "slide"
    }
   },
   "source": [
    "Julia has a special \"dot\" syntax (called broadcasting), which performs elementwise operations."
   ]
  },
  {
   "cell_type": "code",
   "execution_count": 13,
   "id": "1852ad31",
   "metadata": {
    "slideshow": {
     "slide_type": "fragment"
    }
   },
   "outputs": [
    {
     "data": {
      "text/plain": [
       "3-element Vector{Int64}:\n",
       " 1\n",
       " 4\n",
       " 9"
      ]
     },
     "execution_count": 13,
     "metadata": {},
     "output_type": "execute_result"
    }
   ],
   "source": [
    "x = [1, -2, 3]\n",
    "\n",
    "x .^ 2"
   ]
  },
  {
   "cell_type": "markdown",
   "id": "6ab3b413",
   "metadata": {
    "slideshow": {
     "slide_type": "slide"
    }
   },
   "source": [
    "Broadcasting extends to arbitirary functions. A common function used in machine learning is the relu, defined as $$\n",
    "\\text{relu}(x) = \\begin{cases}\n",
    "    x     & x > 0 \\\\\n",
    "    0,              & \\text{otherwise}.\n",
    "\\end{cases}$$"
   ]
  },
  {
   "cell_type": "code",
   "execution_count": 14,
   "id": "1e289009",
   "metadata": {
    "slideshow": {
     "slide_type": "fragment"
    }
   },
   "outputs": [
    {
     "data": {
      "text/plain": [
       "relu (generic function with 1 method)"
      ]
     },
     "execution_count": 14,
     "metadata": {},
     "output_type": "execute_result"
    }
   ],
   "source": [
    "function relu(x)\n",
    "    if x > 0\n",
    "        x\n",
    "    else\n",
    "        zero(x)   # a \"0\" of the same type as x\n",
    "    end\n",
    "end"
   ]
  },
  {
   "cell_type": "code",
   "execution_count": 15,
   "id": "648f3644",
   "metadata": {
    "slideshow": {
     "slide_type": "fragment"
    }
   },
   "outputs": [
    {
     "data": {
      "text/plain": [
       "3-element Vector{Int64}:\n",
       " 1\n",
       " 0\n",
       " 3"
      ]
     },
     "execution_count": 15,
     "metadata": {},
     "output_type": "execute_result"
    }
   ],
   "source": [
    "relu.(x)"
   ]
  },
  {
   "cell_type": "markdown",
   "id": "0514b562",
   "metadata": {
    "slideshow": {
     "slide_type": "slide"
    }
   },
   "source": [
    "# Package Management\n",
    "\n",
    "Julia has an excellent package manager. To access the methods of a package, just write `using`. "
   ]
  },
  {
   "cell_type": "code",
   "execution_count": 16,
   "id": "41c8db88",
   "metadata": {
    "slideshow": {
     "slide_type": "fragment"
    }
   },
   "outputs": [
    {
     "data": {
      "text/plain": [
       "393.0"
      ]
     },
     "execution_count": 16,
     "metadata": {},
     "output_type": "execute_result"
    }
   ],
   "source": [
    "using LinearAlgebra\n",
    "\n",
    "A = [9.0  1.5  2.0;\n",
    "     0.5  8.0  1.0;\n",
    "     1.0  2.5  6.0]\n",
    "\n",
    "det(A)"
   ]
  },
  {
   "cell_type": "markdown",
   "id": "3b20e40b",
   "metadata": {
    "slideshow": {
     "slide_type": "slide"
    }
   },
   "source": [
    "# Python Interoperation\n",
    "\n",
    "You can easily call Python from Julia, and similarly call Julia from Python. There is also a nicer wrapping of matplotlib called `PyPlot` which lets you use the plotting syntax you're used to."
   ]
  },
  {
   "cell_type": "code",
   "execution_count": 17,
   "id": "7ae5e1c6",
   "metadata": {
    "slideshow": {
     "slide_type": "skip"
    }
   },
   "outputs": [],
   "source": [
    "using PyPlot; PyPlot.svg(true);  # I develop on a hidpi screen"
   ]
  },
  {
   "cell_type": "code",
   "execution_count": 18,
   "id": "a1742a3b",
   "metadata": {
    "slideshow": {
     "slide_type": "fragment"
    }
   },
   "outputs": [
    {
     "data": {
      "image/png": "[encoded data removed]",
      "image/svg+xml": [
       "<?xml version=\"1.0\" encoding=\"utf-8\" standalone=\"no\"?>\n",
       "<!DOCTYPE svg PUBLIC \"-//W3C//DTD SVG 1.1//EN\"\n",
       "  \"http://www.w3.org/Graphics/SVG/1.1/DTD/svg11.dtd\">\n",
       "<!-- Created with matplotlib (https://matplotlib.org/) -->\n",
       "<svg height=\"297.190125pt\" version=\"1.1\" viewBox=\"0 0 409.165312 297.190125\" width=\"409.165312pt\" xmlns=\"http://www.w3.org/2000/svg\" xmlns:xlink=\"http://www.w3.org/1999/xlink\">\n",
       " <metadata>\n",
       "  <rdf:RDF xmlns:cc=\"http://creativecommons.org/ns#\" xmlns:dc=\"http://purl.org/dc/elements/1.1/\" xmlns:rdf=\"http://www.w3.org/1999/02/22-rdf-syntax-ns#\">\n",
       "   <cc:Work>\n",
       "    <dc:type rdf:resource=\"http://purl.org/dc/dcmitype/StillImage\"/>\n",
       "    <dc:date>2021-07-22T12:27:55.810021</dc:date>\n",
       "    <dc:format>image/svg+xml</dc:format>\n",
       "    <dc:creator>\n",
       "     <cc:Agent>\n",
       "      <dc:title>Matplotlib v3.3.4, https://matplotlib.org/</dc:title>\n",
       "     </cc:Agent>\n",
       "    </dc:creator>\n",
       "   </cc:Work>\n",
       "  </rdf:RDF>\n",
       " </metadata>\n",
       " <defs>\n",
       "  <style type=\"text/css\">*{stroke-linecap:butt;stroke-linejoin:round;}</style>\n",
       " </defs>\n",
       " <g id=\"figure_1\">\n",
       "  <g id=\"patch_1\">\n",
       "   <path d=\"M 0 297.190125 \n",
       "L 409.165312 297.190125 \n",
       "L 409.165312 0 \n",
       "L 0 0 \n",
       "z\n",
       "\" style=\"fill:#ffffff;\"/>\n",
       "  </g>\n",
       "  <g id=\"axes_1\">\n",
       "   <g id=\"patch_2\">\n",
       "    <path d=\"M 44.845313 273.312 \n",
       "L 401.965312 273.312 \n",
       "L 401.965312 7.2 \n",
       "L 44.845313 7.2 \n",
       "z\n",
       "\" style=\"fill:#ffffff;\"/>\n",
       "   </g>\n",
       "   <g id=\"matplotlib.axis_1\">\n",
       "    <g id=\"xtick_1\">\n",
       "     <g id=\"line2d_1\">\n",
       "      <defs>\n",
       "       <path d=\"M 0 0 \n",
       "L 0 3.5 \n",
       "\" id=\"mc0f79070d3\" style=\"stroke:#000000;stroke-width:0.8;\"/>\n",
       "      </defs>\n",
       "      <g>\n",
       "       <use style=\"stroke:#000000;stroke-width:0.8;\" x=\"61.07804\" xlink:href=\"#mc0f79070d3\" y=\"273.312\"/>\n",
       "      </g>\n",
       "     </g>\n",
       "     <g id=\"text_1\">\n",
       "      <!-- 0 -->\n",
       "      <g transform=\"translate(57.89679 287.910437)scale(0.1 -0.1)\">\n",
       "       <defs>\n",
       "        <path d=\"M 31.78125 66.40625 \n",
       "Q 24.171875 66.40625 20.328125 58.90625 \n",
       "Q 16.5 51.421875 16.5 36.375 \n",
       "Q 16.5 21.390625 20.328125 13.890625 \n",
       "Q 24.171875 6.390625 31.78125 6.390625 \n",
       "Q 39.453125 6.390625 43.28125 13.890625 \n",
       "Q 47.125 21.390625 47.125 36.375 \n",
       "Q 47.125 51.421875 43.28125 58.90625 \n",
       "Q 39.453125 66.40625 31.78125 66.40625 \n",
       "z\n",
       "M 31.78125 74.21875 \n",
       "Q 44.046875 74.21875 50.515625 64.515625 \n",
       "Q 56.984375 54.828125 56.984375 36.375 \n",
       "Q 56.984375 17.96875 50.515625 8.265625 \n",
       "Q 44.046875 -1.421875 31.78125 -1.421875 \n",
       "Q 19.53125 -1.421875 13.0625 8.265625 \n",
       "Q 6.59375 17.96875 6.59375 36.375 \n",
       "Q 6.59375 54.828125 13.0625 64.515625 \n",
       "Q 19.53125 74.21875 31.78125 74.21875 \n",
       "z\n",
       "\" id=\"DejaVuSans-48\"/>\n",
       "       </defs>\n",
       "       <use xlink:href=\"#DejaVuSans-48\"/>\n",
       "      </g>\n",
       "     </g>\n",
       "    </g>\n",
       "    <g id=\"xtick_2\">\n",
       "     <g id=\"line2d_2\">\n",
       "      <g>\n",
       "       <use style=\"stroke:#000000;stroke-width:0.8;\" x=\"112.748415\" xlink:href=\"#mc0f79070d3\" y=\"273.312\"/>\n",
       "      </g>\n",
       "     </g>\n",
       "     <g id=\"text_2\">\n",
       "      <!-- 1 -->\n",
       "      <g transform=\"translate(109.567165 287.910437)scale(0.1 -0.1)\">\n",
       "       <defs>\n",
       "        <path d=\"M 12.40625 8.296875 \n",
       "L 28.515625 8.296875 \n",
       "L 28.515625 63.921875 \n",
       "L 10.984375 60.40625 \n",
       "L 10.984375 69.390625 \n",
       "L 28.421875 72.90625 \n",
       "L 38.28125 72.90625 \n",
       "L 38.28125 8.296875 \n",
       "L 54.390625 8.296875 \n",
       "L 54.390625 0 \n",
       "L 12.40625 0 \n",
       "z\n",
       "\" id=\"DejaVuSans-49\"/>\n",
       "       </defs>\n",
       "       <use xlink:href=\"#DejaVuSans-49\"/>\n",
       "      </g>\n",
       "     </g>\n",
       "    </g>\n",
       "    <g id=\"xtick_3\">\n",
       "     <g id=\"line2d_3\">\n",
       "      <g>\n",
       "       <use style=\"stroke:#000000;stroke-width:0.8;\" x=\"164.418791\" xlink:href=\"#mc0f79070d3\" y=\"273.312\"/>\n",
       "      </g>\n",
       "     </g>\n",
       "     <g id=\"text_3\">\n",
       "      <!-- 2 -->\n",
       "      <g transform=\"translate(161.237541 287.910437)scale(0.1 -0.1)\">\n",
       "       <defs>\n",
       "        <path d=\"M 19.1875 8.296875 \n",
       "L 53.609375 8.296875 \n",
       "L 53.609375 0 \n",
       "L 7.328125 0 \n",
       "L 7.328125 8.296875 \n",
       "Q 12.9375 14.109375 22.625 23.890625 \n",
       "Q 32.328125 33.6875 34.8125 36.53125 \n",
       "Q 39.546875 41.84375 41.421875 45.53125 \n",
       "Q 43.3125 49.21875 43.3125 52.78125 \n",
       "Q 43.3125 58.59375 39.234375 62.25 \n",
       "Q 35.15625 65.921875 28.609375 65.921875 \n",
       "Q 23.96875 65.921875 18.8125 64.3125 \n",
       "Q 13.671875 62.703125 7.8125 59.421875 \n",
       "L 7.8125 69.390625 \n",
       "Q 13.765625 71.78125 18.9375 73 \n",
       "Q 24.125 74.21875 28.421875 74.21875 \n",
       "Q 39.75 74.21875 46.484375 68.546875 \n",
       "Q 53.21875 62.890625 53.21875 53.421875 \n",
       "Q 53.21875 48.921875 51.53125 44.890625 \n",
       "Q 49.859375 40.875 45.40625 35.40625 \n",
       "Q 44.1875 33.984375 37.640625 27.21875 \n",
       "Q 31.109375 20.453125 19.1875 8.296875 \n",
       "z\n",
       "\" id=\"DejaVuSans-50\"/>\n",
       "       </defs>\n",
       "       <use xlink:href=\"#DejaVuSans-50\"/>\n",
       "      </g>\n",
       "     </g>\n",
       "    </g>\n",
       "    <g id=\"xtick_4\">\n",
       "     <g id=\"line2d_4\">\n",
       "      <g>\n",
       "       <use style=\"stroke:#000000;stroke-width:0.8;\" x=\"216.089167\" xlink:href=\"#mc0f79070d3\" y=\"273.312\"/>\n",
       "      </g>\n",
       "     </g>\n",
       "     <g id=\"text_4\">\n",
       "      <!-- 3 -->\n",
       "      <g transform=\"translate(212.907917 287.910437)scale(0.1 -0.1)\">\n",
       "       <defs>\n",
       "        <path d=\"M 40.578125 39.3125 \n",
       "Q 47.65625 37.796875 51.625 33 \n",
       "Q 55.609375 28.21875 55.609375 21.1875 \n",
       "Q 55.609375 10.40625 48.1875 4.484375 \n",
       "Q 40.765625 -1.421875 27.09375 -1.421875 \n",
       "Q 22.515625 -1.421875 17.65625 -0.515625 \n",
       "Q 12.796875 0.390625 7.625 2.203125 \n",
       "L 7.625 11.71875 \n",
       "Q 11.71875 9.328125 16.59375 8.109375 \n",
       "Q 21.484375 6.890625 26.8125 6.890625 \n",
       "Q 36.078125 6.890625 40.9375 10.546875 \n",
       "Q 45.796875 14.203125 45.796875 21.1875 \n",
       "Q 45.796875 27.640625 41.28125 31.265625 \n",
       "Q 36.765625 34.90625 28.71875 34.90625 \n",
       "L 20.21875 34.90625 \n",
       "L 20.21875 43.015625 \n",
       "L 29.109375 43.015625 \n",
       "Q 36.375 43.015625 40.234375 45.921875 \n",
       "Q 44.09375 48.828125 44.09375 54.296875 \n",
       "Q 44.09375 59.90625 40.109375 62.90625 \n",
       "Q 36.140625 65.921875 28.71875 65.921875 \n",
       "Q 24.65625 65.921875 20.015625 65.03125 \n",
       "Q 15.375 64.15625 9.8125 62.3125 \n",
       "L 9.8125 71.09375 \n",
       "Q 15.4375 72.65625 20.34375 73.4375 \n",
       "Q 25.25 74.21875 29.59375 74.21875 \n",
       "Q 40.828125 74.21875 47.359375 69.109375 \n",
       "Q 53.90625 64.015625 53.90625 55.328125 \n",
       "Q 53.90625 49.265625 50.4375 45.09375 \n",
       "Q 46.96875 40.921875 40.578125 39.3125 \n",
       "z\n",
       "\" id=\"DejaVuSans-51\"/>\n",
       "       </defs>\n",
       "       <use xlink:href=\"#DejaVuSans-51\"/>\n",
       "      </g>\n",
       "     </g>\n",
       "    </g>\n",
       "    <g id=\"xtick_5\">\n",
       "     <g id=\"line2d_5\">\n",
       "      <g>\n",
       "       <use style=\"stroke:#000000;stroke-width:0.8;\" x=\"267.759543\" xlink:href=\"#mc0f79070d3\" y=\"273.312\"/>\n",
       "      </g>\n",
       "     </g>\n",
       "     <g id=\"text_5\">\n",
       "      <!-- 4 -->\n",
       "      <g transform=\"translate(264.578293 287.910437)scale(0.1 -0.1)\">\n",
       "       <defs>\n",
       "        <path d=\"M 37.796875 64.3125 \n",
       "L 12.890625 25.390625 \n",
       "L 37.796875 25.390625 \n",
       "z\n",
       "M 35.203125 72.90625 \n",
       "L 47.609375 72.90625 \n",
       "L 47.609375 25.390625 \n",
       "L 58.015625 25.390625 \n",
       "L 58.015625 17.1875 \n",
       "L 47.609375 17.1875 \n",
       "L 47.609375 0 \n",
       "L 37.796875 0 \n",
       "L 37.796875 17.1875 \n",
       "L 4.890625 17.1875 \n",
       "L 4.890625 26.703125 \n",
       "z\n",
       "\" id=\"DejaVuSans-52\"/>\n",
       "       </defs>\n",
       "       <use xlink:href=\"#DejaVuSans-52\"/>\n",
       "      </g>\n",
       "     </g>\n",
       "    </g>\n",
       "    <g id=\"xtick_6\">\n",
       "     <g id=\"line2d_6\">\n",
       "      <g>\n",
       "       <use style=\"stroke:#000000;stroke-width:0.8;\" x=\"319.429918\" xlink:href=\"#mc0f79070d3\" y=\"273.312\"/>\n",
       "      </g>\n",
       "     </g>\n",
       "     <g id=\"text_6\">\n",
       "      <!-- 5 -->\n",
       "      <g transform=\"translate(316.248668 287.910437)scale(0.1 -0.1)\">\n",
       "       <defs>\n",
       "        <path d=\"M 10.796875 72.90625 \n",
       "L 49.515625 72.90625 \n",
       "L 49.515625 64.59375 \n",
       "L 19.828125 64.59375 \n",
       "L 19.828125 46.734375 \n",
       "Q 21.96875 47.46875 24.109375 47.828125 \n",
       "Q 26.265625 48.1875 28.421875 48.1875 \n",
       "Q 40.625 48.1875 47.75 41.5 \n",
       "Q 54.890625 34.8125 54.890625 23.390625 \n",
       "Q 54.890625 11.625 47.5625 5.09375 \n",
       "Q 40.234375 -1.421875 26.90625 -1.421875 \n",
       "Q 22.3125 -1.421875 17.546875 -0.640625 \n",
       "Q 12.796875 0.140625 7.71875 1.703125 \n",
       "L 7.71875 11.625 \n",
       "Q 12.109375 9.234375 16.796875 8.0625 \n",
       "Q 21.484375 6.890625 26.703125 6.890625 \n",
       "Q 35.15625 6.890625 40.078125 11.328125 \n",
       "Q 45.015625 15.765625 45.015625 23.390625 \n",
       "Q 45.015625 31 40.078125 35.4375 \n",
       "Q 35.15625 39.890625 26.703125 39.890625 \n",
       "Q 22.75 39.890625 18.8125 39.015625 \n",
       "Q 14.890625 38.140625 10.796875 36.28125 \n",
       "z\n",
       "\" id=\"DejaVuSans-53\"/>\n",
       "       </defs>\n",
       "       <use xlink:href=\"#DejaVuSans-53\"/>\n",
       "      </g>\n",
       "     </g>\n",
       "    </g>\n",
       "    <g id=\"xtick_7\">\n",
       "     <g id=\"line2d_7\">\n",
       "      <g>\n",
       "       <use style=\"stroke:#000000;stroke-width:0.8;\" x=\"371.100294\" xlink:href=\"#mc0f79070d3\" y=\"273.312\"/>\n",
       "      </g>\n",
       "     </g>\n",
       "     <g id=\"text_7\">\n",
       "      <!-- 6 -->\n",
       "      <g transform=\"translate(367.919044 287.910437)scale(0.1 -0.1)\">\n",
       "       <defs>\n",
       "        <path d=\"M 33.015625 40.375 \n",
       "Q 26.375 40.375 22.484375 35.828125 \n",
       "Q 18.609375 31.296875 18.609375 23.390625 \n",
       "Q 18.609375 15.53125 22.484375 10.953125 \n",
       "Q 26.375 6.390625 33.015625 6.390625 \n",
       "Q 39.65625 6.390625 43.53125 10.953125 \n",
       "Q 47.40625 15.53125 47.40625 23.390625 \n",
       "Q 47.40625 31.296875 43.53125 35.828125 \n",
       "Q 39.65625 40.375 33.015625 40.375 \n",
       "z\n",
       "M 52.59375 71.296875 \n",
       "L 52.59375 62.3125 \n",
       "Q 48.875 64.0625 45.09375 64.984375 \n",
       "Q 41.3125 65.921875 37.59375 65.921875 \n",
       "Q 27.828125 65.921875 22.671875 59.328125 \n",
       "Q 17.53125 52.734375 16.796875 39.40625 \n",
       "Q 19.671875 43.65625 24.015625 45.921875 \n",
       "Q 28.375 48.1875 33.59375 48.1875 \n",
       "Q 44.578125 48.1875 50.953125 41.515625 \n",
       "Q 57.328125 34.859375 57.328125 23.390625 \n",
       "Q 57.328125 12.15625 50.6875 5.359375 \n",
       "Q 44.046875 -1.421875 33.015625 -1.421875 \n",
       "Q 20.359375 -1.421875 13.671875 8.265625 \n",
       "Q 6.984375 17.96875 6.984375 36.375 \n",
       "Q 6.984375 53.65625 15.1875 63.9375 \n",
       "Q 23.390625 74.21875 37.203125 74.21875 \n",
       "Q 40.921875 74.21875 44.703125 73.484375 \n",
       "Q 48.484375 72.75 52.59375 71.296875 \n",
       "z\n",
       "\" id=\"DejaVuSans-54\"/>\n",
       "       </defs>\n",
       "       <use xlink:href=\"#DejaVuSans-54\"/>\n",
       "      </g>\n",
       "     </g>\n",
       "    </g>\n",
       "   </g>\n",
       "   <g id=\"matplotlib.axis_2\">\n",
       "    <g id=\"ytick_1\">\n",
       "     <g id=\"line2d_8\">\n",
       "      <defs>\n",
       "       <path d=\"M 0 0 \n",
       "L -3.5 0 \n",
       "\" id=\"m52afa0c913\" style=\"stroke:#000000;stroke-width:0.8;\"/>\n",
       "      </defs>\n",
       "      <g>\n",
       "       <use style=\"stroke:#000000;stroke-width:0.8;\" x=\"44.845313\" xlink:href=\"#m52afa0c913\" y=\"261.231227\"/>\n",
       "      </g>\n",
       "     </g>\n",
       "     <g id=\"text_8\">\n",
       "      <!-- −1.00 -->\n",
       "      <g transform=\"translate(7.2 265.030446)scale(0.1 -0.1)\">\n",
       "       <defs>\n",
       "        <path d=\"M 10.59375 35.5 \n",
       "L 73.1875 35.5 \n",
       "L 73.1875 27.203125 \n",
       "L 10.59375 27.203125 \n",
       "z\n",
       "\" id=\"DejaVuSans-8722\"/>\n",
       "        <path d=\"M 10.6875 12.40625 \n",
       "L 21 12.40625 \n",
       "L 21 0 \n",
       "L 10.6875 0 \n",
       "z\n",
       "\" id=\"DejaVuSans-46\"/>\n",
       "       </defs>\n",
       "       <use xlink:href=\"#DejaVuSans-8722\"/>\n",
       "       <use x=\"83.789062\" xlink:href=\"#DejaVuSans-49\"/>\n",
       "       <use x=\"147.412109\" xlink:href=\"#DejaVuSans-46\"/>\n",
       "       <use x=\"179.199219\" xlink:href=\"#DejaVuSans-48\"/>\n",
       "       <use x=\"242.822266\" xlink:href=\"#DejaVuSans-48\"/>\n",
       "      </g>\n",
       "     </g>\n",
       "    </g>\n",
       "    <g id=\"ytick_2\">\n",
       "     <g id=\"line2d_9\">\n",
       "      <g>\n",
       "       <use style=\"stroke:#000000;stroke-width:0.8;\" x=\"44.845313\" xlink:href=\"#m52afa0c913\" y=\"230.987421\"/>\n",
       "      </g>\n",
       "     </g>\n",
       "     <g id=\"text_9\">\n",
       "      <!-- −0.75 -->\n",
       "      <g transform=\"translate(7.2 234.786639)scale(0.1 -0.1)\">\n",
       "       <defs>\n",
       "        <path d=\"M 8.203125 72.90625 \n",
       "L 55.078125 72.90625 \n",
       "L 55.078125 68.703125 \n",
       "L 28.609375 0 \n",
       "L 18.3125 0 \n",
       "L 43.21875 64.59375 \n",
       "L 8.203125 64.59375 \n",
       "z\n",
       "\" id=\"DejaVuSans-55\"/>\n",
       "       </defs>\n",
       "       <use xlink:href=\"#DejaVuSans-8722\"/>\n",
       "       <use x=\"83.789062\" xlink:href=\"#DejaVuSans-48\"/>\n",
       "       <use x=\"147.412109\" xlink:href=\"#DejaVuSans-46\"/>\n",
       "       <use x=\"179.199219\" xlink:href=\"#DejaVuSans-55\"/>\n",
       "       <use x=\"242.822266\" xlink:href=\"#DejaVuSans-53\"/>\n",
       "      </g>\n",
       "     </g>\n",
       "    </g>\n",
       "    <g id=\"ytick_3\">\n",
       "     <g id=\"line2d_10\">\n",
       "      <g>\n",
       "       <use style=\"stroke:#000000;stroke-width:0.8;\" x=\"44.845313\" xlink:href=\"#m52afa0c913\" y=\"200.743614\"/>\n",
       "      </g>\n",
       "     </g>\n",
       "     <g id=\"text_10\">\n",
       "      <!-- −0.50 -->\n",
       "      <g transform=\"translate(7.2 204.542832)scale(0.1 -0.1)\">\n",
       "       <use xlink:href=\"#DejaVuSans-8722\"/>\n",
       "       <use x=\"83.789062\" xlink:href=\"#DejaVuSans-48\"/>\n",
       "       <use x=\"147.412109\" xlink:href=\"#DejaVuSans-46\"/>\n",
       "       <use x=\"179.199219\" xlink:href=\"#DejaVuSans-53\"/>\n",
       "       <use x=\"242.822266\" xlink:href=\"#DejaVuSans-48\"/>\n",
       "      </g>\n",
       "     </g>\n",
       "    </g>\n",
       "    <g id=\"ytick_4\">\n",
       "     <g id=\"line2d_11\">\n",
       "      <g>\n",
       "       <use style=\"stroke:#000000;stroke-width:0.8;\" x=\"44.845313\" xlink:href=\"#m52afa0c913\" y=\"170.499807\"/>\n",
       "      </g>\n",
       "     </g>\n",
       "     <g id=\"text_11\">\n",
       "      <!-- −0.25 -->\n",
       "      <g transform=\"translate(7.2 174.299026)scale(0.1 -0.1)\">\n",
       "       <use xlink:href=\"#DejaVuSans-8722\"/>\n",
       "       <use x=\"83.789062\" xlink:href=\"#DejaVuSans-48\"/>\n",
       "       <use x=\"147.412109\" xlink:href=\"#DejaVuSans-46\"/>\n",
       "       <use x=\"179.199219\" xlink:href=\"#DejaVuSans-50\"/>\n",
       "       <use x=\"242.822266\" xlink:href=\"#DejaVuSans-53\"/>\n",
       "      </g>\n",
       "     </g>\n",
       "    </g>\n",
       "    <g id=\"ytick_5\">\n",
       "     <g id=\"line2d_12\">\n",
       "      <g>\n",
       "       <use style=\"stroke:#000000;stroke-width:0.8;\" x=\"44.845313\" xlink:href=\"#m52afa0c913\" y=\"140.256\"/>\n",
       "      </g>\n",
       "     </g>\n",
       "     <g id=\"text_12\">\n",
       "      <!-- 0.00 -->\n",
       "      <g transform=\"translate(15.579688 144.055219)scale(0.1 -0.1)\">\n",
       "       <use xlink:href=\"#DejaVuSans-48\"/>\n",
       "       <use x=\"63.623047\" xlink:href=\"#DejaVuSans-46\"/>\n",
       "       <use x=\"95.410156\" xlink:href=\"#DejaVuSans-48\"/>\n",
       "       <use x=\"159.033203\" xlink:href=\"#DejaVuSans-48\"/>\n",
       "      </g>\n",
       "     </g>\n",
       "    </g>\n",
       "    <g id=\"ytick_6\">\n",
       "     <g id=\"line2d_13\">\n",
       "      <g>\n",
       "       <use style=\"stroke:#000000;stroke-width:0.8;\" x=\"44.845313\" xlink:href=\"#m52afa0c913\" y=\"110.012193\"/>\n",
       "      </g>\n",
       "     </g>\n",
       "     <g id=\"text_13\">\n",
       "      <!-- 0.25 -->\n",
       "      <g transform=\"translate(15.579688 113.811412)scale(0.1 -0.1)\">\n",
       "       <use xlink:href=\"#DejaVuSans-48\"/>\n",
       "       <use x=\"63.623047\" xlink:href=\"#DejaVuSans-46\"/>\n",
       "       <use x=\"95.410156\" xlink:href=\"#DejaVuSans-50\"/>\n",
       "       <use x=\"159.033203\" xlink:href=\"#DejaVuSans-53\"/>\n",
       "      </g>\n",
       "     </g>\n",
       "    </g>\n",
       "    <g id=\"ytick_7\">\n",
       "     <g id=\"line2d_14\">\n",
       "      <g>\n",
       "       <use style=\"stroke:#000000;stroke-width:0.8;\" x=\"44.845313\" xlink:href=\"#m52afa0c913\" y=\"79.768386\"/>\n",
       "      </g>\n",
       "     </g>\n",
       "     <g id=\"text_14\">\n",
       "      <!-- 0.50 -->\n",
       "      <g transform=\"translate(15.579688 83.567605)scale(0.1 -0.1)\">\n",
       "       <use xlink:href=\"#DejaVuSans-48\"/>\n",
       "       <use x=\"63.623047\" xlink:href=\"#DejaVuSans-46\"/>\n",
       "       <use x=\"95.410156\" xlink:href=\"#DejaVuSans-53\"/>\n",
       "       <use x=\"159.033203\" xlink:href=\"#DejaVuSans-48\"/>\n",
       "      </g>\n",
       "     </g>\n",
       "    </g>\n",
       "    <g id=\"ytick_8\">\n",
       "     <g id=\"line2d_15\">\n",
       "      <g>\n",
       "       <use style=\"stroke:#000000;stroke-width:0.8;\" x=\"44.845313\" xlink:href=\"#m52afa0c913\" y=\"49.524579\"/>\n",
       "      </g>\n",
       "     </g>\n",
       "     <g id=\"text_15\">\n",
       "      <!-- 0.75 -->\n",
       "      <g transform=\"translate(15.579688 53.323798)scale(0.1 -0.1)\">\n",
       "       <use xlink:href=\"#DejaVuSans-48\"/>\n",
       "       <use x=\"63.623047\" xlink:href=\"#DejaVuSans-46\"/>\n",
       "       <use x=\"95.410156\" xlink:href=\"#DejaVuSans-55\"/>\n",
       "       <use x=\"159.033203\" xlink:href=\"#DejaVuSans-53\"/>\n",
       "      </g>\n",
       "     </g>\n",
       "    </g>\n",
       "    <g id=\"ytick_9\">\n",
       "     <g id=\"line2d_16\">\n",
       "      <g>\n",
       "       <use style=\"stroke:#000000;stroke-width:0.8;\" x=\"44.845313\" xlink:href=\"#m52afa0c913\" y=\"19.280773\"/>\n",
       "      </g>\n",
       "     </g>\n",
       "     <g id=\"text_16\">\n",
       "      <!-- 1.00 -->\n",
       "      <g transform=\"translate(15.579688 23.079991)scale(0.1 -0.1)\">\n",
       "       <use xlink:href=\"#DejaVuSans-49\"/>\n",
       "       <use x=\"63.623047\" xlink:href=\"#DejaVuSans-46\"/>\n",
       "       <use x=\"95.410156\" xlink:href=\"#DejaVuSans-48\"/>\n",
       "       <use x=\"159.033203\" xlink:href=\"#DejaVuSans-48\"/>\n",
       "      </g>\n",
       "     </g>\n",
       "    </g>\n",
       "   </g>\n",
       "   <g id=\"line2d_17\">\n",
       "    <path clip-path=\"url(#p4c4bde49b8)\" d=\"M 61.07804 140.256 \n",
       "L 64.357379 132.583277 \n",
       "L 67.636717 124.941449 \n",
       "L 70.916056 117.361288 \n",
       "L 74.195395 109.873315 \n",
       "L 77.474734 102.507683 \n",
       "L 80.754073 95.29405 \n",
       "L 84.033412 88.261463 \n",
       "L 87.312751 81.438239 \n",
       "L 90.592089 74.851854 \n",
       "L 93.871428 68.528828 \n",
       "L 97.150767 62.494623 \n",
       "L 100.430106 56.773535 \n",
       "L 103.709445 51.388601 \n",
       "L 106.988784 46.361505 \n",
       "L 110.268122 41.712489 \n",
       "L 113.547461 37.460273 \n",
       "L 116.8268 33.621979 \n",
       "L 120.106139 30.213062 \n",
       "L 123.385478 27.24725 \n",
       "L 126.664817 24.736484 \n",
       "L 129.944155 22.690874 \n",
       "L 133.223494 21.118658 \n",
       "L 136.502833 20.026166 \n",
       "L 139.782172 19.417796 \n",
       "L 143.061511 19.296 \n",
       "L 146.34085 19.661267 \n",
       "L 149.620189 20.512126 \n",
       "L 152.899527 21.845151 \n",
       "L 156.178866 23.654976 \n",
       "L 159.458205 25.934311 \n",
       "L 162.737544 28.673979 \n",
       "L 166.016883 31.862949 \n",
       "L 169.296222 35.48838 \n",
       "L 172.57556 39.535672 \n",
       "L 175.854899 43.98853 \n",
       "L 179.134238 48.829023 \n",
       "L 182.413577 54.037661 \n",
       "L 185.692916 59.593469 \n",
       "L 188.972255 65.474076 \n",
       "L 192.251593 71.655804 \n",
       "L 195.530932 78.113761 \n",
       "L 198.810271 84.821942 \n",
       "L 202.08961 91.753337 \n",
       "L 205.368949 98.880035 \n",
       "L 208.648288 106.17334 \n",
       "L 211.927627 113.603883 \n",
       "L 215.206965 121.141745 \n",
       "L 218.486304 128.756574 \n",
       "L 221.765643 136.417706 \n",
       "L 225.044982 144.094294 \n",
       "L 228.324321 151.755426 \n",
       "L 231.60366 159.370255 \n",
       "L 234.882998 166.908117 \n",
       "L 238.162337 174.33866 \n",
       "L 241.441676 181.631965 \n",
       "L 244.721015 188.758663 \n",
       "L 248.000354 195.690058 \n",
       "L 251.279693 202.398239 \n",
       "L 254.559032 208.856196 \n",
       "L 257.83837 215.037924 \n",
       "L 261.117709 220.918531 \n",
       "L 264.397048 226.474339 \n",
       "L 267.676387 231.682977 \n",
       "L 270.955726 236.52347 \n",
       "L 274.235065 240.976328 \n",
       "L 277.514403 245.02362 \n",
       "L 280.793742 248.649051 \n",
       "L 284.073081 251.838021 \n",
       "L 287.35242 254.577689 \n",
       "L 290.631759 256.857024 \n",
       "L 293.911098 258.666849 \n",
       "L 297.190436 259.999874 \n",
       "L 300.469775 260.850733 \n",
       "L 303.749114 261.216 \n",
       "L 307.028453 261.094204 \n",
       "L 310.307792 260.485834 \n",
       "L 313.587131 259.393342 \n",
       "L 316.86647 257.821126 \n",
       "L 320.145808 255.775516 \n",
       "L 323.425147 253.26475 \n",
       "L 326.704486 250.298938 \n",
       "L 329.983825 246.890021 \n",
       "L 333.263164 243.051727 \n",
       "L 336.542503 238.799511 \n",
       "L 339.821841 234.150495 \n",
       "L 343.10118 229.123399 \n",
       "L 346.380519 223.738465 \n",
       "L 349.659858 218.017377 \n",
       "L 352.939197 211.983172 \n",
       "L 356.218536 205.660146 \n",
       "L 359.497874 199.073761 \n",
       "L 362.777213 192.250537 \n",
       "L 366.056552 185.21795 \n",
       "L 369.335891 178.004317 \n",
       "L 372.61523 170.638685 \n",
       "L 375.894569 163.150712 \n",
       "L 379.173908 155.570551 \n",
       "L 382.453246 147.928723 \n",
       "L 385.732585 140.256 \n",
       "\" style=\"fill:none;stroke:#1f77b4;stroke-linecap:square;stroke-width:1.5;\"/>\n",
       "   </g>\n",
       "   <g id=\"patch_3\">\n",
       "    <path d=\"M 44.845313 273.312 \n",
       "L 44.845313 7.2 \n",
       "\" style=\"fill:none;stroke:#000000;stroke-linecap:square;stroke-linejoin:miter;stroke-width:0.8;\"/>\n",
       "   </g>\n",
       "   <g id=\"patch_4\">\n",
       "    <path d=\"M 401.965312 273.312 \n",
       "L 401.965312 7.2 \n",
       "\" style=\"fill:none;stroke:#000000;stroke-linecap:square;stroke-linejoin:miter;stroke-width:0.8;\"/>\n",
       "   </g>\n",
       "   <g id=\"patch_5\">\n",
       "    <path d=\"M 44.845313 273.312 \n",
       "L 401.965313 273.312 \n",
       "\" style=\"fill:none;stroke:#000000;stroke-linecap:square;stroke-linejoin:miter;stroke-width:0.8;\"/>\n",
       "   </g>\n",
       "   <g id=\"patch_6\">\n",
       "    <path d=\"M 44.845313 7.2 \n",
       "L 401.965313 7.2 \n",
       "\" style=\"fill:none;stroke:#000000;stroke-linecap:square;stroke-linejoin:miter;stroke-width:0.8;\"/>\n",
       "   </g>\n",
       "  </g>\n",
       " </g>\n",
       " <defs>\n",
       "  <clipPath id=\"p4c4bde49b8\">\n",
       "   <rect height=\"266.112\" width=\"357.12\" x=\"44.845313\" y=\"7.2\"/>\n",
       "  </clipPath>\n",
       " </defs>\n",
       "</svg>\n"
      ],
      "text/plain": [
       "Figure(PyObject <Figure size 640x480 with 1 Axes>)"
      ]
     },
     "metadata": {},
     "output_type": "display_data"
    },
    {
     "data": {
      "text/plain": [
       "1-element Vector{PyCall.PyObject}:\n",
       " PyObject <matplotlib.lines.Line2D object at 0x7f8acfbc6340>"
      ]
     },
     "execution_count": 18,
     "metadata": {},
     "output_type": "execute_result"
    }
   ],
   "source": [
    "using PyPlot\n",
    "x = LinRange(0, 2π, 100)  \n",
    "plt.plot(x, sin.(x))"
   ]
  },
  {
   "cell_type": "markdown",
   "id": "bcf0a661",
   "metadata": {
    "slideshow": {
     "slide_type": "subslide"
    }
   },
   "source": [
    "For other Python packages, you can use the `PyCall` package."
   ]
  },
  {
   "cell_type": "code",
   "execution_count": 19,
   "id": "1894ecdc",
   "metadata": {},
   "outputs": [
    {
     "data": {
      "image/png": "[encoded data removed]",
      "image/svg+xml": [
       "<?xml version=\"1.0\" encoding=\"utf-8\" standalone=\"no\"?>\n",
       "<!DOCTYPE svg PUBLIC \"-//W3C//DTD SVG 1.1//EN\"\n",
       "  \"http://www.w3.org/Graphics/SVG/1.1/DTD/svg11.dtd\">\n",
       "<!-- Created with matplotlib (https://matplotlib.org/) -->\n",
       "<svg height=\"370.664143pt\" version=\"1.1\" viewBox=\"0 0 601.92 370.664143\" width=\"601.92pt\" xmlns=\"http://www.w3.org/2000/svg\" xmlns:xlink=\"http://www.w3.org/1999/xlink\">\n",
       " <metadata>\n",
       "  <rdf:RDF xmlns:cc=\"http://creativecommons.org/ns#\" xmlns:dc=\"http://purl.org/dc/elements/1.1/\" xmlns:rdf=\"http://www.w3.org/1999/02/22-rdf-syntax-ns#\">\n",
       "   <cc:Work>\n",
       "    <dc:type rdf:resource=\"http://purl.org/dc/dcmitype/StillImage\"/>\n",
       "    <dc:date>2021-07-22T12:27:58.691637</dc:date>\n",
       "    <dc:format>image/svg+xml</dc:format>\n",
       "    <dc:creator>\n",
       "     <cc:Agent>\n",
       "      <dc:title>Matplotlib v3.3.4, https://matplotlib.org/</dc:title>\n",
       "     </cc:Agent>\n",
       "    </dc:creator>\n",
       "   </cc:Work>\n",
       "  </rdf:RDF>\n",
       " </metadata>\n",
       " <defs>\n",
       "  <style type=\"text/css\">*{stroke-linecap:butt;stroke-linejoin:round;}</style>\n",
       " </defs>\n",
       " <g id=\"figure_1\">\n",
       "  <g id=\"patch_1\">\n",
       "   <path d=\"M 0 370.664143 \n",
       "L 601.92 370.664143 \n",
       "L 601.92 0 \n",
       "L 0 0 \n",
       "z\n",
       "\" style=\"fill:#ffffff;\"/>\n",
       "  </g>\n",
       "  <g id=\"axes_1\">\n",
       "   <g clip-path=\"url(#p24871e9590)\">\n",
       "    <image height=\"292.32\" id=\"imaged0ea6c99cf\" transform=\"scale(1 -1)translate(0 -292.32)\" width=\"584.64\" x=\"8.661493\" xlink:href=\"data:image/png;base64,\n",
       "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\" y=\"-23.758125\"/>\n",
       "   </g>\n",
       "   <g id=\"text_1\">\n",
       "    <!-- some random pixels -->\n",
       "    <g transform=\"translate(240.218437 16.318125)scale(0.12 -0.12)\">\n",
       "     <defs>\n",
       "      <path d=\"M 44.28125 53.078125 \n",
       "L 44.28125 44.578125 \n",
       "Q 40.484375 46.53125 36.375 47.5 \n",
       "Q 32.28125 48.484375 27.875 48.484375 \n",
       "Q 21.1875 48.484375 17.84375 46.4375 \n",
       "Q 14.5 44.390625 14.5 40.28125 \n",
       "Q 14.5 37.15625 16.890625 35.375 \n",
       "Q 19.28125 33.59375 26.515625 31.984375 \n",
       "L 29.59375 31.296875 \n",
       "Q 39.15625 29.25 43.1875 25.515625 \n",
       "Q 47.21875 21.78125 47.21875 15.09375 \n",
       "Q 47.21875 7.46875 41.1875 3.015625 \n",
       "Q 35.15625 -1.421875 24.609375 -1.421875 \n",
       "Q 20.21875 -1.421875 15.453125 -0.5625 \n",
       "Q 10.6875 0.296875 5.421875 2 \n",
       "L 5.421875 11.28125 \n",
       "Q 10.40625 8.6875 15.234375 7.390625 \n",
       "Q 20.0625 6.109375 24.8125 6.109375 \n",
       "Q 31.15625 6.109375 34.5625 8.28125 \n",
       "Q 37.984375 10.453125 37.984375 14.40625 \n",
       "Q 37.984375 18.0625 35.515625 20.015625 \n",
       "Q 33.0625 21.96875 24.703125 23.78125 \n",
       "L 21.578125 24.515625 \n",
       "Q 13.234375 26.265625 9.515625 29.90625 \n",
       "Q 5.8125 33.546875 5.8125 39.890625 \n",
       "Q 5.8125 47.609375 11.28125 51.796875 \n",
       "Q 16.75 56 26.8125 56 \n",
       "Q 31.78125 56 36.171875 55.265625 \n",
       "Q 40.578125 54.546875 44.28125 53.078125 \n",
       "z\n",
       "\" id=\"DejaVuSans-115\"/>\n",
       "      <path d=\"M 30.609375 48.390625 \n",
       "Q 23.390625 48.390625 19.1875 42.75 \n",
       "Q 14.984375 37.109375 14.984375 27.296875 \n",
       "Q 14.984375 17.484375 19.15625 11.84375 \n",
       "Q 23.34375 6.203125 30.609375 6.203125 \n",
       "Q 37.796875 6.203125 41.984375 11.859375 \n",
       "Q 46.1875 17.53125 46.1875 27.296875 \n",
       "Q 46.1875 37.015625 41.984375 42.703125 \n",
       "Q 37.796875 48.390625 30.609375 48.390625 \n",
       "z\n",
       "M 30.609375 56 \n",
       "Q 42.328125 56 49.015625 48.375 \n",
       "Q 55.71875 40.765625 55.71875 27.296875 \n",
       "Q 55.71875 13.875 49.015625 6.21875 \n",
       "Q 42.328125 -1.421875 30.609375 -1.421875 \n",
       "Q 18.84375 -1.421875 12.171875 6.21875 \n",
       "Q 5.515625 13.875 5.515625 27.296875 \n",
       "Q 5.515625 40.765625 12.171875 48.375 \n",
       "Q 18.84375 56 30.609375 56 \n",
       "z\n",
       "\" id=\"DejaVuSans-111\"/>\n",
       "      <path d=\"M 52 44.1875 \n",
       "Q 55.375 50.25 60.0625 53.125 \n",
       "Q 64.75 56 71.09375 56 \n",
       "Q 79.640625 56 84.28125 50.015625 \n",
       "Q 88.921875 44.046875 88.921875 33.015625 \n",
       "L 88.921875 0 \n",
       "L 79.890625 0 \n",
       "L 79.890625 32.71875 \n",
       "Q 79.890625 40.578125 77.09375 44.375 \n",
       "Q 74.3125 48.1875 68.609375 48.1875 \n",
       "Q 61.625 48.1875 57.5625 43.546875 \n",
       "Q 53.515625 38.921875 53.515625 30.90625 \n",
       "L 53.515625 0 \n",
       "L 44.484375 0 \n",
       "L 44.484375 32.71875 \n",
       "Q 44.484375 40.625 41.703125 44.40625 \n",
       "Q 38.921875 48.1875 33.109375 48.1875 \n",
       "Q 26.21875 48.1875 22.15625 43.53125 \n",
       "Q 18.109375 38.875 18.109375 30.90625 \n",
       "L 18.109375 0 \n",
       "L 9.078125 0 \n",
       "L 9.078125 54.6875 \n",
       "L 18.109375 54.6875 \n",
       "L 18.109375 46.1875 \n",
       "Q 21.1875 51.21875 25.484375 53.609375 \n",
       "Q 29.78125 56 35.6875 56 \n",
       "Q 41.65625 56 45.828125 52.96875 \n",
       "Q 50 49.953125 52 44.1875 \n",
       "z\n",
       "\" id=\"DejaVuSans-109\"/>\n",
       "      <path d=\"M 56.203125 29.59375 \n",
       "L 56.203125 25.203125 \n",
       "L 14.890625 25.203125 \n",
       "Q 15.484375 15.921875 20.484375 11.0625 \n",
       "Q 25.484375 6.203125 34.421875 6.203125 \n",
       "Q 39.59375 6.203125 44.453125 7.46875 \n",
       "Q 49.3125 8.734375 54.109375 11.28125 \n",
       "L 54.109375 2.78125 \n",
       "Q 49.265625 0.734375 44.1875 -0.34375 \n",
       "Q 39.109375 -1.421875 33.890625 -1.421875 \n",
       "Q 20.796875 -1.421875 13.15625 6.1875 \n",
       "Q 5.515625 13.8125 5.515625 26.8125 \n",
       "Q 5.515625 40.234375 12.765625 48.109375 \n",
       "Q 20.015625 56 32.328125 56 \n",
       "Q 43.359375 56 49.78125 48.890625 \n",
       "Q 56.203125 41.796875 56.203125 29.59375 \n",
       "z\n",
       "M 47.21875 32.234375 \n",
       "Q 47.125 39.59375 43.09375 43.984375 \n",
       "Q 39.0625 48.390625 32.421875 48.390625 \n",
       "Q 24.90625 48.390625 20.390625 44.140625 \n",
       "Q 15.875 39.890625 15.1875 32.171875 \n",
       "z\n",
       "\" id=\"DejaVuSans-101\"/>\n",
       "      <path id=\"DejaVuSans-32\"/>\n",
       "      <path d=\"M 41.109375 46.296875 \n",
       "Q 39.59375 47.171875 37.8125 47.578125 \n",
       "Q 36.03125 48 33.890625 48 \n",
       "Q 26.265625 48 22.1875 43.046875 \n",
       "Q 18.109375 38.09375 18.109375 28.8125 \n",
       "L 18.109375 0 \n",
       "L 9.078125 0 \n",
       "L 9.078125 54.6875 \n",
       "L 18.109375 54.6875 \n",
       "L 18.109375 46.1875 \n",
       "Q 20.953125 51.171875 25.484375 53.578125 \n",
       "Q 30.03125 56 36.53125 56 \n",
       "Q 37.453125 56 38.578125 55.875 \n",
       "Q 39.703125 55.765625 41.0625 55.515625 \n",
       "z\n",
       "\" id=\"DejaVuSans-114\"/>\n",
       "      <path d=\"M 34.28125 27.484375 \n",
       "Q 23.390625 27.484375 19.1875 25 \n",
       "Q 14.984375 22.515625 14.984375 16.5 \n",
       "Q 14.984375 11.71875 18.140625 8.90625 \n",
       "Q 21.296875 6.109375 26.703125 6.109375 \n",
       "Q 34.1875 6.109375 38.703125 11.40625 \n",
       "Q 43.21875 16.703125 43.21875 25.484375 \n",
       "L 43.21875 27.484375 \n",
       "z\n",
       "M 52.203125 31.203125 \n",
       "L 52.203125 0 \n",
       "L 43.21875 0 \n",
       "L 43.21875 8.296875 \n",
       "Q 40.140625 3.328125 35.546875 0.953125 \n",
       "Q 30.953125 -1.421875 24.3125 -1.421875 \n",
       "Q 15.921875 -1.421875 10.953125 3.296875 \n",
       "Q 6 8.015625 6 15.921875 \n",
       "Q 6 25.140625 12.171875 29.828125 \n",
       "Q 18.359375 34.515625 30.609375 34.515625 \n",
       "L 43.21875 34.515625 \n",
       "L 43.21875 35.40625 \n",
       "Q 43.21875 41.609375 39.140625 45 \n",
       "Q 35.0625 48.390625 27.6875 48.390625 \n",
       "Q 23 48.390625 18.546875 47.265625 \n",
       "Q 14.109375 46.140625 10.015625 43.890625 \n",
       "L 10.015625 52.203125 \n",
       "Q 14.9375 54.109375 19.578125 55.046875 \n",
       "Q 24.21875 56 28.609375 56 \n",
       "Q 40.484375 56 46.34375 49.84375 \n",
       "Q 52.203125 43.703125 52.203125 31.203125 \n",
       "z\n",
       "\" id=\"DejaVuSans-97\"/>\n",
       "      <path d=\"M 54.890625 33.015625 \n",
       "L 54.890625 0 \n",
       "L 45.90625 0 \n",
       "L 45.90625 32.71875 \n",
       "Q 45.90625 40.484375 42.875 44.328125 \n",
       "Q 39.84375 48.1875 33.796875 48.1875 \n",
       "Q 26.515625 48.1875 22.3125 43.546875 \n",
       "Q 18.109375 38.921875 18.109375 30.90625 \n",
       "L 18.109375 0 \n",
       "L 9.078125 0 \n",
       "L 9.078125 54.6875 \n",
       "L 18.109375 54.6875 \n",
       "L 18.109375 46.1875 \n",
       "Q 21.34375 51.125 25.703125 53.5625 \n",
       "Q 30.078125 56 35.796875 56 \n",
       "Q 45.21875 56 50.046875 50.171875 \n",
       "Q 54.890625 44.34375 54.890625 33.015625 \n",
       "z\n",
       "\" id=\"DejaVuSans-110\"/>\n",
       "      <path d=\"M 45.40625 46.390625 \n",
       "L 45.40625 75.984375 \n",
       "L 54.390625 75.984375 \n",
       "L 54.390625 0 \n",
       "L 45.40625 0 \n",
       "L 45.40625 8.203125 \n",
       "Q 42.578125 3.328125 38.25 0.953125 \n",
       "Q 33.9375 -1.421875 27.875 -1.421875 \n",
       "Q 17.96875 -1.421875 11.734375 6.484375 \n",
       "Q 5.515625 14.40625 5.515625 27.296875 \n",
       "Q 5.515625 40.1875 11.734375 48.09375 \n",
       "Q 17.96875 56 27.875 56 \n",
       "Q 33.9375 56 38.25 53.625 \n",
       "Q 42.578125 51.265625 45.40625 46.390625 \n",
       "z\n",
       "M 14.796875 27.296875 \n",
       "Q 14.796875 17.390625 18.875 11.75 \n",
       "Q 22.953125 6.109375 30.078125 6.109375 \n",
       "Q 37.203125 6.109375 41.296875 11.75 \n",
       "Q 45.40625 17.390625 45.40625 27.296875 \n",
       "Q 45.40625 37.203125 41.296875 42.84375 \n",
       "Q 37.203125 48.484375 30.078125 48.484375 \n",
       "Q 22.953125 48.484375 18.875 42.84375 \n",
       "Q 14.796875 37.203125 14.796875 27.296875 \n",
       "z\n",
       "\" id=\"DejaVuSans-100\"/>\n",
       "      <path d=\"M 18.109375 8.203125 \n",
       "L 18.109375 -20.796875 \n",
       "L 9.078125 -20.796875 \n",
       "L 9.078125 54.6875 \n",
       "L 18.109375 54.6875 \n",
       "L 18.109375 46.390625 \n",
       "Q 20.953125 51.265625 25.265625 53.625 \n",
       "Q 29.59375 56 35.59375 56 \n",
       "Q 45.5625 56 51.78125 48.09375 \n",
       "Q 58.015625 40.1875 58.015625 27.296875 \n",
       "Q 58.015625 14.40625 51.78125 6.484375 \n",
       "Q 45.5625 -1.421875 35.59375 -1.421875 \n",
       "Q 29.59375 -1.421875 25.265625 0.953125 \n",
       "Q 20.953125 3.328125 18.109375 8.203125 \n",
       "z\n",
       "M 48.6875 27.296875 \n",
       "Q 48.6875 37.203125 44.609375 42.84375 \n",
       "Q 40.53125 48.484375 33.40625 48.484375 \n",
       "Q 26.265625 48.484375 22.1875 42.84375 \n",
       "Q 18.109375 37.203125 18.109375 27.296875 \n",
       "Q 18.109375 17.390625 22.1875 11.75 \n",
       "Q 26.265625 6.109375 33.40625 6.109375 \n",
       "Q 40.53125 6.109375 44.609375 11.75 \n",
       "Q 48.6875 17.390625 48.6875 27.296875 \n",
       "z\n",
       "\" id=\"DejaVuSans-112\"/>\n",
       "      <path d=\"M 9.421875 54.6875 \n",
       "L 18.40625 54.6875 \n",
       "L 18.40625 0 \n",
       "L 9.421875 0 \n",
       "z\n",
       "M 9.421875 75.984375 \n",
       "L 18.40625 75.984375 \n",
       "L 18.40625 64.59375 \n",
       "L 9.421875 64.59375 \n",
       "z\n",
       "\" id=\"DejaVuSans-105\"/>\n",
       "      <path d=\"M 54.890625 54.6875 \n",
       "L 35.109375 28.078125 \n",
       "L 55.90625 0 \n",
       "L 45.3125 0 \n",
       "L 29.390625 21.484375 \n",
       "L 13.484375 0 \n",
       "L 2.875 0 \n",
       "L 24.125 28.609375 \n",
       "L 4.6875 54.6875 \n",
       "L 15.28125 54.6875 \n",
       "L 29.78125 35.203125 \n",
       "L 44.28125 54.6875 \n",
       "z\n",
       "\" id=\"DejaVuSans-120\"/>\n",
       "      <path d=\"M 9.421875 75.984375 \n",
       "L 18.40625 75.984375 \n",
       "L 18.40625 0 \n",
       "L 9.421875 0 \n",
       "z\n",
       "\" id=\"DejaVuSans-108\"/>\n",
       "     </defs>\n",
       "     <use xlink:href=\"#DejaVuSans-115\"/>\n",
       "     <use x=\"52.099609\" xlink:href=\"#DejaVuSans-111\"/>\n",
       "     <use x=\"113.28125\" xlink:href=\"#DejaVuSans-109\"/>\n",
       "     <use x=\"210.693359\" xlink:href=\"#DejaVuSans-101\"/>\n",
       "     <use x=\"272.216797\" xlink:href=\"#DejaVuSans-32\"/>\n",
       "     <use x=\"304.003906\" xlink:href=\"#DejaVuSans-114\"/>\n",
       "     <use x=\"345.117188\" xlink:href=\"#DejaVuSans-97\"/>\n",
       "     <use x=\"406.396484\" xlink:href=\"#DejaVuSans-110\"/>\n",
       "     <use x=\"469.775391\" xlink:href=\"#DejaVuSans-100\"/>\n",
       "     <use x=\"533.251953\" xlink:href=\"#DejaVuSans-111\"/>\n",
       "     <use x=\"594.433594\" xlink:href=\"#DejaVuSans-109\"/>\n",
       "     <use x=\"691.845703\" xlink:href=\"#DejaVuSans-32\"/>\n",
       "     <use x=\"723.632812\" xlink:href=\"#DejaVuSans-112\"/>\n",
       "     <use x=\"787.109375\" xlink:href=\"#DejaVuSans-105\"/>\n",
       "     <use x=\"814.892578\" xlink:href=\"#DejaVuSans-120\"/>\n",
       "     <use x=\"870.947266\" xlink:href=\"#DejaVuSans-101\"/>\n",
       "     <use x=\"932.470703\" xlink:href=\"#DejaVuSans-108\"/>\n",
       "     <use x=\"960.253906\" xlink:href=\"#DejaVuSans-115\"/>\n",
       "    </g>\n",
       "   </g>\n",
       "  </g>\n",
       "  <g id=\"axes_2\">\n",
       "   <g id=\"patch_2\">\n",
       "    <path clip-path=\"url(#pc5f15ce667)\" d=\"M 154.08 346.786018 \n",
       "L 155.2275 346.786018 \n",
       "L 446.6925 346.786018 \n",
       "L 447.84 346.786018 \n",
       "L 447.84 335.035618 \n",
       "L 446.6925 335.035618 \n",
       "L 155.2275 335.035618 \n",
       "L 154.08 335.035618 \n",
       "z\n",
       "\" style=\"fill:#ffffff;stroke:#ffffff;stroke-linejoin:miter;stroke-width:0.01;\"/>\n",
       "   </g>\n",
       "   <image height=\"11.52\" id=\"image5414d5144e\" transform=\"scale(1 -1)translate(0 -11.52)\" width=\"293.76\" x=\"154.08\" xlink:href=\"data:image/png;base64,\n",
       "iVBORw0KGgoAAAANSUhEUgAAAZgAAAAQCAYAAAArr2lUAAABcElEQVR4nO3VS3bEIAxE0SrYWpaQ/S/FZGAbxMfuHoTZu5PWkZCgk5zIP/4tcpIkOVmrWMnnpy2nVGPF+Drn2GMP9dTnQl/LvfTb3dlS+zXPHOvDrGJ3ffWsQ66rq+uX1c0f+4vjXWFumnPT2Tp/db/Cu97vWs/q4/qz6Gat5j/E97lVXR/qH+5av/W9/vquVY/LV9+lfZZ2dnpXGc72ffNbWs5P/Wo5D3U/9Lt+9j01r9Yfz6bQH/PSWbtzSaXL3z2rOGmRG+L73Pf1Y5p/9hySpOwS8u1sXuVclHR0d2XF+lFnZR+1P86K8dSvo/UpzmxvzTqm/ly/X+vPmt+SVcKs+JZwf8jdccuFWFK+fq/5+is5c3fskPd1p5Wuf6RJVvYdp9oPAMC/Y8EAALZgwQAAtmDBAAC2YMEAALZgwQAAtmDBAAC2YMEAALZgwQAAtmDBAAC2YMEAALZgwQAAtmDBAAC2YMEAALZgwQAAtvgDPvWJKCyU+XoAAAAASUVORK5CYII=\" y=\"-334.8\"/>\n",
       "   <g id=\"matplotlib.axis_1\">\n",
       "    <g id=\"xtick_1\">\n",
       "     <g id=\"line2d_1\">\n",
       "      <defs>\n",
       "       <path d=\"M 0 0 \n",
       "L 0 3.5 \n",
       "\" id=\"mbfdcffebc2\" style=\"stroke:#000000;stroke-width:0.8;\"/>\n",
       "      </defs>\n",
       "      <g>\n",
       "       <use style=\"stroke:#000000;stroke-width:0.8;\" x=\"154.08\" xlink:href=\"#mbfdcffebc2\" y=\"346.786018\"/>\n",
       "      </g>\n",
       "     </g>\n",
       "     <g id=\"text_2\">\n",
       "      <!-- 0.0112608 -->\n",
       "      <g transform=\"translate(127.040937 361.384455)scale(0.1 -0.1)\">\n",
       "       <defs>\n",
       "        <path d=\"M 31.78125 66.40625 \n",
       "Q 24.171875 66.40625 20.328125 58.90625 \n",
       "Q 16.5 51.421875 16.5 36.375 \n",
       "Q 16.5 21.390625 20.328125 13.890625 \n",
       "Q 24.171875 6.390625 31.78125 6.390625 \n",
       "Q 39.453125 6.390625 43.28125 13.890625 \n",
       "Q 47.125 21.390625 47.125 36.375 \n",
       "Q 47.125 51.421875 43.28125 58.90625 \n",
       "Q 39.453125 66.40625 31.78125 66.40625 \n",
       "z\n",
       "M 31.78125 74.21875 \n",
       "Q 44.046875 74.21875 50.515625 64.515625 \n",
       "Q 56.984375 54.828125 56.984375 36.375 \n",
       "Q 56.984375 17.96875 50.515625 8.265625 \n",
       "Q 44.046875 -1.421875 31.78125 -1.421875 \n",
       "Q 19.53125 -1.421875 13.0625 8.265625 \n",
       "Q 6.59375 17.96875 6.59375 36.375 \n",
       "Q 6.59375 54.828125 13.0625 64.515625 \n",
       "Q 19.53125 74.21875 31.78125 74.21875 \n",
       "z\n",
       "\" id=\"DejaVuSans-48\"/>\n",
       "        <path d=\"M 10.6875 12.40625 \n",
       "L 21 12.40625 \n",
       "L 21 0 \n",
       "L 10.6875 0 \n",
       "z\n",
       "\" id=\"DejaVuSans-46\"/>\n",
       "        <path d=\"M 12.40625 8.296875 \n",
       "L 28.515625 8.296875 \n",
       "L 28.515625 63.921875 \n",
       "L 10.984375 60.40625 \n",
       "L 10.984375 69.390625 \n",
       "L 28.421875 72.90625 \n",
       "L 38.28125 72.90625 \n",
       "L 38.28125 8.296875 \n",
       "L 54.390625 8.296875 \n",
       "L 54.390625 0 \n",
       "L 12.40625 0 \n",
       "z\n",
       "\" id=\"DejaVuSans-49\"/>\n",
       "        <path d=\"M 19.1875 8.296875 \n",
       "L 53.609375 8.296875 \n",
       "L 53.609375 0 \n",
       "L 7.328125 0 \n",
       "L 7.328125 8.296875 \n",
       "Q 12.9375 14.109375 22.625 23.890625 \n",
       "Q 32.328125 33.6875 34.8125 36.53125 \n",
       "Q 39.546875 41.84375 41.421875 45.53125 \n",
       "Q 43.3125 49.21875 43.3125 52.78125 \n",
       "Q 43.3125 58.59375 39.234375 62.25 \n",
       "Q 35.15625 65.921875 28.609375 65.921875 \n",
       "Q 23.96875 65.921875 18.8125 64.3125 \n",
       "Q 13.671875 62.703125 7.8125 59.421875 \n",
       "L 7.8125 69.390625 \n",
       "Q 13.765625 71.78125 18.9375 73 \n",
       "Q 24.125 74.21875 28.421875 74.21875 \n",
       "Q 39.75 74.21875 46.484375 68.546875 \n",
       "Q 53.21875 62.890625 53.21875 53.421875 \n",
       "Q 53.21875 48.921875 51.53125 44.890625 \n",
       "Q 49.859375 40.875 45.40625 35.40625 \n",
       "Q 44.1875 33.984375 37.640625 27.21875 \n",
       "Q 31.109375 20.453125 19.1875 8.296875 \n",
       "z\n",
       "\" id=\"DejaVuSans-50\"/>\n",
       "        <path d=\"M 33.015625 40.375 \n",
       "Q 26.375 40.375 22.484375 35.828125 \n",
       "Q 18.609375 31.296875 18.609375 23.390625 \n",
       "Q 18.609375 15.53125 22.484375 10.953125 \n",
       "Q 26.375 6.390625 33.015625 6.390625 \n",
       "Q 39.65625 6.390625 43.53125 10.953125 \n",
       "Q 47.40625 15.53125 47.40625 23.390625 \n",
       "Q 47.40625 31.296875 43.53125 35.828125 \n",
       "Q 39.65625 40.375 33.015625 40.375 \n",
       "z\n",
       "M 52.59375 71.296875 \n",
       "L 52.59375 62.3125 \n",
       "Q 48.875 64.0625 45.09375 64.984375 \n",
       "Q 41.3125 65.921875 37.59375 65.921875 \n",
       "Q 27.828125 65.921875 22.671875 59.328125 \n",
       "Q 17.53125 52.734375 16.796875 39.40625 \n",
       "Q 19.671875 43.65625 24.015625 45.921875 \n",
       "Q 28.375 48.1875 33.59375 48.1875 \n",
       "Q 44.578125 48.1875 50.953125 41.515625 \n",
       "Q 57.328125 34.859375 57.328125 23.390625 \n",
       "Q 57.328125 12.15625 50.6875 5.359375 \n",
       "Q 44.046875 -1.421875 33.015625 -1.421875 \n",
       "Q 20.359375 -1.421875 13.671875 8.265625 \n",
       "Q 6.984375 17.96875 6.984375 36.375 \n",
       "Q 6.984375 53.65625 15.1875 63.9375 \n",
       "Q 23.390625 74.21875 37.203125 74.21875 \n",
       "Q 40.921875 74.21875 44.703125 73.484375 \n",
       "Q 48.484375 72.75 52.59375 71.296875 \n",
       "z\n",
       "\" id=\"DejaVuSans-54\"/>\n",
       "        <path d=\"M 31.78125 34.625 \n",
       "Q 24.75 34.625 20.71875 30.859375 \n",
       "Q 16.703125 27.09375 16.703125 20.515625 \n",
       "Q 16.703125 13.921875 20.71875 10.15625 \n",
       "Q 24.75 6.390625 31.78125 6.390625 \n",
       "Q 38.8125 6.390625 42.859375 10.171875 \n",
       "Q 46.921875 13.96875 46.921875 20.515625 \n",
       "Q 46.921875 27.09375 42.890625 30.859375 \n",
       "Q 38.875 34.625 31.78125 34.625 \n",
       "z\n",
       "M 21.921875 38.8125 \n",
       "Q 15.578125 40.375 12.03125 44.71875 \n",
       "Q 8.5 49.078125 8.5 55.328125 \n",
       "Q 8.5 64.0625 14.71875 69.140625 \n",
       "Q 20.953125 74.21875 31.78125 74.21875 \n",
       "Q 42.671875 74.21875 48.875 69.140625 \n",
       "Q 55.078125 64.0625 55.078125 55.328125 \n",
       "Q 55.078125 49.078125 51.53125 44.71875 \n",
       "Q 48 40.375 41.703125 38.8125 \n",
       "Q 48.828125 37.15625 52.796875 32.3125 \n",
       "Q 56.78125 27.484375 56.78125 20.515625 \n",
       "Q 56.78125 9.90625 50.3125 4.234375 \n",
       "Q 43.84375 -1.421875 31.78125 -1.421875 \n",
       "Q 19.734375 -1.421875 13.25 4.234375 \n",
       "Q 6.78125 9.90625 6.78125 20.515625 \n",
       "Q 6.78125 27.484375 10.78125 32.3125 \n",
       "Q 14.796875 37.15625 21.921875 38.8125 \n",
       "z\n",
       "M 18.3125 54.390625 \n",
       "Q 18.3125 48.734375 21.84375 45.5625 \n",
       "Q 25.390625 42.390625 31.78125 42.390625 \n",
       "Q 38.140625 42.390625 41.71875 45.5625 \n",
       "Q 45.3125 48.734375 45.3125 54.390625 \n",
       "Q 45.3125 60.0625 41.71875 63.234375 \n",
       "Q 38.140625 66.40625 31.78125 66.40625 \n",
       "Q 25.390625 66.40625 21.84375 63.234375 \n",
       "Q 18.3125 60.0625 18.3125 54.390625 \n",
       "z\n",
       "\" id=\"DejaVuSans-56\"/>\n",
       "       </defs>\n",
       "       <use xlink:href=\"#DejaVuSans-48\"/>\n",
       "       <use x=\"63.623047\" xlink:href=\"#DejaVuSans-46\"/>\n",
       "       <use x=\"95.410156\" xlink:href=\"#DejaVuSans-48\"/>\n",
       "       <use x=\"159.033203\" xlink:href=\"#DejaVuSans-49\"/>\n",
       "       <use x=\"222.65625\" xlink:href=\"#DejaVuSans-49\"/>\n",
       "       <use x=\"286.279297\" xlink:href=\"#DejaVuSans-50\"/>\n",
       "       <use x=\"349.902344\" xlink:href=\"#DejaVuSans-54\"/>\n",
       "       <use x=\"413.525391\" xlink:href=\"#DejaVuSans-48\"/>\n",
       "       <use x=\"477.148438\" xlink:href=\"#DejaVuSans-56\"/>\n",
       "      </g>\n",
       "     </g>\n",
       "    </g>\n",
       "    <g id=\"xtick_2\">\n",
       "     <g id=\"line2d_2\">\n",
       "      <g>\n",
       "       <use style=\"stroke:#000000;stroke-width:0.8;\" x=\"447.84\" xlink:href=\"#mbfdcffebc2\" y=\"346.786018\"/>\n",
       "      </g>\n",
       "     </g>\n",
       "     <g id=\"text_3\">\n",
       "      <!-- 0.998718 -->\n",
       "      <g transform=\"translate(423.982187 361.384455)scale(0.1 -0.1)\">\n",
       "       <defs>\n",
       "        <path d=\"M 10.984375 1.515625 \n",
       "L 10.984375 10.5 \n",
       "Q 14.703125 8.734375 18.5 7.8125 \n",
       "Q 22.3125 6.890625 25.984375 6.890625 \n",
       "Q 35.75 6.890625 40.890625 13.453125 \n",
       "Q 46.046875 20.015625 46.78125 33.40625 \n",
       "Q 43.953125 29.203125 39.59375 26.953125 \n",
       "Q 35.25 24.703125 29.984375 24.703125 \n",
       "Q 19.046875 24.703125 12.671875 31.3125 \n",
       "Q 6.296875 37.9375 6.296875 49.421875 \n",
       "Q 6.296875 60.640625 12.9375 67.421875 \n",
       "Q 19.578125 74.21875 30.609375 74.21875 \n",
       "Q 43.265625 74.21875 49.921875 64.515625 \n",
       "Q 56.59375 54.828125 56.59375 36.375 \n",
       "Q 56.59375 19.140625 48.40625 8.859375 \n",
       "Q 40.234375 -1.421875 26.421875 -1.421875 \n",
       "Q 22.703125 -1.421875 18.890625 -0.6875 \n",
       "Q 15.09375 0.046875 10.984375 1.515625 \n",
       "z\n",
       "M 30.609375 32.421875 \n",
       "Q 37.25 32.421875 41.125 36.953125 \n",
       "Q 45.015625 41.5 45.015625 49.421875 \n",
       "Q 45.015625 57.28125 41.125 61.84375 \n",
       "Q 37.25 66.40625 30.609375 66.40625 \n",
       "Q 23.96875 66.40625 20.09375 61.84375 \n",
       "Q 16.21875 57.28125 16.21875 49.421875 \n",
       "Q 16.21875 41.5 20.09375 36.953125 \n",
       "Q 23.96875 32.421875 30.609375 32.421875 \n",
       "z\n",
       "\" id=\"DejaVuSans-57\"/>\n",
       "        <path d=\"M 8.203125 72.90625 \n",
       "L 55.078125 72.90625 \n",
       "L 55.078125 68.703125 \n",
       "L 28.609375 0 \n",
       "L 18.3125 0 \n",
       "L 43.21875 64.59375 \n",
       "L 8.203125 64.59375 \n",
       "z\n",
       "\" id=\"DejaVuSans-55\"/>\n",
       "       </defs>\n",
       "       <use xlink:href=\"#DejaVuSans-48\"/>\n",
       "       <use x=\"63.623047\" xlink:href=\"#DejaVuSans-46\"/>\n",
       "       <use x=\"95.410156\" xlink:href=\"#DejaVuSans-57\"/>\n",
       "       <use x=\"159.033203\" xlink:href=\"#DejaVuSans-57\"/>\n",
       "       <use x=\"222.65625\" xlink:href=\"#DejaVuSans-56\"/>\n",
       "       <use x=\"286.279297\" xlink:href=\"#DejaVuSans-55\"/>\n",
       "       <use x=\"349.902344\" xlink:href=\"#DejaVuSans-49\"/>\n",
       "       <use x=\"413.525391\" xlink:href=\"#DejaVuSans-56\"/>\n",
       "      </g>\n",
       "     </g>\n",
       "    </g>\n",
       "   </g>\n",
       "   <g id=\"matplotlib.axis_2\"/>\n",
       "   <g id=\"patch_3\">\n",
       "    <path d=\"M 154.08 346.786018 \n",
       "L 155.2275 346.786018 \n",
       "L 446.6925 346.786018 \n",
       "L 447.84 346.786018 \n",
       "L 447.84 335.035618 \n",
       "L 446.6925 335.035618 \n",
       "L 155.2275 335.035618 \n",
       "L 154.08 335.035618 \n",
       "z\n",
       "\" style=\"fill:none;stroke:#000000;stroke-linejoin:miter;stroke-width:0.8;\"/>\n",
       "   </g>\n",
       "  </g>\n",
       " </g>\n",
       " <defs>\n",
       "  <clipPath id=\"p24871e9590\">\n",
       "   <rect height=\"295.221493\" width=\"587.52\" x=\"7.2\" y=\"22.318125\"/>\n",
       "  </clipPath>\n",
       "  <clipPath id=\"pc5f15ce667\">\n",
       "   <rect height=\"11.7504\" width=\"293.76\" x=\"154.08\" y=\"335.035618\"/>\n",
       "  </clipPath>\n",
       " </defs>\n",
       "</svg>\n"
      ],
      "text/plain": [
       "Figure(PyObject <Figure size 850x540 with 2 Axes>)"
      ]
     },
     "metadata": {},
     "output_type": "display_data"
    }
   ],
   "source": [
    "using PyCall\n",
    "hp = pyimport(\"healpy\")\n",
    "\n",
    "hp.mollview(rand(192), title=\"some random pixels\")"
   ]
  },
  {
   "cell_type": "markdown",
   "id": "8022a7ba",
   "metadata": {
    "slideshow": {
     "slide_type": "slide"
    }
   },
   "source": [
    "# Multithreading\n",
    "\n",
    "Julia's multithreading can be as simple as adding `@threads` to a loop."
   ]
  },
  {
   "cell_type": "code",
   "execution_count": 20,
   "id": "7bb20b55",
   "metadata": {
    "slideshow": {
     "slide_type": "fragment"
    }
   },
   "outputs": [
    {
     "data": {
      "text/plain": [
       "6-element Vector{Int64}:\n",
       " 1\n",
       " 0\n",
       " ⋮\n",
       " 5\n",
       " 6"
      ]
     },
     "execution_count": 20,
     "metadata": {},
     "output_type": "execute_result"
    }
   ],
   "source": [
    "function threaded_relu(v)\n",
    "    result = similar(v)\n",
    "    Threads.@threads for i in 1:length(v)\n",
    "        result[i] = relu(v[i])\n",
    "    end\n",
    "    return result\n",
    "end\n",
    "\n",
    "x = [1, -2, 3, -4, 5, 6]\n",
    "threaded_relu(x)"
   ]
  },
  {
   "cell_type": "markdown",
   "id": "e7fa9007",
   "metadata": {
    "slideshow": {
     "slide_type": "slide"
    }
   },
   "source": [
    "# Composability\n",
    "\n",
    "Julia is remarkably composable, because you can define the methods that operate on a type without owning the type. For example, let's solve the simple ODE,\n",
    "\n",
    "$$ \\frac{du}{dt} = \\alpha u .$$"
   ]
  },
  {
   "cell_type": "code",
   "execution_count": 21,
   "id": "08adcff6",
   "metadata": {
    "slideshow": {
     "slide_type": "subslide"
    }
   },
   "outputs": [
    {
     "data": {
      "image/png": "[encoded data removed]",
      "image/svg+xml": [
       "<?xml version=\"1.0\" encoding=\"utf-8\" standalone=\"no\"?>\n",
       "<!DOCTYPE svg PUBLIC \"-//W3C//DTD SVG 1.1//EN\"\n",
       "  \"http://www.w3.org/Graphics/SVG/1.1/DTD/svg11.dtd\">\n",
       "<!-- Created with matplotlib (https://matplotlib.org/) -->\n",
       "<svg height=\"297.190125pt\" version=\"1.1\" viewBox=\"0 0 394.423125 297.190125\" width=\"394.423125pt\" xmlns=\"http://www.w3.org/2000/svg\" xmlns:xlink=\"http://www.w3.org/1999/xlink\">\n",
       " <metadata>\n",
       "  <rdf:RDF xmlns:cc=\"http://creativecommons.org/ns#\" xmlns:dc=\"http://purl.org/dc/elements/1.1/\" xmlns:rdf=\"http://www.w3.org/1999/02/22-rdf-syntax-ns#\">\n",
       "   <cc:Work>\n",
       "    <dc:type rdf:resource=\"http://purl.org/dc/dcmitype/StillImage\"/>\n",
       "    <dc:date>2021-07-22T12:28:08.891795</dc:date>\n",
       "    <dc:format>image/svg+xml</dc:format>\n",
       "    <dc:creator>\n",
       "     <cc:Agent>\n",
       "      <dc:title>Matplotlib v3.3.4, https://matplotlib.org/</dc:title>\n",
       "     </cc:Agent>\n",
       "    </dc:creator>\n",
       "   </cc:Work>\n",
       "  </rdf:RDF>\n",
       " </metadata>\n",
       " <defs>\n",
       "  <style type=\"text/css\">*{stroke-linecap:butt;stroke-linejoin:round;}</style>\n",
       " </defs>\n",
       " <g id=\"figure_1\">\n",
       "  <g id=\"patch_1\">\n",
       "   <path d=\"M 0 297.190125 \n",
       "L 394.423125 297.190125 \n",
       "L 394.423125 0 \n",
       "L 0 0 \n",
       "z\n",
       "\" style=\"fill:#ffffff;\"/>\n",
       "  </g>\n",
       "  <g id=\"axes_1\">\n",
       "   <g id=\"patch_2\">\n",
       "    <path d=\"M 30.103125 273.312 \n",
       "L 387.223125 273.312 \n",
       "L 387.223125 7.2 \n",
       "L 30.103125 7.2 \n",
       "z\n",
       "\" style=\"fill:#ffffff;\"/>\n",
       "   </g>\n",
       "   <g id=\"matplotlib.axis_1\">\n",
       "    <g id=\"xtick_1\">\n",
       "     <g id=\"line2d_1\">\n",
       "      <defs>\n",
       "       <path d=\"M 0 0 \n",
       "L 0 3.5 \n",
       "\" id=\"mc74be1b751\" style=\"stroke:#000000;stroke-width:0.8;\"/>\n",
       "      </defs>\n",
       "      <g>\n",
       "       <use style=\"stroke:#000000;stroke-width:0.8;\" x=\"46.335852\" xlink:href=\"#mc74be1b751\" y=\"273.312\"/>\n",
       "      </g>\n",
       "     </g>\n",
       "     <g id=\"text_1\">\n",
       "      <!-- 0.0 -->\n",
       "      <g transform=\"translate(38.38429 287.910437)scale(0.1 -0.1)\">\n",
       "       <defs>\n",
       "        <path d=\"M 31.78125 66.40625 \n",
       "Q 24.171875 66.40625 20.328125 58.90625 \n",
       "Q 16.5 51.421875 16.5 36.375 \n",
       "Q 16.5 21.390625 20.328125 13.890625 \n",
       "Q 24.171875 6.390625 31.78125 6.390625 \n",
       "Q 39.453125 6.390625 43.28125 13.890625 \n",
       "Q 47.125 21.390625 47.125 36.375 \n",
       "Q 47.125 51.421875 43.28125 58.90625 \n",
       "Q 39.453125 66.40625 31.78125 66.40625 \n",
       "z\n",
       "M 31.78125 74.21875 \n",
       "Q 44.046875 74.21875 50.515625 64.515625 \n",
       "Q 56.984375 54.828125 56.984375 36.375 \n",
       "Q 56.984375 17.96875 50.515625 8.265625 \n",
       "Q 44.046875 -1.421875 31.78125 -1.421875 \n",
       "Q 19.53125 -1.421875 13.0625 8.265625 \n",
       "Q 6.59375 17.96875 6.59375 36.375 \n",
       "Q 6.59375 54.828125 13.0625 64.515625 \n",
       "Q 19.53125 74.21875 31.78125 74.21875 \n",
       "z\n",
       "\" id=\"DejaVuSans-48\"/>\n",
       "        <path d=\"M 10.6875 12.40625 \n",
       "L 21 12.40625 \n",
       "L 21 0 \n",
       "L 10.6875 0 \n",
       "z\n",
       "\" id=\"DejaVuSans-46\"/>\n",
       "       </defs>\n",
       "       <use xlink:href=\"#DejaVuSans-48\"/>\n",
       "       <use x=\"63.623047\" xlink:href=\"#DejaVuSans-46\"/>\n",
       "       <use x=\"95.410156\" xlink:href=\"#DejaVuSans-48\"/>\n",
       "      </g>\n",
       "     </g>\n",
       "    </g>\n",
       "    <g id=\"xtick_2\">\n",
       "     <g id=\"line2d_2\">\n",
       "      <g>\n",
       "       <use style=\"stroke:#000000;stroke-width:0.8;\" x=\"111.266761\" xlink:href=\"#mc74be1b751\" y=\"273.312\"/>\n",
       "      </g>\n",
       "     </g>\n",
       "     <g id=\"text_2\">\n",
       "      <!-- 0.2 -->\n",
       "      <g transform=\"translate(103.315199 287.910437)scale(0.1 -0.1)\">\n",
       "       <defs>\n",
       "        <path d=\"M 19.1875 8.296875 \n",
       "L 53.609375 8.296875 \n",
       "L 53.609375 0 \n",
       "L 7.328125 0 \n",
       "L 7.328125 8.296875 \n",
       "Q 12.9375 14.109375 22.625 23.890625 \n",
       "Q 32.328125 33.6875 34.8125 36.53125 \n",
       "Q 39.546875 41.84375 41.421875 45.53125 \n",
       "Q 43.3125 49.21875 43.3125 52.78125 \n",
       "Q 43.3125 58.59375 39.234375 62.25 \n",
       "Q 35.15625 65.921875 28.609375 65.921875 \n",
       "Q 23.96875 65.921875 18.8125 64.3125 \n",
       "Q 13.671875 62.703125 7.8125 59.421875 \n",
       "L 7.8125 69.390625 \n",
       "Q 13.765625 71.78125 18.9375 73 \n",
       "Q 24.125 74.21875 28.421875 74.21875 \n",
       "Q 39.75 74.21875 46.484375 68.546875 \n",
       "Q 53.21875 62.890625 53.21875 53.421875 \n",
       "Q 53.21875 48.921875 51.53125 44.890625 \n",
       "Q 49.859375 40.875 45.40625 35.40625 \n",
       "Q 44.1875 33.984375 37.640625 27.21875 \n",
       "Q 31.109375 20.453125 19.1875 8.296875 \n",
       "z\n",
       "\" id=\"DejaVuSans-50\"/>\n",
       "       </defs>\n",
       "       <use xlink:href=\"#DejaVuSans-48\"/>\n",
       "       <use x=\"63.623047\" xlink:href=\"#DejaVuSans-46\"/>\n",
       "       <use x=\"95.410156\" xlink:href=\"#DejaVuSans-50\"/>\n",
       "      </g>\n",
       "     </g>\n",
       "    </g>\n",
       "    <g id=\"xtick_3\">\n",
       "     <g id=\"line2d_3\">\n",
       "      <g>\n",
       "       <use style=\"stroke:#000000;stroke-width:0.8;\" x=\"176.19767\" xlink:href=\"#mc74be1b751\" y=\"273.312\"/>\n",
       "      </g>\n",
       "     </g>\n",
       "     <g id=\"text_3\">\n",
       "      <!-- 0.4 -->\n",
       "      <g transform=\"translate(168.246108 287.910437)scale(0.1 -0.1)\">\n",
       "       <defs>\n",
       "        <path d=\"M 37.796875 64.3125 \n",
       "L 12.890625 25.390625 \n",
       "L 37.796875 25.390625 \n",
       "z\n",
       "M 35.203125 72.90625 \n",
       "L 47.609375 72.90625 \n",
       "L 47.609375 25.390625 \n",
       "L 58.015625 25.390625 \n",
       "L 58.015625 17.1875 \n",
       "L 47.609375 17.1875 \n",
       "L 47.609375 0 \n",
       "L 37.796875 0 \n",
       "L 37.796875 17.1875 \n",
       "L 4.890625 17.1875 \n",
       "L 4.890625 26.703125 \n",
       "z\n",
       "\" id=\"DejaVuSans-52\"/>\n",
       "       </defs>\n",
       "       <use xlink:href=\"#DejaVuSans-48\"/>\n",
       "       <use x=\"63.623047\" xlink:href=\"#DejaVuSans-46\"/>\n",
       "       <use x=\"95.410156\" xlink:href=\"#DejaVuSans-52\"/>\n",
       "      </g>\n",
       "     </g>\n",
       "    </g>\n",
       "    <g id=\"xtick_4\">\n",
       "     <g id=\"line2d_4\">\n",
       "      <g>\n",
       "       <use style=\"stroke:#000000;stroke-width:0.8;\" x=\"241.12858\" xlink:href=\"#mc74be1b751\" y=\"273.312\"/>\n",
       "      </g>\n",
       "     </g>\n",
       "     <g id=\"text_4\">\n",
       "      <!-- 0.6 -->\n",
       "      <g transform=\"translate(233.177017 287.910437)scale(0.1 -0.1)\">\n",
       "       <defs>\n",
       "        <path d=\"M 33.015625 40.375 \n",
       "Q 26.375 40.375 22.484375 35.828125 \n",
       "Q 18.609375 31.296875 18.609375 23.390625 \n",
       "Q 18.609375 15.53125 22.484375 10.953125 \n",
       "Q 26.375 6.390625 33.015625 6.390625 \n",
       "Q 39.65625 6.390625 43.53125 10.953125 \n",
       "Q 47.40625 15.53125 47.40625 23.390625 \n",
       "Q 47.40625 31.296875 43.53125 35.828125 \n",
       "Q 39.65625 40.375 33.015625 40.375 \n",
       "z\n",
       "M 52.59375 71.296875 \n",
       "L 52.59375 62.3125 \n",
       "Q 48.875 64.0625 45.09375 64.984375 \n",
       "Q 41.3125 65.921875 37.59375 65.921875 \n",
       "Q 27.828125 65.921875 22.671875 59.328125 \n",
       "Q 17.53125 52.734375 16.796875 39.40625 \n",
       "Q 19.671875 43.65625 24.015625 45.921875 \n",
       "Q 28.375 48.1875 33.59375 48.1875 \n",
       "Q 44.578125 48.1875 50.953125 41.515625 \n",
       "Q 57.328125 34.859375 57.328125 23.390625 \n",
       "Q 57.328125 12.15625 50.6875 5.359375 \n",
       "Q 44.046875 -1.421875 33.015625 -1.421875 \n",
       "Q 20.359375 -1.421875 13.671875 8.265625 \n",
       "Q 6.984375 17.96875 6.984375 36.375 \n",
       "Q 6.984375 53.65625 15.1875 63.9375 \n",
       "Q 23.390625 74.21875 37.203125 74.21875 \n",
       "Q 40.921875 74.21875 44.703125 73.484375 \n",
       "Q 48.484375 72.75 52.59375 71.296875 \n",
       "z\n",
       "\" id=\"DejaVuSans-54\"/>\n",
       "       </defs>\n",
       "       <use xlink:href=\"#DejaVuSans-48\"/>\n",
       "       <use x=\"63.623047\" xlink:href=\"#DejaVuSans-46\"/>\n",
       "       <use x=\"95.410156\" xlink:href=\"#DejaVuSans-54\"/>\n",
       "      </g>\n",
       "     </g>\n",
       "    </g>\n",
       "    <g id=\"xtick_5\">\n",
       "     <g id=\"line2d_5\">\n",
       "      <g>\n",
       "       <use style=\"stroke:#000000;stroke-width:0.8;\" x=\"306.059489\" xlink:href=\"#mc74be1b751\" y=\"273.312\"/>\n",
       "      </g>\n",
       "     </g>\n",
       "     <g id=\"text_5\">\n",
       "      <!-- 0.8 -->\n",
       "      <g transform=\"translate(298.107926 287.910437)scale(0.1 -0.1)\">\n",
       "       <defs>\n",
       "        <path d=\"M 31.78125 34.625 \n",
       "Q 24.75 34.625 20.71875 30.859375 \n",
       "Q 16.703125 27.09375 16.703125 20.515625 \n",
       "Q 16.703125 13.921875 20.71875 10.15625 \n",
       "Q 24.75 6.390625 31.78125 6.390625 \n",
       "Q 38.8125 6.390625 42.859375 10.171875 \n",
       "Q 46.921875 13.96875 46.921875 20.515625 \n",
       "Q 46.921875 27.09375 42.890625 30.859375 \n",
       "Q 38.875 34.625 31.78125 34.625 \n",
       "z\n",
       "M 21.921875 38.8125 \n",
       "Q 15.578125 40.375 12.03125 44.71875 \n",
       "Q 8.5 49.078125 8.5 55.328125 \n",
       "Q 8.5 64.0625 14.71875 69.140625 \n",
       "Q 20.953125 74.21875 31.78125 74.21875 \n",
       "Q 42.671875 74.21875 48.875 69.140625 \n",
       "Q 55.078125 64.0625 55.078125 55.328125 \n",
       "Q 55.078125 49.078125 51.53125 44.71875 \n",
       "Q 48 40.375 41.703125 38.8125 \n",
       "Q 48.828125 37.15625 52.796875 32.3125 \n",
       "Q 56.78125 27.484375 56.78125 20.515625 \n",
       "Q 56.78125 9.90625 50.3125 4.234375 \n",
       "Q 43.84375 -1.421875 31.78125 -1.421875 \n",
       "Q 19.734375 -1.421875 13.25 4.234375 \n",
       "Q 6.78125 9.90625 6.78125 20.515625 \n",
       "Q 6.78125 27.484375 10.78125 32.3125 \n",
       "Q 14.796875 37.15625 21.921875 38.8125 \n",
       "z\n",
       "M 18.3125 54.390625 \n",
       "Q 18.3125 48.734375 21.84375 45.5625 \n",
       "Q 25.390625 42.390625 31.78125 42.390625 \n",
       "Q 38.140625 42.390625 41.71875 45.5625 \n",
       "Q 45.3125 48.734375 45.3125 54.390625 \n",
       "Q 45.3125 60.0625 41.71875 63.234375 \n",
       "Q 38.140625 66.40625 31.78125 66.40625 \n",
       "Q 25.390625 66.40625 21.84375 63.234375 \n",
       "Q 18.3125 60.0625 18.3125 54.390625 \n",
       "z\n",
       "\" id=\"DejaVuSans-56\"/>\n",
       "       </defs>\n",
       "       <use xlink:href=\"#DejaVuSans-48\"/>\n",
       "       <use x=\"63.623047\" xlink:href=\"#DejaVuSans-46\"/>\n",
       "       <use x=\"95.410156\" xlink:href=\"#DejaVuSans-56\"/>\n",
       "      </g>\n",
       "     </g>\n",
       "    </g>\n",
       "    <g id=\"xtick_6\">\n",
       "     <g id=\"line2d_6\">\n",
       "      <g>\n",
       "       <use style=\"stroke:#000000;stroke-width:0.8;\" x=\"370.990398\" xlink:href=\"#mc74be1b751\" y=\"273.312\"/>\n",
       "      </g>\n",
       "     </g>\n",
       "     <g id=\"text_6\">\n",
       "      <!-- 1.0 -->\n",
       "      <g transform=\"translate(363.038835 287.910437)scale(0.1 -0.1)\">\n",
       "       <defs>\n",
       "        <path d=\"M 12.40625 8.296875 \n",
       "L 28.515625 8.296875 \n",
       "L 28.515625 63.921875 \n",
       "L 10.984375 60.40625 \n",
       "L 10.984375 69.390625 \n",
       "L 28.421875 72.90625 \n",
       "L 38.28125 72.90625 \n",
       "L 38.28125 8.296875 \n",
       "L 54.390625 8.296875 \n",
       "L 54.390625 0 \n",
       "L 12.40625 0 \n",
       "z\n",
       "\" id=\"DejaVuSans-49\"/>\n",
       "       </defs>\n",
       "       <use xlink:href=\"#DejaVuSans-49\"/>\n",
       "       <use x=\"63.623047\" xlink:href=\"#DejaVuSans-46\"/>\n",
       "       <use x=\"95.410156\" xlink:href=\"#DejaVuSans-48\"/>\n",
       "      </g>\n",
       "     </g>\n",
       "    </g>\n",
       "   </g>\n",
       "   <g id=\"matplotlib.axis_2\">\n",
       "    <g id=\"ytick_1\">\n",
       "     <g id=\"line2d_7\">\n",
       "      <defs>\n",
       "       <path d=\"M 0 0 \n",
       "L -3.5 0 \n",
       "\" id=\"m92a6e98f38\" style=\"stroke:#000000;stroke-width:0.8;\"/>\n",
       "      </defs>\n",
       "      <g>\n",
       "       <use style=\"stroke:#000000;stroke-width:0.8;\" x=\"30.103125\" xlink:href=\"#m92a6e98f38\" y=\"261.216\"/>\n",
       "      </g>\n",
       "     </g>\n",
       "     <g id=\"text_7\">\n",
       "      <!-- 0.5 -->\n",
       "      <g transform=\"translate(7.2 265.015219)scale(0.1 -0.1)\">\n",
       "       <defs>\n",
       "        <path d=\"M 10.796875 72.90625 \n",
       "L 49.515625 72.90625 \n",
       "L 49.515625 64.59375 \n",
       "L 19.828125 64.59375 \n",
       "L 19.828125 46.734375 \n",
       "Q 21.96875 47.46875 24.109375 47.828125 \n",
       "Q 26.265625 48.1875 28.421875 48.1875 \n",
       "Q 40.625 48.1875 47.75 41.5 \n",
       "Q 54.890625 34.8125 54.890625 23.390625 \n",
       "Q 54.890625 11.625 47.5625 5.09375 \n",
       "Q 40.234375 -1.421875 26.90625 -1.421875 \n",
       "Q 22.3125 -1.421875 17.546875 -0.640625 \n",
       "Q 12.796875 0.140625 7.71875 1.703125 \n",
       "L 7.71875 11.625 \n",
       "Q 12.109375 9.234375 16.796875 8.0625 \n",
       "Q 21.484375 6.890625 26.703125 6.890625 \n",
       "Q 35.15625 6.890625 40.078125 11.328125 \n",
       "Q 45.015625 15.765625 45.015625 23.390625 \n",
       "Q 45.015625 31 40.078125 35.4375 \n",
       "Q 35.15625 39.890625 26.703125 39.890625 \n",
       "Q 22.75 39.890625 18.8125 39.015625 \n",
       "Q 14.890625 38.140625 10.796875 36.28125 \n",
       "z\n",
       "\" id=\"DejaVuSans-53\"/>\n",
       "       </defs>\n",
       "       <use xlink:href=\"#DejaVuSans-48\"/>\n",
       "       <use x=\"63.623047\" xlink:href=\"#DejaVuSans-46\"/>\n",
       "       <use x=\"95.410156\" xlink:href=\"#DejaVuSans-53\"/>\n",
       "      </g>\n",
       "     </g>\n",
       "    </g>\n",
       "    <g id=\"ytick_2\">\n",
       "     <g id=\"line2d_8\">\n",
       "      <g>\n",
       "       <use style=\"stroke:#000000;stroke-width:0.8;\" x=\"30.103125\" xlink:href=\"#m92a6e98f38\" y=\"223.351252\"/>\n",
       "      </g>\n",
       "     </g>\n",
       "     <g id=\"text_8\">\n",
       "      <!-- 1.0 -->\n",
       "      <g transform=\"translate(7.2 227.150471)scale(0.1 -0.1)\">\n",
       "       <use xlink:href=\"#DejaVuSans-49\"/>\n",
       "       <use x=\"63.623047\" xlink:href=\"#DejaVuSans-46\"/>\n",
       "       <use x=\"95.410156\" xlink:href=\"#DejaVuSans-48\"/>\n",
       "      </g>\n",
       "     </g>\n",
       "    </g>\n",
       "    <g id=\"ytick_3\">\n",
       "     <g id=\"line2d_9\">\n",
       "      <g>\n",
       "       <use style=\"stroke:#000000;stroke-width:0.8;\" x=\"30.103125\" xlink:href=\"#m92a6e98f38\" y=\"185.486504\"/>\n",
       "      </g>\n",
       "     </g>\n",
       "     <g id=\"text_9\">\n",
       "      <!-- 1.5 -->\n",
       "      <g transform=\"translate(7.2 189.285723)scale(0.1 -0.1)\">\n",
       "       <use xlink:href=\"#DejaVuSans-49\"/>\n",
       "       <use x=\"63.623047\" xlink:href=\"#DejaVuSans-46\"/>\n",
       "       <use x=\"95.410156\" xlink:href=\"#DejaVuSans-53\"/>\n",
       "      </g>\n",
       "     </g>\n",
       "    </g>\n",
       "    <g id=\"ytick_4\">\n",
       "     <g id=\"line2d_10\">\n",
       "      <g>\n",
       "       <use style=\"stroke:#000000;stroke-width:0.8;\" x=\"30.103125\" xlink:href=\"#m92a6e98f38\" y=\"147.621756\"/>\n",
       "      </g>\n",
       "     </g>\n",
       "     <g id=\"text_10\">\n",
       "      <!-- 2.0 -->\n",
       "      <g transform=\"translate(7.2 151.420974)scale(0.1 -0.1)\">\n",
       "       <use xlink:href=\"#DejaVuSans-50\"/>\n",
       "       <use x=\"63.623047\" xlink:href=\"#DejaVuSans-46\"/>\n",
       "       <use x=\"95.410156\" xlink:href=\"#DejaVuSans-48\"/>\n",
       "      </g>\n",
       "     </g>\n",
       "    </g>\n",
       "    <g id=\"ytick_5\">\n",
       "     <g id=\"line2d_11\">\n",
       "      <g>\n",
       "       <use style=\"stroke:#000000;stroke-width:0.8;\" x=\"30.103125\" xlink:href=\"#m92a6e98f38\" y=\"109.757008\"/>\n",
       "      </g>\n",
       "     </g>\n",
       "     <g id=\"text_11\">\n",
       "      <!-- 2.5 -->\n",
       "      <g transform=\"translate(7.2 113.556226)scale(0.1 -0.1)\">\n",
       "       <use xlink:href=\"#DejaVuSans-50\"/>\n",
       "       <use x=\"63.623047\" xlink:href=\"#DejaVuSans-46\"/>\n",
       "       <use x=\"95.410156\" xlink:href=\"#DejaVuSans-53\"/>\n",
       "      </g>\n",
       "     </g>\n",
       "    </g>\n",
       "    <g id=\"ytick_6\">\n",
       "     <g id=\"line2d_12\">\n",
       "      <g>\n",
       "       <use style=\"stroke:#000000;stroke-width:0.8;\" x=\"30.103125\" xlink:href=\"#m92a6e98f38\" y=\"71.892259\"/>\n",
       "      </g>\n",
       "     </g>\n",
       "     <g id=\"text_12\">\n",
       "      <!-- 3.0 -->\n",
       "      <g transform=\"translate(7.2 75.691478)scale(0.1 -0.1)\">\n",
       "       <defs>\n",
       "        <path d=\"M 40.578125 39.3125 \n",
       "Q 47.65625 37.796875 51.625 33 \n",
       "Q 55.609375 28.21875 55.609375 21.1875 \n",
       "Q 55.609375 10.40625 48.1875 4.484375 \n",
       "Q 40.765625 -1.421875 27.09375 -1.421875 \n",
       "Q 22.515625 -1.421875 17.65625 -0.515625 \n",
       "Q 12.796875 0.390625 7.625 2.203125 \n",
       "L 7.625 11.71875 \n",
       "Q 11.71875 9.328125 16.59375 8.109375 \n",
       "Q 21.484375 6.890625 26.8125 6.890625 \n",
       "Q 36.078125 6.890625 40.9375 10.546875 \n",
       "Q 45.796875 14.203125 45.796875 21.1875 \n",
       "Q 45.796875 27.640625 41.28125 31.265625 \n",
       "Q 36.765625 34.90625 28.71875 34.90625 \n",
       "L 20.21875 34.90625 \n",
       "L 20.21875 43.015625 \n",
       "L 29.109375 43.015625 \n",
       "Q 36.375 43.015625 40.234375 45.921875 \n",
       "Q 44.09375 48.828125 44.09375 54.296875 \n",
       "Q 44.09375 59.90625 40.109375 62.90625 \n",
       "Q 36.140625 65.921875 28.71875 65.921875 \n",
       "Q 24.65625 65.921875 20.015625 65.03125 \n",
       "Q 15.375 64.15625 9.8125 62.3125 \n",
       "L 9.8125 71.09375 \n",
       "Q 15.4375 72.65625 20.34375 73.4375 \n",
       "Q 25.25 74.21875 29.59375 74.21875 \n",
       "Q 40.828125 74.21875 47.359375 69.109375 \n",
       "Q 53.90625 64.015625 53.90625 55.328125 \n",
       "Q 53.90625 49.265625 50.4375 45.09375 \n",
       "Q 46.96875 40.921875 40.578125 39.3125 \n",
       "z\n",
       "\" id=\"DejaVuSans-51\"/>\n",
       "       </defs>\n",
       "       <use xlink:href=\"#DejaVuSans-51\"/>\n",
       "       <use x=\"63.623047\" xlink:href=\"#DejaVuSans-46\"/>\n",
       "       <use x=\"95.410156\" xlink:href=\"#DejaVuSans-48\"/>\n",
       "      </g>\n",
       "     </g>\n",
       "    </g>\n",
       "    <g id=\"ytick_7\">\n",
       "     <g id=\"line2d_13\">\n",
       "      <g>\n",
       "       <use style=\"stroke:#000000;stroke-width:0.8;\" x=\"30.103125\" xlink:href=\"#m92a6e98f38\" y=\"34.027511\"/>\n",
       "      </g>\n",
       "     </g>\n",
       "     <g id=\"text_13\">\n",
       "      <!-- 3.5 -->\n",
       "      <g transform=\"translate(7.2 37.82673)scale(0.1 -0.1)\">\n",
       "       <use xlink:href=\"#DejaVuSans-51\"/>\n",
       "       <use x=\"63.623047\" xlink:href=\"#DejaVuSans-46\"/>\n",
       "       <use x=\"95.410156\" xlink:href=\"#DejaVuSans-53\"/>\n",
       "      </g>\n",
       "     </g>\n",
       "    </g>\n",
       "   </g>\n",
       "   <g id=\"line2d_14\">\n",
       "    <path clip-path=\"url(#p8c26e3b3e9)\" d=\"M 46.335852 261.216 \n",
       "L 49.400875 260.494255 \n",
       "L 54.983816 259.144059 \n",
       "L 61.665818 257.46581 \n",
       "L 69.8628 255.310434 \n",
       "L 79.215084 252.714602 \n",
       "L 89.750921 249.605402 \n",
       "L 101.237848 245.977479 \n",
       "L 113.572393 241.78513 \n",
       "L 126.584997 237.003042 \n",
       "L 140.155622 231.590216 \n",
       "L 154.160323 225.508948 \n",
       "L 168.501261 218.713427 \n",
       "L 183.091823 211.155127 \n",
       "L 197.862562 202.779158 \n",
       "L 212.756193 193.525398 \n",
       "L 227.727462 183.32708 \n",
       "L 242.740472 172.110798 \n",
       "L 257.767505 159.795651 \n",
       "L 272.787377 146.292765 \n",
       "L 287.784306 131.504541 \n",
       "L 302.746799 115.32396 \n",
       "L 317.666805 97.633773 \n",
       "L 332.538962 78.305646 \n",
       "L 347.360017 57.199212 \n",
       "L 362.128335 34.16105 \n",
       "L 370.990398 19.296 \n",
       "\" style=\"fill:none;stroke:#1f77b4;stroke-linecap:square;stroke-width:1.5;\"/>\n",
       "   </g>\n",
       "   <g id=\"patch_3\">\n",
       "    <path d=\"M 30.103125 273.312 \n",
       "L 30.103125 7.2 \n",
       "\" style=\"fill:none;stroke:#000000;stroke-linecap:square;stroke-linejoin:miter;stroke-width:0.8;\"/>\n",
       "   </g>\n",
       "   <g id=\"patch_4\">\n",
       "    <path d=\"M 387.223125 273.312 \n",
       "L 387.223125 7.2 \n",
       "\" style=\"fill:none;stroke:#000000;stroke-linecap:square;stroke-linejoin:miter;stroke-width:0.8;\"/>\n",
       "   </g>\n",
       "   <g id=\"patch_5\">\n",
       "    <path d=\"M 30.103125 273.312 \n",
       "L 387.223125 273.312 \n",
       "\" style=\"fill:none;stroke:#000000;stroke-linecap:square;stroke-linejoin:miter;stroke-width:0.8;\"/>\n",
       "   </g>\n",
       "   <g id=\"patch_6\">\n",
       "    <path d=\"M 30.103125 7.2 \n",
       "L 387.223125 7.2 \n",
       "\" style=\"fill:none;stroke:#000000;stroke-linecap:square;stroke-linejoin:miter;stroke-width:0.8;\"/>\n",
       "   </g>\n",
       "  </g>\n",
       " </g>\n",
       " <defs>\n",
       "  <clipPath id=\"p8c26e3b3e9\">\n",
       "   <rect height=\"266.112\" width=\"357.12\" x=\"30.103125\" y=\"7.2\"/>\n",
       "  </clipPath>\n",
       " </defs>\n",
       "</svg>\n"
      ],
      "text/plain": [
       "Figure(PyObject <Figure size 640x480 with 1 Axes>)"
      ]
     },
     "metadata": {},
     "output_type": "display_data"
    },
    {
     "data": {
      "text/plain": [
       "1-element Vector{PyObject}:\n",
       " PyObject <matplotlib.lines.Line2D object at 0x7f8ac95ed5e0>"
      ]
     },
     "execution_count": 21,
     "metadata": {},
     "output_type": "execute_result"
    }
   ],
   "source": [
    "using OrdinaryDiffEq\n",
    "\n",
    "α = 2.0\n",
    "u0 = 0.5            # initial value\n",
    "f(u, p, t) = α * u\n",
    "\n",
    "prob = ODEProblem(f, u0, (0.0, 1.0))\n",
    "sol = solve(prob, Tsit5(), reltol=1e-8, abstol=1e-8)\n",
    "plt.plot(sol.t, sol.u)"
   ]
  },
  {
   "cell_type": "markdown",
   "id": "f1ca772b",
   "metadata": {
    "slideshow": {
     "slide_type": "slide"
    }
   },
   "source": [
    "Now let's load in a type from the Measurements package, which lets us express a quantity and an uncertainty. What if we are uncertain about the initial value, $u(0)$?"
   ]
  },
  {
   "cell_type": "code",
   "execution_count": 22,
   "id": "f2a505c4",
   "metadata": {
    "slideshow": {
     "slide_type": "fragment"
    }
   },
   "outputs": [
    {
     "ename": "LoadError",
     "evalue": "UndefVarError: ± not defined",
     "output_type": "error",
     "traceback": [
      "UndefVarError: ± not defined",
      "",
      "Stacktrace:",
      " [1] top-level scope",
      "   @ In[22]:2",
      " [2] eval",
      "   @ ./boot.jl:360 [inlined]",
      " [3] include_string(mapexpr::typeof(REPL.softscope), mod::Module, code::String, filename::String)",
      "   @ Base ./loading.jl:1094"
     ]
    }
   ],
   "source": [
    "α = 1.01\n",
    "u0 = 0.5 ± 0.1            # initial value\n",
    "f(u, p, t) = α * u\n",
    "prob = ODEProblem(f, u0, (0.0, 1.0))\n",
    "sol = solve(prob, Tsit5(), reltol=1e-8, abstol=1e-8);\n",
    "\n",
    "sol.u"
   ]
  },
  {
   "cell_type": "markdown",
   "id": "b586cc01",
   "metadata": {
    "slideshow": {
     "slide_type": "slide"
    }
   },
   "source": [
    "# Automatic Differentiation"
   ]
  },
  {
   "cell_type": "markdown",
   "id": "3a5a4311",
   "metadata": {
    "slideshow": {
     "slide_type": "-"
    }
   },
   "source": [
    "Julia has many different packages for automatic differentiation (AD). The kind of AD that comes up most often in Bayesian inference or machine learning is called \"reverse mode,\" which is the most efficient when you are taking the derivative of a scalar function (like a \"loss\" or a \"posterior probability\") with respect to many inputs. \n",
    "\n",
    "Julia's reverse-mode source-to-source AD package is called Zygote."
   ]
  },
  {
   "cell_type": "code",
   "execution_count": 46,
   "id": "f976d594",
   "metadata": {
    "slideshow": {
     "slide_type": "-"
    }
   },
   "outputs": [],
   "source": [
    "using Zygote"
   ]
  },
  {
   "cell_type": "code",
   "execution_count": 4,
   "id": "192a8eda",
   "metadata": {
    "slideshow": {
     "slide_type": "skip"
    }
   },
   "outputs": [],
   "source": [
    "Zygote.gradient(f, x::Union{Number,AbstractArray}) = Base.invoke(Zygote.gradient, Tuple{Any,Any}, f, x)[1]"
   ]
  },
  {
   "cell_type": "markdown",
   "id": "e9ddac8d",
   "metadata": {
    "slideshow": {
     "slide_type": "slide"
    }
   },
   "source": [
    "Simple things work like you'd expect:"
   ]
  },
  {
   "cell_type": "code",
   "execution_count": 48,
   "id": "e433f491",
   "metadata": {
    "slideshow": {
     "slide_type": "fragment"
    }
   },
   "outputs": [
    {
     "data": {
      "text/plain": [
       "2.0"
      ]
     },
     "execution_count": 48,
     "metadata": {},
     "output_type": "execute_result"
    }
   ],
   "source": [
    "gradient((x -> sin(2x)), π)"
   ]
  },
  {
   "cell_type": "markdown",
   "id": "2f14ec69",
   "metadata": {
    "slideshow": {
     "slide_type": "slide"
    }
   },
   "source": [
    "This works through arbitrary Julia code. Here's a reminder of that `relu` function we defined before:"
   ]
  },
  {
   "cell_type": "code",
   "execution_count": 49,
   "id": "d931a4f1",
   "metadata": {
    "slideshow": {
     "slide_type": "fragment"
    }
   },
   "outputs": [
    {
     "data": {
      "text/plain": [
       "relu (generic function with 1 method)"
      ]
     },
     "execution_count": 49,
     "metadata": {},
     "output_type": "execute_result"
    }
   ],
   "source": [
    "function relu(x)\n",
    "    if x > 0\n",
    "        x\n",
    "    else\n",
    "        zero(x)   # a \"0\" of the same type as x\n",
    "    end\n",
    "end"
   ]
  },
  {
   "cell_type": "markdown",
   "id": "6fa22de7",
   "metadata": {
    "slideshow": {
     "slide_type": "fragment"
    }
   },
   "source": [
    "We can use it (broadcasted across an array) in a loss function and take a gradient of the loss:"
   ]
  },
  {
   "cell_type": "code",
   "execution_count": 50,
   "id": "3e987f37",
   "metadata": {
    "slideshow": {
     "slide_type": "fragment"
    }
   },
   "outputs": [
    {
     "data": {
      "text/plain": [
       "1000-element Vector{Float64}:\n",
       " 0.0\n",
       " 1.0\n",
       " ⋮\n",
       " 1.0\n",
       " 1.0"
      ]
     },
     "execution_count": 50,
     "metadata": {},
     "output_type": "execute_result"
    }
   ],
   "source": [
    "loss(x) = sum(relu.(x))\n",
    "x = randn(1000)\n",
    "gradient(loss, x)"
   ]
  },
  {
   "cell_type": "markdown",
   "id": "2fe1407f",
   "metadata": {
    "slideshow": {
     "slide_type": "slide"
    }
   },
   "source": [
    "An aside on JAX.\n",
    "This does\n",
    "not work in JAX:\n",
    "```py\n",
    "@jit\n",
    "def relu(x):\n",
    "    if x > 0:\n",
    "        return x\n",
    "    else:\n",
    "        return 0.\n",
    "```"
   ]
  },
  {
   "cell_type": "markdown",
   "id": "ea0bc0de",
   "metadata": {
    "slideshow": {
     "slide_type": "fragment"
    }
   },
   "source": [
    "You have to do:\n",
    "\n",
    "```py\n",
    "@jit\n",
    "def relu(x):\n",
    "    return lax.cond(x>0, lambda x: x, lambda x: 0., x)\n",
    "```"
   ]
  },
  {
   "cell_type": "markdown",
   "id": "3b71357d",
   "metadata": {
    "slideshow": {
     "slide_type": "fragment"
    }
   },
   "source": [
    "This is fundamentally due to JAX being a \"tracing\" AD, whereas Zygote is \"source-to-source\". This type of thing is why I (MM) usually claim Julia AD works more transparently through any Julia arbitrary code. I don't think there's much JAX truly can't do, but I do think in some cases you're forced write things a bit obfuscated. See also: https://jax.readthedocs.io/en/latest/notebooks/Common_Gotchas_in_JAX.html"
   ]
  },
  {
   "cell_type": "markdown",
   "id": "3fe0e718",
   "metadata": {
    "slideshow": {
     "slide_type": "slide"
    }
   },
   "source": [
    "# GPU"
   ]
  },
  {
   "cell_type": "code",
   "execution_count": 41,
   "id": "2749d35b",
   "metadata": {
    "slideshow": {
     "slide_type": "fragment"
    }
   },
   "outputs": [],
   "source": [
    "using CUDA"
   ]
  },
  {
   "cell_type": "markdown",
   "id": "2debda33",
   "metadata": {
    "slideshow": {
     "slide_type": "fragment"
    }
   },
   "source": [
    "`cu` moves objects like Arrays to (a CUDA) GPU:"
   ]
  },
  {
   "cell_type": "code",
   "execution_count": 51,
   "id": "9e6cabbc",
   "metadata": {
    "slideshow": {
     "slide_type": "fragment"
    }
   },
   "outputs": [
    {
     "data": {
      "text/plain": [
       "1000-element CuArray{Float32, 1}:\n",
       " -1.314315\n",
       "  0.1031893\n",
       "  ⋮\n",
       "  0.068978585\n",
       "  1.11943"
      ]
     },
     "execution_count": 51,
     "metadata": {},
     "output_type": "execute_result"
    }
   ],
   "source": [
    "x = cu(x)"
   ]
  },
  {
   "cell_type": "markdown",
   "id": "53a0ee0c",
   "metadata": {
    "slideshow": {
     "slide_type": "fragment"
    }
   },
   "source": [
    "Then the same `loss` gradient works, but this happened on GPU:"
   ]
  },
  {
   "cell_type": "code",
   "execution_count": 52,
   "id": "74f41e4f",
   "metadata": {
    "slideshow": {
     "slide_type": "fragment"
    }
   },
   "outputs": [
    {
     "data": {
      "text/plain": [
       "1000-element CuArray{Float32, 1}:\n",
       " 0.0\n",
       " 1.0\n",
       " ⋮\n",
       " 1.0\n",
       " 1.0"
      ]
     },
     "execution_count": 52,
     "metadata": {},
     "output_type": "execute_result"
    }
   ],
   "source": [
    "gradient(loss, x)"
   ]
  },
  {
   "cell_type": "markdown",
   "id": "74da5af6",
   "metadata": {
    "slideshow": {
     "slide_type": "slide"
    }
   },
   "source": [
    "Note that as part of that computation, our user-defined Julia function `relu` was compiled to a GPU kernel. You can look at that code if you like:"
   ]
  },
  {
   "cell_type": "code",
   "execution_count": 58,
   "id": "64c90256",
   "metadata": {
    "slideshow": {
     "slide_type": "fragment"
    }
   },
   "outputs": [
    {
     "name": "stdout",
     "output_type": "stream",
     "text": [
      "// PTX CompilerJob of kernel broadcast_kernel(CUDA.CuKernelContext, CuDeviceVector{Float32, 1}, Base.Broadcast.Broadcasted{Nothing, Tuple{Base.OneTo{Int64}}, typeof(relu), Tuple{Base.Broadcast.Extruded{CuDeviceVector{Float32, 1}, Tuple{Bool}, Tuple{Int64}}}}, Int64) for sm_50\n",
      "\n",
      "\t.headerflags\t@\"EF_CUDA_TEXMODE_UNIFIED EF_CUDA_64BIT_ADDRESS EF_CUDA_SM50 EF_CUDA_VIRTUAL_SM(EF_CUDA_SM50)\"\n",
      "\t.elftype\t@\"ET_EXEC\"\n",
      "\n",
      "\n",
      "//--------------------- .text._Z28julia_broadcast_kernel_1240115CuKernelContext13CuDeviceArrayI7Float32Li1ELi1EE11BroadcastedIv5TupleI5OneToI5Int64EE5_reluS3_I8ExtrudedIS0_IS1_Li1ELi1EES3_I4BoolES3_IS5_EEEES5_ --------------------------\n",
      "\t.section\t.text._Z28julia_broadcast_kernel_1240115CuKernelContext13CuDeviceArrayI7Float32Li1ELi1EE11BroadcastedIv5TupleI5OneToI5Int64EE5_reluS3_I8ExtrudedIS0_IS1_Li1ELi1EES3_I4BoolES3_IS5_EEEES5_,\"ax\",@progbits\n",
      "\t.sectioninfo\t@\"SHI_REGISTERS=29\"\n",
      "\t.align\t32\n",
      "        .global         _Z28julia_broadcast_kernel_1240115CuKernelContext13CuDeviceArrayI7Float32Li1ELi1EE11BroadcastedIv5TupleI5OneToI5Int64EE5_reluS3_I8ExtrudedIS0_IS1_Li1ELi1EES3_I4BoolES3_IS5_EEEES5_\n",
      "        .type           _Z28julia_broadcast_kernel_1240115CuKernelContext13CuDeviceArrayI7Float32Li1ELi1EE11BroadcastedIv5TupleI5OneToI5Int64EE5_reluS3_I8ExtrudedIS0_IS1_Li1ELi1EES3_I4BoolES3_IS5_EEEES5_,@function\n",
      "        .size           _Z28julia_broadcast_kernel_1240115CuKernelContext13CuDeviceArrayI7Float32Li1ELi1EE11BroadcastedIv5TupleI5OneToI5Int64EE5_reluS3_I8ExtrudedIS0_IS1_Li1ELi1EES3_I4BoolES3_IS5_EEEES5_,(.L_68 - _Z28julia_broadcast_kernel_1240115CuKernelContext13CuDeviceArrayI7Float32Li1ELi1EE11BroadcastedIv5TupleI5OneToI5Int64EE5_reluS3_I8ExtrudedIS0_IS1_Li1ELi1EES3_I4BoolES3_IS5_EEEES5_)\n",
      "        .other          _Z28julia_broadcast_kernel_1240115CuKernelContext13CuDeviceArrayI7Float32Li1ELi1EE11BroadcastedIv5TupleI5OneToI5Int64EE5_reluS3_I8ExtrudedIS0_IS1_Li1ELi1EES3_I4BoolES3_IS5_EEEES5_,@\"STO_CUDA_ENTRY STV_DEFAULT\"\n",
      "_Z28julia_broadcast_kernel_1240115CuKernelContext13CuDeviceArrayI7Float32Li1ELi1EE11BroadcastedIv5TupleI5OneToI5Int64EE5_reluS3_I8ExtrudedIS0_IS1_Li1ELi1EES3_I4BoolES3_IS5_EEEES5_:\n",
      "\n",
      ".text._Z28julia_broadcast_kernel_1240115CuKernelContext13CuDeviceArrayI7Float32Li1ELi1EE11BroadcastedIv5TupleI5OneToI5Int64EE5_reluS3_I8ExtrudedIS0_IS1_Li1ELi1EES3_I4BoolES3_IS5_EEEES5_:\n",
      "; Location /home/marius/.julia/packages/GPUArrays/8dzSJ/src/host/broadcast.jl:56\n",
      "        MOV R1, c[0x0][0x20] ;\n",
      "; Location ./range.jl:292\n",
      "        MOV R0, c[0x0][0x188] ;\n",
      "        MOV R3, c[0x0][0x18c] ;\n",
      "        IADD32I R1, R1, -0x8 ;\n",
      "        IADD32I RZ.CC, R0, -0x1 ;\n",
      "        ISETP.GE.X.AND P0, PT, R3, RZ, PT ;\n",
      "        NOP ;\n",
      "        NOP ;\n",
      "; Location /home/marius/.julia/packages/GPUArrays/8dzSJ/src/host/broadcast.jl:57\n",
      "   @!P0 EXIT ;\n",
      "        LDC.U8 R0, c[0x0][0x170] ;\n",
      "                         {         IADD RZ.CC, -RZ, c[0x0][0x188] ;\n",
      "        S2R R2, SR_TID.X         }\n",
      "        MOV R21, c[0x0][0x154] ;\n",
      "        MOV R22, c[0x0][0x150] ;\n",
      "                         {         ISETP.GT.X.AND P0, PT, R3, RZ, PT   SLOT 0;\n",
      "        S2R R3, SR_CTAID.X   SLOT 1        }\n",
      "        IMNMX.XHI R21.CC, R21, RZ, !PT ;\n",
      "        SEL R20, RZ, c[0x0][0x188], !P0 ;\n",
      "        IMNMX.U32.XLO R22, R22, RZ, !PT ;\n",
      "        LOP32I.AND R0, R0, 0x1 ;\n",
      "        SEL R19, RZ, c[0x0][0x18c], !P0 ;\n",
      "        ISETP.NE.U32.AND P1, PT, R0, 0x1, PT ;\n",
      "                         {         IADD32I R0, R2, 0x1 ;\n",
      "; Location /home/marius/.julia/packages/GPUArrays/8dzSJ/src/device/indexing.jl:67\n",
      "    @P1 BRA `(.L_6)         }\n",
      "        XMAD R25, R3.reuse, c[0x0] [0x8], RZ ;\n",
      "        XMAD R4, R3.reuse, c[0x0] [0x8], RZ ;\n",
      "        XMAD.MRG R2, R3.reuse, c[0x0] [0x8].H1, RZ ;\n",
      "        XMAD R23, R3.reuse, c[0x0] [0x8].H1, RZ ;\n",
      "        XMAD R5, R3.H1, c[0x0] [0x8].H1, RZ ;\n",
      "        MOV R16, c[0x0][0x14] ;\n",
      "        XMAD.CHI R4, R3.H1.reuse, c[0x0] [0x8], R4 ;\n",
      "        XMAD.PSL.CBCC R25, R3.H1, R2.H1, R25 ;\n",
      "        XMAD R2, R16.reuse, c[0x0] [0x8], RZ ;\n",
      "        XMAD.MRG R3, R16, c[0x0] [0x8].H1, RZ ;\n",
      "        IADD3.RS R23, R4, R23, R5 ;\n",
      "        IADD R25.CC, R0, R25 ;\n",
      "        XMAD R5, R16.reuse, c[0x0] [0x8], RZ ;\n",
      "        XMAD R0, R16.reuse, c[0x0] [0x8].H1, RZ ;\n",
      "        XMAD R6, R16.H1.reuse, c[0x0] [0x8].H1, RZ ;\n",
      "        IADD.X R23, RZ, R23 ;\n",
      "; Location ./int.jl:83\n",
      "        IADD RZ.CC, R25, -c[0x0][0x150] ;\n",
      "; Location /home/marius/.julia/packages/GPUArrays/8dzSJ/src/device/indexing.jl:67\n",
      "        XMAD.CHI R5, R16.H1, c[0x0] [0x8], R5 ;\n",
      "        XMAD.PSL.CBCC R16, R16.H1, R3.H1, R2 ;\n",
      "; Location ./int.jl:83\n",
      "        ISETP.GT.X.AND P0, PT, R23, c[0x0][0x154], PT ;\n",
      "; Location /home/marius/.julia/packages/GPUArrays/8dzSJ/src/device/indexing.jl:67\n",
      "                         {         IADD3.RS R2, R5, R0, R6 ;\n",
      "; Location ./int.jl:83\n",
      "    @P0 EXIT         }\n",
      "; Location /home/marius/.julia/packages/GPUArrays/8dzSJ/src/device/indexing.jl:67\n",
      "        LEA R27.CC, R25.reuse, -0x4, 0x2 ;\n",
      "        SHF.L.U64 R17, R16.reuse, 0x2, R2 ;\n",
      "        SHL R18, R16, 0x2 ;\n",
      "        LEA.HI.X R24, R25, c[0x2][0x0], R23, 0x2 ;\n",
      "\n",
      ".L_8:\n",
      "; Location ./int.jl:442\n",
      "                         {         IADD RZ.CC, R25.reuse, -R22 ;\n",
      "        SSY `(.L_7)         }\n",
      "        ISETP.GT.X.AND P0, PT, R23, R21, PT ;\n",
      "        IADD32I RZ.CC, R25, -0x1 ;\n",
      "        ISETP.LT.X.OR P0, PT, R23, RZ, P0 ;\n",
      "\n",
      ".L_58:\n",
      "; Location ./range.jl:702\n",
      "   @!P0 SYNC                                                                                                                                                                                                                       (*\"BRANCH_TARGETS .L_7\"*);\n",
      "        CAL `($_Z28julia_broadcast_kernel_1240115CuKernelContext13CuDeviceArrayI7Float32Li1ELi1EE11BroadcastedIv5TupleI5OneToI5Int64EE5_reluS3_I8ExtrudedIS0_IS1_Li1ELi1EES3_I4BoolES3_IS5_EEEES5_$julia_throw_boundserror_12424) ;\n",
      "        BPT.TRAP 0x1 ;\n",
      "\n",
      ".L_60:\n",
      "        SYNC                                                                                                                                                                                                                       (*\"BRANCH_TARGETS .L_7\"*);\n",
      "\n",
      ".L_7:\n",
      "; Location /home/marius/.julia/packages/LLVM/vYEzc/src/interop/base.jl:39\n",
      "        IADD R4.CC, R27.reuse, c[0x0][0x158] ;\n",
      "        IADD.X R5, R24, c[0x0][0x15c] ;\n",
      "        LDG.E R4, [R4] ;\n",
      "; Location ./promotion.jl:410\n",
      "        IADD32I R20.CC, R20, -0x1 ;\n",
      "        IADD32I.X R19, R19, -0x1 ;\n",
      "; Location /home/marius/.julia/packages/LLVM/vYEzc/src/interop/base.jl:39\n",
      "        IADD R6.CC, R27, c[0x0][0x140] ;\n",
      "        IADD.X R7, R24.reuse, c[0x0][0x144] ;\n",
      "; Location ./promotion.jl:410\n",
      "        IADD R27.CC, R27, R18 ;\n",
      "        IADD.X R24, R24, R17 ;\n",
      "        IADD RZ.CC, -RZ, R20 ;\n",
      "        ISETP.NE.X.AND P0, PT, R19, RZ, PT ;\n",
      "        IADD R25.CC, R25, R16 ;\n",
      "        IADD.X R23, R23, R2 ;\n",
      "; Location ./range.jl:670\n",
      "        FMNMX R0, RZ, R4, !PT ;\n",
      "; Location /home/marius/.julia/packages/LLVM/vYEzc/src/interop/base.jl:39\n",
      "        STG.E [R6], R0 ;\n",
      "; Location /home/marius/.julia/packages/GPUArrays/8dzSJ/src/host/broadcast.jl:59\n",
      "   @!P0 EXIT ;\n",
      "        IADD RZ.CC, R25, -c[0x0][0x150] ;\n",
      "        ISETP.GT.X.AND P0, PT, R23, c[0x0][0x154], PT ;\n",
      "   @!P0 BRA `(.L_8) ;\n",
      "        NOP ;\n",
      "        NOP ;\n",
      "        EXIT ;\n",
      "\n",
      ".L_6:\n",
      "; Location /home/marius/.julia/packages/GPUArrays/8dzSJ/src/device/indexing.jl:67\n",
      "        XMAD R5, R3.reuse, c[0x0] [0x8], RZ ;\n",
      "        XMAD R2, R3.reuse, c[0x0] [0x8], RZ ;\n",
      "        XMAD.MRG R4, R3.reuse, c[0x0] [0x8].H1, RZ ;\n",
      "        XMAD R6, R3.reuse, c[0x0] [0x8].H1, RZ ;\n",
      "        XMAD R7, R3.H1, c[0x0] [0x8].H1, RZ ;\n",
      "        MOV R18, c[0x0][0x14] ;\n",
      "        XMAD.CHI R5, R3.H1.reuse, c[0x0] [0x8], R5 ;\n",
      "        XMAD.PSL.CBCC R3, R3.H1, R4.H1, R2 ;\n",
      "        XMAD R17, R18.reuse, c[0x0] [0x8].H1, RZ ;\n",
      "        IADD3.RS R2, R5, R6, R7 ;\n",
      "        XMAD R5, R18, c[0x0] [0x8], RZ ;\n",
      "        IADD R24.CC, R0, R3 ;\n",
      "        MOV R0, c[0x0][0x178] ;\n",
      "        XMAD R6, R18.H1.reuse, c[0x0] [0x8].H1, RZ ;\n",
      "        XMAD R3, R18.reuse, c[0x0] [0x8], RZ ;\n",
      "        XMAD.MRG R4, R18.reuse, c[0x0] [0x8].H1, RZ ;\n",
      "        XMAD.CHI R7, R18.H1, c[0x0] [0x8], R5 ;\n",
      "        IADD.X R23, RZ, R2 ;\n",
      "        LEA R28.CC, R24.reuse, c[0x0][0x140], 0x2 ;\n",
      "        MOV R2, c[0x0][0x17c] ;\n",
      "        XMAD.PSL.CBCC R18, R18.H1, R4.H1, R3 ;\n",
      "        IADD3.RS R17, R7, R17, R6 ;\n",
      "        LEA.HI.X R25, R24, c[0x0][0x144], R23, 0x2 ;\n",
      "        IADD32I R28.CC, R28, -0x4 ;\n",
      "        IADD32I.X R25, R25, -0x1 ;\n",
      "; Location ./int.jl:83\n",
      "        IADD RZ.CC, R24, -c[0x0][0x150] ;\n",
      "        ISETP.GT.X.AND P0, PT, R23, c[0x0][0x154], PT ;\n",
      "        LEA R26.CC, R0, c[0x0][0x158], 0x2 ;\n",
      "        NOP ;\n",
      "                         {         LEA.HI.X R27, R0, c[0x0][0x15c], R2, 0x2 ;\n",
      "; Location /home/marius/.julia/packages/GPUArrays/8dzSJ/src/device/indexing.jl:67\n",
      "    @P0 EXIT         }\n",
      "        SHF.L.U64 R16, R18.reuse, 0x2, R17 ;\n",
      "        SHL R2, R18, 0x2 ;\n",
      "\n",
      ".L_11:\n",
      "; Location ./int.jl:442\n",
      "                         {         IADD RZ.CC, R24, -R22 ;\n",
      "        SSY `(.L_9)         }\n",
      "        ISETP.GT.X.AND P0, PT, R23.reuse, R21, PT ;\n",
      "        IADD RZ.CC, -RZ, R24 ;\n",
      "        ISET.GT.X.AND RZ.CC, R23, RZ, PT ;\n",
      "; Location ./range.jl:702\n",
      "   @!P0 BRA CC.NEU, `(.L_10) ;\n",
      "        CAL `($_Z28julia_broadcast_kernel_1240115CuKernelContext13CuDeviceArrayI7Float32Li1ELi1EE11BroadcastedIv5TupleI5OneToI5Int64EE5_reluS3_I8ExtrudedIS0_IS1_Li1ELi1EES3_I4BoolES3_IS5_EEEES5_$julia_throw_boundserror_12424) ;\n",
      "        BPT.TRAP 0x1 ;\n",
      "\n",
      ".L_10:\n",
      "        SYNC                                                                                                                                                                                                                       (*\"BRANCH_TARGETS .L_9\"*);\n",
      "\n",
      ".L_9:\n",
      "; Location ./promotion.jl:410\n",
      "                         {         IADD32I R20.CC, R20, -0x1 ;\n",
      "; Location /home/marius/.julia/packages/LLVM/vYEzc/src/interop/base.jl:39\n",
      "        LDG.E R0, [R26+-0x4]         }\n",
      "; Location ./promotion.jl:410\n",
      "        IADD32I.X R19, R19, -0x1 ;\n",
      "        IADD R5.CC, R28, R2 ;\n",
      "        IADD.X R6, R25, R16 ;\n",
      "        IADD RZ.CC, -RZ, R20 ;\n",
      "        ISETP.NE.X.AND P0, PT, R19, RZ, PT ;\n",
      "        IADD R4.CC, R24, R18 ;\n",
      "; Location /home/marius/.julia/packages/LLVM/vYEzc/src/interop/base.jl:39\n",
      "        MOV R24, R28 ;\n",
      "; Location ./promotion.jl:410\n",
      "        IADD.X R23, R23, R17 ;\n",
      "; Location ./range.jl:670\n",
      "        FMNMX R3, RZ, R0, !PT ;\n",
      "; Location /home/marius/.julia/packages/LLVM/vYEzc/src/interop/base.jl:39\n",
      "        STG.E [R24], R3 ;\n",
      "; Location /home/marius/.julia/packages/GPUArrays/8dzSJ/src/host/broadcast.jl:59\n",
      "   @!P0 EXIT ;\n",
      "; Location ./promotion.jl:410\n",
      "        MOV R24, R4 ;\n",
      "        MOV R28, R5 ;\n",
      "        MOV R25, R6 ;\n"
     ]
    },
    {
     "name": "stdout",
     "output_type": "stream",
     "text": [
      "        IADD RZ.CC, R24, -c[0x0][0x150] ;\n",
      "        ISETP.GT.X.AND P0, PT, R23, c[0x0][0x154], PT ;\n",
      "   @!P0 BRA `(.L_11) ;\n",
      "        NOP ;\n",
      "        NOP ;\n",
      "        EXIT ;\n",
      "        .type           $_Z28julia_broadcast_kernel_1240115CuKernelContext13CuDeviceArrayI7Float32Li1ELi1EE11BroadcastedIv5TupleI5OneToI5Int64EE5_reluS3_I8ExtrudedIS0_IS1_Li1ELi1EES3_I4BoolES3_IS5_EEEES5_$gpu_report_exception,@function\n",
      "        .size           $_Z28julia_broadcast_kernel_1240115CuKernelContext13CuDeviceArrayI7Float32Li1ELi1EE11BroadcastedIv5TupleI5OneToI5Int64EE5_reluS3_I8ExtrudedIS0_IS1_Li1ELi1EES3_I4BoolES3_IS5_EEEES5_$gpu_report_exception,($_Z28julia_broadcast_kernel_1240115CuKernelContext13CuDeviceArrayI7Float32Li1ELi1EE11BroadcastedIv5TupleI5OneToI5Int64EE5_reluS3_I8ExtrudedIS0_IS1_Li1ELi1EES3_I4BoolES3_IS5_EEEES5_$gpu_signal_exception - $_Z28julia_broadcast_kernel_1240115CuKernelContext13CuDeviceArrayI7Float32Li1ELi1EE11BroadcastedIv5TupleI5OneToI5Int64EE5_reluS3_I8ExtrudedIS0_IS1_Li1ELi1EES3_I4BoolES3_IS5_EEEES5_$gpu_report_exception)\n",
      "$_Z28julia_broadcast_kernel_1240115CuKernelContext13CuDeviceArrayI7Float32Li1ELi1EE11BroadcastedIv5TupleI5OneToI5Int64EE5_reluS3_I8ExtrudedIS0_IS1_Li1ELi1EES3_I4BoolES3_IS5_EEEES5_$gpu_report_exception:\n",
      "; Location /home/marius/.julia/packages/CUDA/lwSps/src/device/runtime.jl:51\n",
      "                         {         LOP.OR R6, R1, c[0x0][0x4] ;\n",
      "; Location /home/marius/.julia/packages/LLVM/vYEzc/src/interop/base.jl:39\n",
      "        STL.64 [R1], R8         }\n",
      "        MOV32I R4, 32@lo(__unnamed_2) ;\n",
      "        MOV32I R5, 32@hi(__unnamed_2) ;\n",
      "        MOV R7, RZ ;\n",
      "        JCAL `(vprintf) ;\n",
      "; Location /home/marius/.julia/packages/CUDA/lwSps/src/device/runtime.jl:56\n",
      "        RET ;\n",
      "        .type           $_Z28julia_broadcast_kernel_1240115CuKernelContext13CuDeviceArrayI7Float32Li1ELi1EE11BroadcastedIv5TupleI5OneToI5Int64EE5_reluS3_I8ExtrudedIS0_IS1_Li1ELi1EES3_I4BoolES3_IS5_EEEES5_$gpu_signal_exception,@function\n",
      "        .size           $_Z28julia_broadcast_kernel_1240115CuKernelContext13CuDeviceArrayI7Float32Li1ELi1EE11BroadcastedIv5TupleI5OneToI5Int64EE5_reluS3_I8ExtrudedIS0_IS1_Li1ELi1EES3_I4BoolES3_IS5_EEEES5_$gpu_signal_exception,($_Z28julia_broadcast_kernel_1240115CuKernelContext13CuDeviceArrayI7Float32Li1ELi1EE11BroadcastedIv5TupleI5OneToI5Int64EE5_reluS3_I8ExtrudedIS0_IS1_Li1ELi1EES3_I4BoolES3_IS5_EEEES5_$julia_throw_boundserror_12424 - $_Z28julia_broadcast_kernel_1240115CuKernelContext13CuDeviceArrayI7Float32Li1ELi1EE11BroadcastedIv5TupleI5OneToI5Int64EE5_reluS3_I8ExtrudedIS0_IS1_Li1ELi1EES3_I4BoolES3_IS5_EEEES5_$gpu_signal_exception)\n",
      "$_Z28julia_broadcast_kernel_1240115CuKernelContext13CuDeviceArrayI7Float32Li1ELi1EE11BroadcastedIv5TupleI5OneToI5Int64EE5_reluS3_I8ExtrudedIS0_IS1_Li1ELi1EES3_I4BoolES3_IS5_EEEES5_$gpu_signal_exception:\n",
      "; Location /home/marius/.julia/packages/CUDA/lwSps/src/device/runtime.jl:27\n",
      "        MOV32I R4, 32@lo(exception_flag) ;\n",
      "        MOV32I R5, 32@hi(exception_flag) ;\n",
      "        LDG.E.64 R6, [R4] ;\n",
      "; Location /home/marius/.julia/packages/CUDA/lwSps/src/device/runtime.jl:39\n",
      "        IADD RZ.CC, -RZ, R6 ;\n",
      "        ISETP.NE.X.AND P0, PT, R7, RZ, PT ;\n",
      "   @!P0 BRA `(.L_12) ;\n",
      "; Location ./pointer.jl:118\n",
      "        LEA R4.CC, R6.reuse, 0x7 ;\n",
      "        MOV32I R3, 0x1 ;\n",
      "        LEA.HI.X P0, R5, R6, RZ, R7 ;\n",
      "        ST.E.U8 [R4], RZ, P0 ;\n",
      "        ST.E.U8 [R4+-0x1], RZ, P0 ;\n",
      "        ST.E.U8 [R4+-0x7], R3, P0 ;\n",
      "        ST.E.U8 [R4+-0x2], RZ, P0 ;\n",
      "        ST.E.U8 [R4+-0x3], RZ, P0 ;\n",
      "        ST.E.U8 [R4+-0x4], RZ, P0 ;\n",
      "        ST.E.U8 [R4+-0x5], RZ, P0 ;\n",
      "        ST.E.U8 [R4+-0x6], RZ, P0 ;\n",
      "; Location /home/marius/.julia/packages/CUDA/lwSps/src/device/intrinsics/synchronization.jl:115\n",
      "        MEMBAR.SYS.IVALLD ;\n",
      "                         {         XMAD RZ, R7, RZ, RZ ;\n",
      "; Location /home/marius/.julia/packages/CUDA/lwSps/src/device/runtime.jl:41\n",
      "        RET         }\n",
      "\n",
      ".L_12:\n",
      "; Location /home/marius/.julia/packages/LLVM/vYEzc/src/interop/base.jl:39\n",
      "        MOV32I R4, 32@lo(__unnamed_3) ;\n",
      "        MOV32I R5, 32@hi(__unnamed_3) ;\n",
      "        MOV R6, RZ ;\n",
      "        MOV R7, RZ ;\n",
      "        JCAL `(vprintf) ;\n",
      "; Location /home/marius/.julia/packages/CUDA/lwSps/src/device/runtime.jl:48\n",
      "        RET ;\n",
      "        .type           $_Z28julia_broadcast_kernel_1240115CuKernelContext13CuDeviceArrayI7Float32Li1ELi1EE11BroadcastedIv5TupleI5OneToI5Int64EE5_reluS3_I8ExtrudedIS0_IS1_Li1ELi1EES3_I4BoolES3_IS5_EEEES5_$julia_throw_boundserror_12424,@function\n",
      "        .size           $_Z28julia_broadcast_kernel_1240115CuKernelContext13CuDeviceArrayI7Float32Li1ELi1EE11BroadcastedIv5TupleI5OneToI5Int64EE5_reluS3_I8ExtrudedIS0_IS1_Li1ELi1EES3_I4BoolES3_IS5_EEEES5_$julia_throw_boundserror_12424,(.L_68 - $_Z28julia_broadcast_kernel_1240115CuKernelContext13CuDeviceArrayI7Float32Li1ELi1EE11BroadcastedIv5TupleI5OneToI5Int64EE5_reluS3_I8ExtrudedIS0_IS1_Li1ELi1EES3_I4BoolES3_IS5_EEEES5_$julia_throw_boundserror_12424)\n",
      "$_Z28julia_broadcast_kernel_1240115CuKernelContext13CuDeviceArrayI7Float32Li1ELi1EE11BroadcastedIv5TupleI5OneToI5Int64EE5_reluS3_I8ExtrudedIS0_IS1_Li1ELi1EES3_I4BoolES3_IS5_EEEES5_$julia_throw_boundserror_12424:\n",
      "; Location /home/marius/.julia/packages/LLVM/vYEzc/src/interop/base.jl:39\n",
      "        MOV32I R4, 32@lo(__unnamed_1) ;\n",
      "        MOV32I R5, 32@hi(__unnamed_1) ;\n",
      "        MOV R6, RZ ;\n",
      "        MOV R7, RZ ;\n",
      "        JCAL `(vprintf) ;\n",
      "; Location /home/marius/.julia/packages/CUDA/lwSps/src/device/quirks.jl:4\n",
      "        MOV32I R8, 32@lo(exception2) ;\n",
      "        MOV32I R9, 32@hi(exception2) ;\n",
      "        CAL `($_Z28julia_broadcast_kernel_1240115CuKernelContext13CuDeviceArrayI7Float32Li1ELi1EE11BroadcastedIv5TupleI5OneToI5Int64EE5_reluS3_I8ExtrudedIS0_IS1_Li1ELi1EES3_I4BoolES3_IS5_EEEES5_$gpu_report_exception) ;\n",
      "        CAL `($_Z28julia_broadcast_kernel_1240115CuKernelContext13CuDeviceArrayI7Float32Li1ELi1EE11BroadcastedIv5TupleI5OneToI5Int64EE5_reluS3_I8ExtrudedIS0_IS1_Li1ELi1EES3_I4BoolES3_IS5_EEEES5_$gpu_signal_exception) ;\n",
      "        BPT.TRAP 0x1 ;\n",
      "        RET ;\n",
      "\n",
      ".L_13:\n",
      "        BRA `(.L_13) ;\n",
      "\n",
      ".L_68:\n",
      "\n",
      "\n",
      "//--------------------- SYMBOLS --------------------------\n",
      "\n",
      "\t.type\t\tvprintf,@function\n"
     ]
    }
   ],
   "source": [
    "@device_code_sass relu.(x)"
   ]
  },
  {
   "cell_type": "markdown",
   "id": "21fd26b0",
   "metadata": {
    "slideshow": {
     "slide_type": "slide"
    }
   },
   "source": [
    "# Machine Learning"
   ]
  },
  {
   "cell_type": "code",
   "execution_count": 59,
   "id": "5ddc1f3c",
   "metadata": {
    "slideshow": {
     "slide_type": "fragment"
    }
   },
   "outputs": [
    {
     "data": {
      "text/plain": [
       "dense_layer (generic function with 1 method)"
      ]
     },
     "execution_count": 59,
     "metadata": {},
     "output_type": "execute_result"
    }
   ],
   "source": [
    "dense_layer(W, b, x) = W * x + b"
   ]
  },
  {
   "cell_type": "code",
   "execution_count": 60,
   "id": "233bc9aa",
   "metadata": {
    "slideshow": {
     "slide_type": "fragment"
    }
   },
   "outputs": [],
   "source": [
    "W = cu(randn(1000, 1000))\n",
    "b = cu(randn(1000));"
   ]
  },
  {
   "cell_type": "code",
   "execution_count": 64,
   "id": "55fdb629",
   "metadata": {
    "slideshow": {
     "slide_type": "fragment"
    }
   },
   "outputs": [],
   "source": [
    "(dW, dB) = gradient((W,b) -> loss(dense_layer(W,b,x)), W, b);"
   ]
  },
  {
   "cell_type": "code",
   "execution_count": 65,
   "id": "e689ee76",
   "metadata": {
    "slideshow": {
     "slide_type": "fragment"
    }
   },
   "outputs": [
    {
     "data": {
      "text/plain": [
       "1000×1000 CuArray{Float32, 2}:\n",
       " -0.0      0.0       -0.0       -0.0       …  -0.0       0.0        0.0\n",
       " -0.0      0.0       -0.0       -0.0          -0.0       0.0        0.0\n",
       "  ⋮                                        ⋱                        \n",
       " -0.0      0.0       -0.0       -0.0          -0.0       0.0        0.0\n",
       " -1.31431  0.103189  -0.960796  -0.235977     -0.311886  0.0689786  1.11943"
      ]
     },
     "execution_count": 65,
     "metadata": {},
     "output_type": "execute_result"
    }
   ],
   "source": [
    "dW"
   ]
  },
  {
   "cell_type": "code",
   "execution_count": 66,
   "id": "e22e6281",
   "metadata": {
    "slideshow": {
     "slide_type": "fragment"
    }
   },
   "outputs": [
    {
     "data": {
      "text/plain": [
       "1000-element CuArray{Float32, 1}:\n",
       " 0.0\n",
       " 0.0\n",
       " ⋮\n",
       " 0.0\n",
       " 1.0"
      ]
     },
     "execution_count": 66,
     "metadata": {},
     "output_type": "execute_result"
    }
   ],
   "source": [
    "dB"
   ]
  },
  {
   "cell_type": "markdown",
   "id": "f7254dc2",
   "metadata": {
    "slideshow": {
     "slide_type": "slide"
    }
   },
   "source": [
    "# Julia AD is written in... Julia"
   ]
  },
  {
   "cell_type": "markdown",
   "id": "00b0a4b8",
   "metadata": {
    "slideshow": {
     "slide_type": "fragment"
    }
   },
   "source": [
    "Pullbacks/pushforwards are written in Julia, in the ChainRules.jl package:\n",
    "\n",
    "![](chainrules.png)"
   ]
  },
  {
   "cell_type": "markdown",
   "id": "191f6794",
   "metadata": {
    "slideshow": {
     "slide_type": "fragment"
    }
   },
   "source": [
    "If something doesn't exist or if I discover a mistake, since I already know Julia, I can define a new rule in my running session, and I can even do a PR to ChainRules.jl. In JAX/TensorFlow/PyTorch, etc... I wouldn't even know where to start (and I probably need to know C/C++). "
   ]
  },
  {
   "cell_type": "markdown",
   "id": "b41c581b",
   "metadata": {
    "slideshow": {
     "slide_type": "slide"
    }
   },
   "source": [
    "# CMBLensing.jl"
   ]
  },
  {
   "cell_type": "markdown",
   "id": "af811750",
   "metadata": {},
   "source": [
    "![](posterior2.png)"
   ]
  },
  {
   "cell_type": "code",
   "execution_count": 68,
   "id": "f90cab86",
   "metadata": {
    "slideshow": {
     "slide_type": "fragment"
    }
   },
   "outputs": [],
   "source": [
    "using CMBLensing"
   ]
  },
  {
   "cell_type": "code",
   "execution_count": 69,
   "id": "21e2737c",
   "metadata": {
    "slideshow": {
     "slide_type": "fragment"
    }
   },
   "outputs": [],
   "source": [
    "@unpack f, ϕ, ds = load_sim(Nside=512, θpix=3, pol=:P, storage=CuArray);"
   ]
  },
  {
   "cell_type": "code",
   "execution_count": 88,
   "id": "e6dea6a7",
   "metadata": {
    "slideshow": {
     "slide_type": "fragment"
    }
   },
   "outputs": [
    {
     "data": {
      "text/plain": [
       "131584-element 512×512-pixel 3.0′-resolution FlatFourier{CuArray{ComplexF32,2},ProjLambert{Float32}}:\n",
       "        0.0f0 + 0.0f0im\n",
       "  2.1229732f9 - 2.6542725f9im\n",
       "              ⋮\n",
       " -6.1471795f9 + 1.361623f10im\n",
       "  1.5681175f9 + 1.4322087f10im"
      ]
     },
     "execution_count": 88,
     "metadata": {},
     "output_type": "execute_result"
    }
   ],
   "source": [
    "dϕ = gradient(ϕ -> lnP(0, f, ϕ, ds), 0ϕ)"
   ]
  },
  {
   "cell_type": "code",
   "execution_count": 92,
   "id": "0ae0f566",
   "metadata": {
    "slideshow": {
     "slide_type": "fragment"
    }
   },
   "outputs": [
    {
     "data": {
      "image/png": "[encoded data removed]",
      "image/svg+xml": [
       "<?xml version=\"1.0\" encoding=\"utf-8\" standalone=\"no\"?>\n",
       "<!DOCTYPE svg PUBLIC \"-//W3C//DTD SVG 1.1//EN\"\n",
       "  \"http://www.w3.org/Graphics/SVG/1.1/DTD/svg11.dtd\">\n",
       "<svg height=\"267.958125pt\" version=\"1.1\" viewBox=\"0 0 317.944675 267.958125\" width=\"317.944675pt\" xmlns=\"http://www.w3.org/2000/svg\" xmlns:xlink=\"http://www.w3.org/1999/xlink\">\n",
       " <metadata>\n",
       "  <rdf:RDF xmlns:cc=\"http://creativecommons.org/ns#\" xmlns:dc=\"http://purl.org/dc/elements/1.1/\" xmlns:rdf=\"http://www.w3.org/1999/02/22-rdf-syntax-ns#\">\n",
       "   <cc:Work>\n",
       "    <dc:type rdf:resource=\"http://purl.org/dc/dcmitype/StillImage\"/>\n",
       "    <dc:date>2021-07-22T00:22:50.248493</dc:date>\n",
       "    <dc:format>image/svg+xml</dc:format>\n",
       "    <dc:creator>\n",
       "     <cc:Agent>\n",
       "      <dc:title>Matplotlib v3.4.2, https://matplotlib.org/</dc:title>\n",
       "     </cc:Agent>\n",
       "    </dc:creator>\n",
       "   </cc:Work>\n",
       "  </rdf:RDF>\n",
       " </metadata>\n",
       " <defs>\n",
       "  <style type=\"text/css\">*{stroke-linecap:butt;stroke-linejoin:round;}</style>\n",
       " </defs>\n",
       " <g id=\"figure_1\">\n",
       "  <g id=\"patch_1\">\n",
       "   <path d=\"M -0 267.958125 \n",
       "L 317.944675 267.958125 \n",
       "L 317.944675 0 \n",
       "L -0 0 \n",
       "z\n",
       "\" style=\"fill:#ffffff;\"/>\n",
       "  </g>\n",
       "  <g id=\"axes_1\">\n",
       "   <g id=\"patch_2\">\n",
       "    <path d=\"M 40.304688 244.08 \n",
       "L 262.064687 244.08 \n",
       "L 262.064687 22.32 \n",
       "L 40.304688 22.32 \n",
       "z\n",
       "\" style=\"fill:#ffffff;\"/>\n",
       "   </g>\n",
       "   <image height=\"221.76\" id=\"imaged507cc7e2c\" transform=\"scale(1 -1)translate(0 -221.76)\" width=\"221.76\" x=\"40.32\" xlink:href=\"data:image/png;base64,\n",
       "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\" y=\"-22.32\"/>\n",
       "   <g id=\"matplotlib.axis_1\">\n",
       "    <g id=\"xtick_1\">\n",
       "     <g id=\"line2d_1\">\n",
       "      <defs>\n",
       "       <path d=\"M 0 0 \n",
       "L 0 3.5 \n",
       "\" id=\"mc0658d86ca\" style=\"stroke:#000000;stroke-width:0.8;\"/>\n",
       "      </defs>\n",
       "      <g>\n",
       "       <use style=\"stroke:#000000;stroke-width:0.8;\" x=\"64.559687\" xlink:href=\"#mc0658d86ca\" y=\"244.08\"/>\n",
       "      </g>\n",
       "     </g>\n",
       "     <g id=\"line2d_2\">\n",
       "      <defs>\n",
       "       <path d=\"M 0 0 \n",
       "L 0 -3.5 \n",
       "\" id=\"me13a84735d\" style=\"stroke:#000000;stroke-width:0.8;\"/>\n",
       "      </defs>\n",
       "      <g>\n",
       "       <use style=\"stroke:#000000;stroke-width:0.8;\" x=\"64.559687\" xlink:href=\"#me13a84735d\" y=\"22.32\"/>\n",
       "      </g>\n",
       "     </g>\n",
       "     <g id=\"text_1\">\n",
       "      <!-- −10° -->\n",
       "      <g transform=\"translate(51.507344 258.678437)scale(0.1 -0.1)\">\n",
       "       <defs>\n",
       "        <path d=\"M 678 2272 \n",
       "L 4684 2272 \n",
       "L 4684 1741 \n",
       "L 678 1741 \n",
       "L 678 2272 \n",
       "z\n",
       "\" id=\"DejaVuSans-2212\" transform=\"scale(0.015625)\"/>\n",
       "        <path d=\"M 794 531 \n",
       "L 1825 531 \n",
       "L 1825 4091 \n",
       "L 703 3866 \n",
       "L 703 4441 \n",
       "L 1819 4666 \n",
       "L 2450 4666 \n",
       "L 2450 531 \n",
       "L 3481 531 \n",
       "L 3481 0 \n",
       "L 794 0 \n",
       "L 794 531 \n",
       "z\n",
       "\" id=\"DejaVuSans-31\" transform=\"scale(0.015625)\"/>\n",
       "        <path d=\"M 2034 4250 \n",
       "Q 1547 4250 1301 3770 \n",
       "Q 1056 3291 1056 2328 \n",
       "Q 1056 1369 1301 889 \n",
       "Q 1547 409 2034 409 \n",
       "Q 2525 409 2770 889 \n",
       "Q 3016 1369 3016 2328 \n",
       "Q 3016 3291 2770 3770 \n",
       "Q 2525 4250 2034 4250 \n",
       "z\n",
       "M 2034 4750 \n",
       "Q 2819 4750 3233 4129 \n",
       "Q 3647 3509 3647 2328 \n",
       "Q 3647 1150 3233 529 \n",
       "Q 2819 -91 2034 -91 \n",
       "Q 1250 -91 836 529 \n",
       "Q 422 1150 422 2328 \n",
       "Q 422 3509 836 4129 \n",
       "Q 1250 4750 2034 4750 \n",
       "z\n",
       "\" id=\"DejaVuSans-30\" transform=\"scale(0.015625)\"/>\n",
       "        <path d=\"M 1600 4347 \n",
       "Q 1350 4347 1178 4173 \n",
       "Q 1006 4000 1006 3750 \n",
       "Q 1006 3503 1178 3333 \n",
       "Q 1350 3163 1600 3163 \n",
       "Q 1850 3163 2022 3333 \n",
       "Q 2194 3503 2194 3750 \n",
       "Q 2194 3997 2020 4172 \n",
       "Q 1847 4347 1600 4347 \n",
       "z\n",
       "M 1600 4750 \n",
       "Q 1800 4750 1984 4673 \n",
       "Q 2169 4597 2303 4453 \n",
       "Q 2447 4313 2519 4134 \n",
       "Q 2591 3956 2591 3750 \n",
       "Q 2591 3338 2302 3052 \n",
       "Q 2013 2766 1594 2766 \n",
       "Q 1172 2766 890 3047 \n",
       "Q 609 3328 609 3750 \n",
       "Q 609 4169 896 4459 \n",
       "Q 1184 4750 1600 4750 \n",
       "z\n",
       "\" id=\"DejaVuSans-b0\" transform=\"scale(0.015625)\"/>\n",
       "       </defs>\n",
       "       <use xlink:href=\"#DejaVuSans-2212\"/>\n",
       "       <use x=\"83.789062\" xlink:href=\"#DejaVuSans-31\"/>\n",
       "       <use x=\"147.412109\" xlink:href=\"#DejaVuSans-30\"/>\n",
       "       <use x=\"211.035156\" xlink:href=\"#DejaVuSans-b0\"/>\n",
       "      </g>\n",
       "     </g>\n",
       "    </g>\n",
       "    <g id=\"xtick_2\">\n",
       "     <g id=\"line2d_3\">\n",
       "      <g>\n",
       "       <use style=\"stroke:#000000;stroke-width:0.8;\" x=\"107.872187\" xlink:href=\"#mc0658d86ca\" y=\"244.08\"/>\n",
       "      </g>\n",
       "     </g>\n",
       "     <g id=\"line2d_4\">\n",
       "      <g>\n",
       "       <use style=\"stroke:#000000;stroke-width:0.8;\" x=\"107.872187\" xlink:href=\"#me13a84735d\" y=\"22.32\"/>\n",
       "      </g>\n",
       "     </g>\n",
       "     <g id=\"text_2\">\n",
       "      <!-- −5° -->\n",
       "      <g transform=\"translate(98.001094 258.678437)scale(0.1 -0.1)\">\n",
       "       <defs>\n",
       "        <path d=\"M 691 4666 \n",
       "L 3169 4666 \n",
       "L 3169 4134 \n",
       "L 1269 4134 \n",
       "L 1269 2991 \n",
       "Q 1406 3038 1543 3061 \n",
       "Q 1681 3084 1819 3084 \n",
       "Q 2600 3084 3056 2656 \n",
       "Q 3513 2228 3513 1497 \n",
       "Q 3513 744 3044 326 \n",
       "Q 2575 -91 1722 -91 \n",
       "Q 1428 -91 1123 -41 \n",
       "Q 819 9 494 109 \n",
       "L 494 744 \n",
       "Q 775 591 1075 516 \n",
       "Q 1375 441 1709 441 \n",
       "Q 2250 441 2565 725 \n",
       "Q 2881 1009 2881 1497 \n",
       "Q 2881 1984 2565 2268 \n",
       "Q 2250 2553 1709 2553 \n",
       "Q 1456 2553 1204 2497 \n",
       "Q 953 2441 691 2322 \n",
       "L 691 4666 \n",
       "z\n",
       "\" id=\"DejaVuSans-35\" transform=\"scale(0.015625)\"/>\n",
       "       </defs>\n",
       "       <use xlink:href=\"#DejaVuSans-2212\"/>\n",
       "       <use x=\"83.789062\" xlink:href=\"#DejaVuSans-35\"/>\n",
       "       <use x=\"147.412109\" xlink:href=\"#DejaVuSans-b0\"/>\n",
       "      </g>\n",
       "     </g>\n",
       "    </g>\n",
       "    <g id=\"xtick_3\">\n",
       "     <g id=\"line2d_5\">\n",
       "      <g>\n",
       "       <use style=\"stroke:#000000;stroke-width:0.8;\" x=\"151.184687\" xlink:href=\"#mc0658d86ca\" y=\"244.08\"/>\n",
       "      </g>\n",
       "     </g>\n",
       "     <g id=\"line2d_6\">\n",
       "      <g>\n",
       "       <use style=\"stroke:#000000;stroke-width:0.8;\" x=\"151.184687\" xlink:href=\"#me13a84735d\" y=\"22.32\"/>\n",
       "      </g>\n",
       "     </g>\n",
       "     <g id=\"text_3\">\n",
       "      <!-- 0° -->\n",
       "      <g transform=\"translate(145.503437 258.678437)scale(0.1 -0.1)\">\n",
       "       <use xlink:href=\"#DejaVuSans-30\"/>\n",
       "       <use x=\"63.623047\" xlink:href=\"#DejaVuSans-b0\"/>\n",
       "      </g>\n",
       "     </g>\n",
       "    </g>\n",
       "    <g id=\"xtick_4\">\n",
       "     <g id=\"line2d_7\">\n",
       "      <g>\n",
       "       <use style=\"stroke:#000000;stroke-width:0.8;\" x=\"194.497187\" xlink:href=\"#mc0658d86ca\" y=\"244.08\"/>\n",
       "      </g>\n",
       "     </g>\n",
       "     <g id=\"line2d_8\">\n",
       "      <g>\n",
       "       <use style=\"stroke:#000000;stroke-width:0.8;\" x=\"194.497187\" xlink:href=\"#me13a84735d\" y=\"22.32\"/>\n",
       "      </g>\n",
       "     </g>\n",
       "     <g id=\"text_4\">\n",
       "      <!-- 5° -->\n",
       "      <g transform=\"translate(188.815937 258.678437)scale(0.1 -0.1)\">\n",
       "       <use xlink:href=\"#DejaVuSans-35\"/>\n",
       "       <use x=\"63.623047\" xlink:href=\"#DejaVuSans-b0\"/>\n",
       "      </g>\n",
       "     </g>\n",
       "    </g>\n",
       "    <g id=\"xtick_5\">\n",
       "     <g id=\"line2d_9\">\n",
       "      <g>\n",
       "       <use style=\"stroke:#000000;stroke-width:0.8;\" x=\"237.809687\" xlink:href=\"#mc0658d86ca\" y=\"244.08\"/>\n",
       "      </g>\n",
       "     </g>\n",
       "     <g id=\"line2d_10\">\n",
       "      <g>\n",
       "       <use style=\"stroke:#000000;stroke-width:0.8;\" x=\"237.809687\" xlink:href=\"#me13a84735d\" y=\"22.32\"/>\n",
       "      </g>\n",
       "     </g>\n",
       "     <g id=\"text_5\">\n",
       "      <!-- 10° -->\n",
       "      <g transform=\"translate(228.947187 258.678437)scale(0.1 -0.1)\">\n",
       "       <use xlink:href=\"#DejaVuSans-31\"/>\n",
       "       <use x=\"63.623047\" xlink:href=\"#DejaVuSans-30\"/>\n",
       "       <use x=\"127.246094\" xlink:href=\"#DejaVuSans-b0\"/>\n",
       "      </g>\n",
       "     </g>\n",
       "    </g>\n",
       "   </g>\n",
       "   <g id=\"matplotlib.axis_2\">\n",
       "    <g id=\"ytick_1\">\n",
       "     <g id=\"line2d_11\">\n",
       "      <defs>\n",
       "       <path d=\"M 0 0 \n",
       "L -3.5 0 \n",
       "\" id=\"m89124db568\" style=\"stroke:#000000;stroke-width:0.8;\"/>\n",
       "      </defs>\n",
       "      <g>\n",
       "       <use style=\"stroke:#000000;stroke-width:0.8;\" x=\"40.304688\" xlink:href=\"#m89124db568\" y=\"219.825\"/>\n",
       "      </g>\n",
       "     </g>\n",
       "     <g id=\"text_6\">\n",
       "      <!-- −10° -->\n",
       "      <g transform=\"translate(7.2 223.624219)scale(0.1 -0.1)\">\n",
       "       <use xlink:href=\"#DejaVuSans-2212\"/>\n",
       "       <use x=\"83.789062\" xlink:href=\"#DejaVuSans-31\"/>\n",
       "       <use x=\"147.412109\" xlink:href=\"#DejaVuSans-30\"/>\n",
       "       <use x=\"211.035156\" xlink:href=\"#DejaVuSans-b0\"/>\n",
       "      </g>\n",
       "     </g>\n",
       "    </g>\n",
       "    <g id=\"ytick_2\">\n",
       "     <g id=\"line2d_12\">\n",
       "      <g>\n",
       "       <use style=\"stroke:#000000;stroke-width:0.8;\" x=\"40.304688\" xlink:href=\"#m89124db568\" y=\"176.5125\"/>\n",
       "      </g>\n",
       "     </g>\n",
       "     <g id=\"text_7\">\n",
       "      <!-- −5° -->\n",
       "      <g transform=\"translate(13.5625 180.311719)scale(0.1 -0.1)\">\n",
       "       <use xlink:href=\"#DejaVuSans-2212\"/>\n",
       "       <use x=\"83.789062\" xlink:href=\"#DejaVuSans-35\"/>\n",
       "       <use x=\"147.412109\" xlink:href=\"#DejaVuSans-b0\"/>\n",
       "      </g>\n",
       "     </g>\n",
       "    </g>\n",
       "    <g id=\"ytick_3\">\n",
       "     <g id=\"line2d_13\">\n",
       "      <g>\n",
       "       <use style=\"stroke:#000000;stroke-width:0.8;\" x=\"40.304688\" xlink:href=\"#m89124db568\" y=\"133.2\"/>\n",
       "      </g>\n",
       "     </g>\n",
       "     <g id=\"text_8\">\n",
       "      <!-- 0° -->\n",
       "      <g transform=\"translate(21.942187 136.999219)scale(0.1 -0.1)\">\n",
       "       <use xlink:href=\"#DejaVuSans-30\"/>\n",
       "       <use x=\"63.623047\" xlink:href=\"#DejaVuSans-b0\"/>\n",
       "      </g>\n",
       "     </g>\n",
       "    </g>\n",
       "    <g id=\"ytick_4\">\n",
       "     <g id=\"line2d_14\">\n",
       "      <g>\n",
       "       <use style=\"stroke:#000000;stroke-width:0.8;\" x=\"40.304688\" xlink:href=\"#m89124db568\" y=\"89.8875\"/>\n",
       "      </g>\n",
       "     </g>\n",
       "     <g id=\"text_9\">\n",
       "      <!-- 5° -->\n",
       "      <g transform=\"translate(21.942187 93.686719)scale(0.1 -0.1)\">\n",
       "       <use xlink:href=\"#DejaVuSans-35\"/>\n",
       "       <use x=\"63.623047\" xlink:href=\"#DejaVuSans-b0\"/>\n",
       "      </g>\n",
       "     </g>\n",
       "    </g>\n",
       "    <g id=\"ytick_5\">\n",
       "     <g id=\"line2d_15\">\n",
       "      <g>\n",
       "       <use style=\"stroke:#000000;stroke-width:0.8;\" x=\"40.304688\" xlink:href=\"#m89124db568\" y=\"46.575\"/>\n",
       "      </g>\n",
       "     </g>\n",
       "     <g id=\"text_10\">\n",
       "      <!-- 10° -->\n",
       "      <g transform=\"translate(15.579687 50.374219)scale(0.1 -0.1)\">\n",
       "       <use xlink:href=\"#DejaVuSans-31\"/>\n",
       "       <use x=\"63.623047\" xlink:href=\"#DejaVuSans-30\"/>\n",
       "       <use x=\"127.246094\" xlink:href=\"#DejaVuSans-b0\"/>\n",
       "      </g>\n",
       "     </g>\n",
       "    </g>\n",
       "   </g>\n",
       "   <g id=\"patch_3\">\n",
       "    <path d=\"M 40.304688 244.08 \n",
       "L 40.304688 22.32 \n",
       "\" style=\"fill:none;stroke:#000000;stroke-linecap:square;stroke-linejoin:miter;stroke-width:0.8;\"/>\n",
       "   </g>\n",
       "   <g id=\"patch_4\">\n",
       "    <path d=\"M 262.064687 244.08 \n",
       "L 262.064687 22.32 \n",
       "\" style=\"fill:none;stroke:#000000;stroke-linecap:square;stroke-linejoin:miter;stroke-width:0.8;\"/>\n",
       "   </g>\n",
       "   <g id=\"patch_5\">\n",
       "    <path d=\"M 40.304688 244.08 \n",
       "L 262.064687 244.08 \n",
       "\" style=\"fill:none;stroke:#000000;stroke-linecap:square;stroke-linejoin:miter;stroke-width:0.8;\"/>\n",
       "   </g>\n",
       "   <g id=\"patch_6\">\n",
       "    <path d=\"M 40.304688 22.32 \n",
       "L 262.064687 22.32 \n",
       "\" style=\"fill:none;stroke:#000000;stroke-linecap:square;stroke-linejoin:miter;stroke-width:0.8;\"/>\n",
       "   </g>\n",
       "   <g id=\"text_11\">\n",
       "    <!-- $\\phi \\; {\\rm gradient}$ -->\n",
       "    <g transform=\"translate(120.284687 16.32)scale(0.12 -0.12)\">\n",
       "     <defs>\n",
       "      <path d=\"M 2991 4863 \n",
       "L 2738 3572 \n",
       "Q 3363 3572 3684 3094 \n",
       "Q 4016 2606 3850 1747 \n",
       "Q 3681 888 3159 400 \n",
       "Q 2653 -78 2028 -78 \n",
       "L 1784 -1331 \n",
       "L 1213 -1331 \n",
       "L 1456 -78 \n",
       "Q 834 -78 509 400 \n",
       "Q 178 888 347 1747 \n",
       "Q 513 2606 1034 3094 \n",
       "Q 1544 3572 2166 3572 \n",
       "L 2419 4863 \n",
       "L 2991 4863 \n",
       "z\n",
       "M 2128 434 \n",
       "Q 2481 434 2784 756 \n",
       "Q 3116 1116 3244 1747 \n",
       "Q 3369 2372 3169 2738 \n",
       "Q 2991 3059 2638 3059 \n",
       "L 2128 434 \n",
       "z\n",
       "M 1556 434 \n",
       "L 2066 3059 \n",
       "Q 1716 3059 1413 2738 \n",
       "Q 1072 2372 953 1747 \n",
       "Q 834 1116 1028 756 \n",
       "Q 1203 434 1556 434 \n",
       "z\n",
       "\" id=\"DejaVuSans-Oblique-3d5\" transform=\"scale(0.015625)\"/>\n",
       "      <path d=\"M 2906 1791 \n",
       "Q 2906 2416 2648 2759 \n",
       "Q 2391 3103 1925 3103 \n",
       "Q 1463 3103 1205 2759 \n",
       "Q 947 2416 947 1791 \n",
       "Q 947 1169 1205 825 \n",
       "Q 1463 481 1925 481 \n",
       "Q 2391 481 2648 825 \n",
       "Q 2906 1169 2906 1791 \n",
       "z\n",
       "M 3481 434 \n",
       "Q 3481 -459 3084 -895 \n",
       "Q 2688 -1331 1869 -1331 \n",
       "Q 1566 -1331 1297 -1286 \n",
       "Q 1028 -1241 775 -1147 \n",
       "L 775 -588 \n",
       "Q 1028 -725 1275 -790 \n",
       "Q 1522 -856 1778 -856 \n",
       "Q 2344 -856 2625 -561 \n",
       "Q 2906 -266 2906 331 \n",
       "L 2906 616 \n",
       "Q 2728 306 2450 153 \n",
       "Q 2172 0 1784 0 \n",
       "Q 1141 0 747 490 \n",
       "Q 353 981 353 1791 \n",
       "Q 353 2603 747 3093 \n",
       "Q 1141 3584 1784 3584 \n",
       "Q 2172 3584 2450 3431 \n",
       "Q 2728 3278 2906 2969 \n",
       "L 2906 3500 \n",
       "L 3481 3500 \n",
       "L 3481 434 \n",
       "z\n",
       "\" id=\"DejaVuSans-67\" transform=\"scale(0.015625)\"/>\n",
       "      <path d=\"M 2631 2963 \n",
       "Q 2534 3019 2420 3045 \n",
       "Q 2306 3072 2169 3072 \n",
       "Q 1681 3072 1420 2755 \n",
       "Q 1159 2438 1159 1844 \n",
       "L 1159 0 \n",
       "L 581 0 \n",
       "L 581 3500 \n",
       "L 1159 3500 \n",
       "L 1159 2956 \n",
       "Q 1341 3275 1631 3429 \n",
       "Q 1922 3584 2338 3584 \n",
       "Q 2397 3584 2469 3576 \n",
       "Q 2541 3569 2628 3553 \n",
       "L 2631 2963 \n",
       "z\n",
       "\" id=\"DejaVuSans-72\" transform=\"scale(0.015625)\"/>\n",
       "      <path d=\"M 2194 1759 \n",
       "Q 1497 1759 1228 1600 \n",
       "Q 959 1441 959 1056 \n",
       "Q 959 750 1161 570 \n",
       "Q 1363 391 1709 391 \n",
       "Q 2188 391 2477 730 \n",
       "Q 2766 1069 2766 1631 \n",
       "L 2766 1759 \n",
       "L 2194 1759 \n",
       "z\n",
       "M 3341 1997 \n",
       "L 3341 0 \n",
       "L 2766 0 \n",
       "L 2766 531 \n",
       "Q 2569 213 2275 61 \n",
       "Q 1981 -91 1556 -91 \n",
       "Q 1019 -91 701 211 \n",
       "Q 384 513 384 1019 \n",
       "Q 384 1609 779 1909 \n",
       "Q 1175 2209 1959 2209 \n",
       "L 2766 2209 \n",
       "L 2766 2266 \n",
       "Q 2766 2663 2505 2880 \n",
       "Q 2244 3097 1772 3097 \n",
       "Q 1472 3097 1187 3025 \n",
       "Q 903 2953 641 2809 \n",
       "L 641 3341 \n",
       "Q 956 3463 1253 3523 \n",
       "Q 1550 3584 1831 3584 \n",
       "Q 2591 3584 2966 3190 \n",
       "Q 3341 2797 3341 1997 \n",
       "z\n",
       "\" id=\"DejaVuSans-61\" transform=\"scale(0.015625)\"/>\n",
       "      <path d=\"M 2906 2969 \n",
       "L 2906 4863 \n",
       "L 3481 4863 \n",
       "L 3481 0 \n",
       "L 2906 0 \n",
       "L 2906 525 \n",
       "Q 2725 213 2448 61 \n",
       "Q 2172 -91 1784 -91 \n",
       "Q 1150 -91 751 415 \n",
       "Q 353 922 353 1747 \n",
       "Q 353 2572 751 3078 \n",
       "Q 1150 3584 1784 3584 \n",
       "Q 2172 3584 2448 3432 \n",
       "Q 2725 3281 2906 2969 \n",
       "z\n",
       "M 947 1747 \n",
       "Q 947 1113 1208 752 \n",
       "Q 1469 391 1925 391 \n",
       "Q 2381 391 2643 752 \n",
       "Q 2906 1113 2906 1747 \n",
       "Q 2906 2381 2643 2742 \n",
       "Q 2381 3103 1925 3103 \n",
       "Q 1469 3103 1208 2742 \n",
       "Q 947 2381 947 1747 \n",
       "z\n",
       "\" id=\"DejaVuSans-64\" transform=\"scale(0.015625)\"/>\n",
       "      <path d=\"M 603 3500 \n",
       "L 1178 3500 \n",
       "L 1178 0 \n",
       "L 603 0 \n",
       "L 603 3500 \n",
       "z\n",
       "M 603 4863 \n",
       "L 1178 4863 \n",
       "L 1178 4134 \n",
       "L 603 4134 \n",
       "L 603 4863 \n",
       "z\n",
       "\" id=\"DejaVuSans-69\" transform=\"scale(0.015625)\"/>\n",
       "      <path d=\"M 3597 1894 \n",
       "L 3597 1613 \n",
       "L 953 1613 \n",
       "Q 991 1019 1311 708 \n",
       "Q 1631 397 2203 397 \n",
       "Q 2534 397 2845 478 \n",
       "Q 3156 559 3463 722 \n",
       "L 3463 178 \n",
       "Q 3153 47 2828 -22 \n",
       "Q 2503 -91 2169 -91 \n",
       "Q 1331 -91 842 396 \n",
       "Q 353 884 353 1716 \n",
       "Q 353 2575 817 3079 \n",
       "Q 1281 3584 2069 3584 \n",
       "Q 2775 3584 3186 3129 \n",
       "Q 3597 2675 3597 1894 \n",
       "z\n",
       "M 3022 2063 \n",
       "Q 3016 2534 2758 2815 \n",
       "Q 2500 3097 2075 3097 \n",
       "Q 1594 3097 1305 2825 \n",
       "Q 1016 2553 972 2059 \n",
       "L 3022 2063 \n",
       "z\n",
       "\" id=\"DejaVuSans-65\" transform=\"scale(0.015625)\"/>\n",
       "      <path d=\"M 3513 2113 \n",
       "L 3513 0 \n",
       "L 2938 0 \n",
       "L 2938 2094 \n",
       "Q 2938 2591 2744 2837 \n",
       "Q 2550 3084 2163 3084 \n",
       "Q 1697 3084 1428 2787 \n",
       "Q 1159 2491 1159 1978 \n",
       "L 1159 0 \n",
       "L 581 0 \n",
       "L 581 3500 \n",
       "L 1159 3500 \n",
       "L 1159 2956 \n",
       "Q 1366 3272 1645 3428 \n",
       "Q 1925 3584 2291 3584 \n",
       "Q 2894 3584 3203 3211 \n",
       "Q 3513 2838 3513 2113 \n",
       "z\n",
       "\" id=\"DejaVuSans-6e\" transform=\"scale(0.015625)\"/>\n",
       "      <path d=\"M 1172 4494 \n",
       "L 1172 3500 \n",
       "L 2356 3500 \n",
       "L 2356 3053 \n",
       "L 1172 3053 \n",
       "L 1172 1153 \n",
       "Q 1172 725 1289 603 \n",
       "Q 1406 481 1766 481 \n",
       "L 2356 481 \n",
       "L 2356 0 \n",
       "L 1766 0 \n",
       "Q 1100 0 847 248 \n",
       "Q 594 497 594 1153 \n",
       "L 594 3053 \n",
       "L 172 3053 \n",
       "L 172 3500 \n",
       "L 594 3500 \n",
       "L 594 4494 \n",
       "L 1172 4494 \n",
       "z\n",
       "\" id=\"DejaVuSans-74\" transform=\"scale(0.015625)\"/>\n",
       "     </defs>\n",
       "     <use transform=\"translate(0 0.015625)\" xlink:href=\"#DejaVuSans-Oblique-3d5\"/>\n",
       "     <use transform=\"translate(93.025933 0.015625)\" xlink:href=\"#DejaVuSans-67\"/>\n",
       "     <use transform=\"translate(156.502495 0.015625)\" xlink:href=\"#DejaVuSans-72\"/>\n",
       "     <use transform=\"translate(197.615776 0.015625)\" xlink:href=\"#DejaVuSans-61\"/>\n",
       "     <use transform=\"translate(258.895073 0.015625)\" xlink:href=\"#DejaVuSans-64\"/>\n",
       "     <use transform=\"translate(322.371636 0.015625)\" xlink:href=\"#DejaVuSans-69\"/>\n",
       "     <use transform=\"translate(350.154839 0.015625)\" xlink:href=\"#DejaVuSans-65\"/>\n",
       "     <use transform=\"translate(411.678276 0.015625)\" xlink:href=\"#DejaVuSans-6e\"/>\n",
       "     <use transform=\"translate(475.057183 0.015625)\" xlink:href=\"#DejaVuSans-74\"/>\n",
       "    </g>\n",
       "   </g>\n",
       "  </g>\n",
       "  <g id=\"axes_2\">\n",
       "   <g id=\"patch_7\">\n",
       "    <path d=\"M 265.189488 244.08 \n",
       "L 276.277488 244.08 \n",
       "L 276.277488 22.32 \n",
       "L 265.189488 22.32 \n",
       "z\n",
       "\" style=\"fill:#ffffff;\"/>\n",
       "   </g>\n",
       "   <g id=\"patch_8\">\n",
       "    <path clip-path=\"url(#pbb536acf4a)\" d=\"M 265.189488 244.08 \n",
       "L 265.189488 243.21375 \n",
       "L 265.189488 23.18625 \n",
       "L 265.189488 22.32 \n",
       "L 276.277488 22.32 \n",
       "L 276.277488 23.18625 \n",
       "L 276.277488 243.21375 \n",
       "L 276.277488 244.08 \n",
       "L 276.277488 244.08 \n",
       "z\n",
       "\" style=\"fill:#ffffff;stroke:#ffffff;stroke-linejoin:miter;stroke-width:0.01;\"/>\n",
       "   </g>\n",
       "   <image height=\"221.76\" id=\"image087c7f2d77\" transform=\"scale(1 -1)translate(0 -221.76)\" width=\"11.52\" x=\"264.96\" xlink:href=\"data:image/png;base64,\n",
       "iVBORw0KGgoAAAANSUhEUgAAABAAAAE0CAYAAAAlubP1AAAByUlEQVR4nO2a223FMAxDZcfdpyt1/xkcd4hDgHSg/IuQ+JDj3Dt+fv9OgWeN+ZD6mqha0UECwAMBZquwxmRT+EdIUIE60U5iZ+ETAAIV7reyIAsDASiywDpYY0AAyoFgBLsKk5Jo50AhI6pXZKGtjJ2YsJH8Vg4gEQIEWNmdxgArPw3AVcAjLDcHCgDGY4AKAQB0I3UWImS8X4UG+IYK+BUHbyRWr7j6NokBb6oBHLgP14Cr7ydIRPU8zglZwJdvnsb7s2AnEdbXmmXuQJEFCNAkKkjkHfizwJ6Er/sBWcAduNd6QhZoB24jCbJAAfwLZRz0x7hadV4EIFABdoBHWOUmEXPAVRCQaAd4W4X7rRywkfxW5iTSLFAjBahgd6JipW0EwFU42EhwBA5wNu7AvpEwB1wF6ANBB+4scA64E90AdB8EZMHOQYSVb1+q/p0YcLiebQdwjyBQgXLw0izYSUxQgXLwujnwhykgCzxMAVnoc0GwEzsLZ8OPcQIScQfuz0AJKkAAwU70q2C3MlfBPILiXLjeyvY0BpzOAhXcMgaogI1EfyrbHADV8w64CvYR/B1EkIgBWgX7CAEdsFNBo8L1JNo76CxU/QPTv036Lb9CcwAAAABJRU5ErkJggg==\" y=\"-22.32\"/>\n",
       "   <g id=\"matplotlib.axis_3\"/>\n",
       "   <g id=\"matplotlib.axis_4\">\n",
       "    <g id=\"ytick_6\">\n",
       "     <g id=\"line2d_16\">\n",
       "      <defs>\n",
       "       <path d=\"M 0 0 \n",
       "L 3.5 0 \n",
       "\" id=\"mba3a25f39f\" style=\"stroke:#000000;stroke-width:0.8;\"/>\n",
       "      </defs>\n",
       "      <g>\n",
       "       <use style=\"stroke:#000000;stroke-width:0.8;\" x=\"276.277488\" xlink:href=\"#mba3a25f39f\" y=\"237.623209\"/>\n",
       "      </g>\n",
       "     </g>\n",
       "     <g id=\"text_12\">\n",
       "      <!-- −400 -->\n",
       "      <g transform=\"translate(283.277488 241.422428)scale(0.1 -0.1)\">\n",
       "       <defs>\n",
       "        <path d=\"M 2419 4116 \n",
       "L 825 1625 \n",
       "L 2419 1625 \n",
       "L 2419 4116 \n",
       "z\n",
       "M 2253 4666 \n",
       "L 3047 4666 \n",
       "L 3047 1625 \n",
       "L 3713 1625 \n",
       "L 3713 1100 \n",
       "L 3047 1100 \n",
       "L 3047 0 \n",
       "L 2419 0 \n",
       "L 2419 1100 \n",
       "L 313 1100 \n",
       "L 313 1709 \n",
       "L 2253 4666 \n",
       "z\n",
       "\" id=\"DejaVuSans-34\" transform=\"scale(0.015625)\"/>\n",
       "       </defs>\n",
       "       <use xlink:href=\"#DejaVuSans-2212\"/>\n",
       "       <use x=\"83.789062\" xlink:href=\"#DejaVuSans-34\"/>\n",
       "       <use x=\"147.412109\" xlink:href=\"#DejaVuSans-30\"/>\n",
       "       <use x=\"211.035156\" xlink:href=\"#DejaVuSans-30\"/>\n",
       "      </g>\n",
       "     </g>\n",
       "    </g>\n",
       "    <g id=\"ytick_7\">\n",
       "     <g id=\"line2d_17\">\n",
       "      <g>\n",
       "       <use style=\"stroke:#000000;stroke-width:0.8;\" x=\"276.277488\" xlink:href=\"#mba3a25f39f\" y=\"211.517407\"/>\n",
       "      </g>\n",
       "     </g>\n",
       "     <g id=\"text_13\">\n",
       "      <!-- −300 -->\n",
       "      <g transform=\"translate(283.277488 215.316626)scale(0.1 -0.1)\">\n",
       "       <defs>\n",
       "        <path d=\"M 2597 2516 \n",
       "Q 3050 2419 3304 2112 \n",
       "Q 3559 1806 3559 1356 \n",
       "Q 3559 666 3084 287 \n",
       "Q 2609 -91 1734 -91 \n",
       "Q 1441 -91 1130 -33 \n",
       "Q 819 25 488 141 \n",
       "L 488 750 \n",
       "Q 750 597 1062 519 \n",
       "Q 1375 441 1716 441 \n",
       "Q 2309 441 2620 675 \n",
       "Q 2931 909 2931 1356 \n",
       "Q 2931 1769 2642 2001 \n",
       "Q 2353 2234 1838 2234 \n",
       "L 1294 2234 \n",
       "L 1294 2753 \n",
       "L 1863 2753 \n",
       "Q 2328 2753 2575 2939 \n",
       "Q 2822 3125 2822 3475 \n",
       "Q 2822 3834 2567 4026 \n",
       "Q 2313 4219 1838 4219 \n",
       "Q 1578 4219 1281 4162 \n",
       "Q 984 4106 628 3988 \n",
       "L 628 4550 \n",
       "Q 988 4650 1302 4700 \n",
       "Q 1616 4750 1894 4750 \n",
       "Q 2613 4750 3031 4423 \n",
       "Q 3450 4097 3450 3541 \n",
       "Q 3450 3153 3228 2886 \n",
       "Q 3006 2619 2597 2516 \n",
       "z\n",
       "\" id=\"DejaVuSans-33\" transform=\"scale(0.015625)\"/>\n",
       "       </defs>\n",
       "       <use xlink:href=\"#DejaVuSans-2212\"/>\n",
       "       <use x=\"83.789062\" xlink:href=\"#DejaVuSans-33\"/>\n",
       "       <use x=\"147.412109\" xlink:href=\"#DejaVuSans-30\"/>\n",
       "       <use x=\"211.035156\" xlink:href=\"#DejaVuSans-30\"/>\n",
       "      </g>\n",
       "     </g>\n",
       "    </g>\n",
       "    <g id=\"ytick_8\">\n",
       "     <g id=\"line2d_18\">\n",
       "      <g>\n",
       "       <use style=\"stroke:#000000;stroke-width:0.8;\" x=\"276.277488\" xlink:href=\"#mba3a25f39f\" y=\"185.411605\"/>\n",
       "      </g>\n",
       "     </g>\n",
       "     <g id=\"text_14\">\n",
       "      <!-- −200 -->\n",
       "      <g transform=\"translate(283.277488 189.210823)scale(0.1 -0.1)\">\n",
       "       <defs>\n",
       "        <path d=\"M 1228 531 \n",
       "L 3431 531 \n",
       "L 3431 0 \n",
       "L 469 0 \n",
       "L 469 531 \n",
       "Q 828 903 1448 1529 \n",
       "Q 2069 2156 2228 2338 \n",
       "Q 2531 2678 2651 2914 \n",
       "Q 2772 3150 2772 3378 \n",
       "Q 2772 3750 2511 3984 \n",
       "Q 2250 4219 1831 4219 \n",
       "Q 1534 4219 1204 4116 \n",
       "Q 875 4013 500 3803 \n",
       "L 500 4441 \n",
       "Q 881 4594 1212 4672 \n",
       "Q 1544 4750 1819 4750 \n",
       "Q 2544 4750 2975 4387 \n",
       "Q 3406 4025 3406 3419 \n",
       "Q 3406 3131 3298 2873 \n",
       "Q 3191 2616 2906 2266 \n",
       "Q 2828 2175 2409 1742 \n",
       "Q 1991 1309 1228 531 \n",
       "z\n",
       "\" id=\"DejaVuSans-32\" transform=\"scale(0.015625)\"/>\n",
       "       </defs>\n",
       "       <use xlink:href=\"#DejaVuSans-2212\"/>\n",
       "       <use x=\"83.789062\" xlink:href=\"#DejaVuSans-32\"/>\n",
       "       <use x=\"147.412109\" xlink:href=\"#DejaVuSans-30\"/>\n",
       "       <use x=\"211.035156\" xlink:href=\"#DejaVuSans-30\"/>\n",
       "      </g>\n",
       "     </g>\n",
       "    </g>\n",
       "    <g id=\"ytick_9\">\n",
       "     <g id=\"line2d_19\">\n",
       "      <g>\n",
       "       <use style=\"stroke:#000000;stroke-width:0.8;\" x=\"276.277488\" xlink:href=\"#mba3a25f39f\" y=\"159.305802\"/>\n",
       "      </g>\n",
       "     </g>\n",
       "     <g id=\"text_15\">\n",
       "      <!-- −100 -->\n",
       "      <g transform=\"translate(283.277488 163.105021)scale(0.1 -0.1)\">\n",
       "       <use xlink:href=\"#DejaVuSans-2212\"/>\n",
       "       <use x=\"83.789062\" xlink:href=\"#DejaVuSans-31\"/>\n",
       "       <use x=\"147.412109\" xlink:href=\"#DejaVuSans-30\"/>\n",
       "       <use x=\"211.035156\" xlink:href=\"#DejaVuSans-30\"/>\n",
       "      </g>\n",
       "     </g>\n",
       "    </g>\n",
       "    <g id=\"ytick_10\">\n",
       "     <g id=\"line2d_20\">\n",
       "      <g>\n",
       "       <use style=\"stroke:#000000;stroke-width:0.8;\" x=\"276.277488\" xlink:href=\"#mba3a25f39f\" y=\"133.2\"/>\n",
       "      </g>\n",
       "     </g>\n",
       "     <g id=\"text_16\">\n",
       "      <!-- 0 -->\n",
       "      <g transform=\"translate(283.277488 136.999219)scale(0.1 -0.1)\">\n",
       "       <use xlink:href=\"#DejaVuSans-30\"/>\n",
       "      </g>\n",
       "     </g>\n",
       "    </g>\n",
       "    <g id=\"ytick_11\">\n",
       "     <g id=\"line2d_21\">\n",
       "      <g>\n",
       "       <use style=\"stroke:#000000;stroke-width:0.8;\" x=\"276.277488\" xlink:href=\"#mba3a25f39f\" y=\"107.094198\"/>\n",
       "      </g>\n",
       "     </g>\n",
       "     <g id=\"text_17\">\n",
       "      <!-- 100 -->\n",
       "      <g transform=\"translate(283.277488 110.893416)scale(0.1 -0.1)\">\n",
       "       <use xlink:href=\"#DejaVuSans-31\"/>\n",
       "       <use x=\"63.623047\" xlink:href=\"#DejaVuSans-30\"/>\n",
       "       <use x=\"127.246094\" xlink:href=\"#DejaVuSans-30\"/>\n",
       "      </g>\n",
       "     </g>\n",
       "    </g>\n",
       "    <g id=\"ytick_12\">\n",
       "     <g id=\"line2d_22\">\n",
       "      <g>\n",
       "       <use style=\"stroke:#000000;stroke-width:0.8;\" x=\"276.277488\" xlink:href=\"#mba3a25f39f\" y=\"80.988395\"/>\n",
       "      </g>\n",
       "     </g>\n",
       "     <g id=\"text_18\">\n",
       "      <!-- 200 -->\n",
       "      <g transform=\"translate(283.277488 84.787614)scale(0.1 -0.1)\">\n",
       "       <use xlink:href=\"#DejaVuSans-32\"/>\n",
       "       <use x=\"63.623047\" xlink:href=\"#DejaVuSans-30\"/>\n",
       "       <use x=\"127.246094\" xlink:href=\"#DejaVuSans-30\"/>\n",
       "      </g>\n",
       "     </g>\n",
       "    </g>\n",
       "    <g id=\"ytick_13\">\n",
       "     <g id=\"line2d_23\">\n",
       "      <g>\n",
       "       <use style=\"stroke:#000000;stroke-width:0.8;\" x=\"276.277488\" xlink:href=\"#mba3a25f39f\" y=\"54.882593\"/>\n",
       "      </g>\n",
       "     </g>\n",
       "     <g id=\"text_19\">\n",
       "      <!-- 300 -->\n",
       "      <g transform=\"translate(283.277488 58.681812)scale(0.1 -0.1)\">\n",
       "       <use xlink:href=\"#DejaVuSans-33\"/>\n",
       "       <use x=\"63.623047\" xlink:href=\"#DejaVuSans-30\"/>\n",
       "       <use x=\"127.246094\" xlink:href=\"#DejaVuSans-30\"/>\n",
       "      </g>\n",
       "     </g>\n",
       "    </g>\n",
       "    <g id=\"ytick_14\">\n",
       "     <g id=\"line2d_24\">\n",
       "      <g>\n",
       "       <use style=\"stroke:#000000;stroke-width:0.8;\" x=\"276.277488\" xlink:href=\"#mba3a25f39f\" y=\"28.776791\"/>\n",
       "      </g>\n",
       "     </g>\n",
       "     <g id=\"text_20\">\n",
       "      <!-- 400 -->\n",
       "      <g transform=\"translate(283.277488 32.576009)scale(0.1 -0.1)\">\n",
       "       <use xlink:href=\"#DejaVuSans-34\"/>\n",
       "       <use x=\"63.623047\" xlink:href=\"#DejaVuSans-30\"/>\n",
       "       <use x=\"127.246094\" xlink:href=\"#DejaVuSans-30\"/>\n",
       "      </g>\n",
       "     </g>\n",
       "    </g>\n",
       "   </g>\n",
       "   <g id=\"LineCollection_1\"/>\n",
       "   <g id=\"patch_9\">\n",
       "    <path d=\"M 265.189488 244.08 \n",
       "L 265.189488 243.21375 \n",
       "L 265.189488 23.18625 \n",
       "L 265.189488 22.32 \n",
       "L 276.277488 22.32 \n",
       "L 276.277488 23.18625 \n",
       "L 276.277488 243.21375 \n",
       "L 276.277488 244.08 \n",
       "z\n",
       "\" style=\"fill:none;stroke:#000000;stroke-linecap:square;stroke-linejoin:miter;stroke-width:0.8;\"/>\n",
       "   </g>\n",
       "  </g>\n",
       " </g>\n",
       " <defs>\n",
       "  <clipPath id=\"pbb536acf4a\">\n",
       "   <rect height=\"221.76\" width=\"11.088\" x=\"265.189488\" y=\"22.32\"/>\n",
       "  </clipPath>\n",
       " </defs>\n",
       "</svg>\n"
      ],
      "text/plain": [
       "Figure(PyObject <Figure size 560x400 with 2 Axes>)"
      ]
     },
     "metadata": {},
     "output_type": "display_data"
    }
   ],
   "source": [
    "plot(∇² \\ dϕ, title=L\"\\phi \\; {\\rm gradient}\");"
   ]
  },
  {
   "cell_type": "markdown",
   "id": "4caa7014",
   "metadata": {
    "slideshow": {
     "slide_type": "slide"
    }
   },
   "source": [
    "# Other interesting links"
   ]
  },
  {
   "cell_type": "markdown",
   "id": "c8a0f783",
   "metadata": {},
   "source": [
    "* *Useful Algorithms That Are Not Optimized By Jax, PyTorch, or Tensorflow* https://www.stochasticlifestyle.com/useful-algorithms-that-are-not-optimized-by-jax-pytorch-or-tensorflow/\n",
    "* *The Unreasonable Effectiveness of Multiple Dispatch* (one of MM's favorite talks on the subject) https://www.youtube.com/watch?v=kc9HwsxE1OY\n",
    "* JuliaCon talk in 5 days on the next-gen of Zygote called Diffractor which is (supposedly) even better: https://pretalx.com/juliacon2021/talk/7SQHJH/"
   ]
  },
  {
   "cell_type": "markdown",
   "id": "cded88a5",
   "metadata": {
    "slideshow": {
     "slide_type": "slide"
    }
   },
   "source": [
    "# Conclusion"
   ]
  },
  {
   "cell_type": "code",
   "execution_count": null,
   "id": "985fe125",
   "metadata": {},
   "outputs": [],
   "source": []
  }
 ],
 "metadata": {
  "celltoolbar": "Slideshow",
  "kernelspec": {
   "display_name": "Julia 1.6.1",
   "language": "julia",
   "name": "julia-1.6"
  },
  "language_info": {
   "file_extension": ".jl",
   "mimetype": "application/julia",
   "name": "julia",
   "version": "1.6.1"
  }
 },
 "nbformat": 4,
 "nbformat_minor": 5
}
